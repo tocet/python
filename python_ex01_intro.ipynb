{
  "nbformat": 4,
  "nbformat_minor": 0,
  "metadata": {
    "colab": {
      "provenance": []
    },
    "kernelspec": {
      "name": "python3",
      "display_name": "Python 3"
    },
    "language_info": {
      "name": "python"
    }
  },
  "cells": [
    {
      "cell_type": "markdown",
      "source": [
        "**Introduction to Python programming / Wprowadzenie do programowania w języku Python**"
      ],
      "metadata": {
        "id": "tcW_uphoYQSS"
      }
    },
    {
      "cell_type": "markdown",
      "source": [
        "ver. 2025.10"
      ],
      "metadata": {
        "id": "uS0UveHeYlpX"
      }
    },
    {
      "cell_type": "markdown",
      "source": [
        "**Ex 1. Scalar Objects / Typy danych skalarnych**"
      ],
      "metadata": {
        "id": "AmV6bSnIwkvZ"
      }
    },
    {
      "cell_type": "code",
      "source": [
        "number = 10\n",
        "type(number)"
      ],
      "metadata": {
        "id": "iHPfJcMgwyNV",
        "collapsed": true
      },
      "execution_count": null,
      "outputs": []
    },
    {
      "cell_type": "code",
      "source": [
        "number = 1.0\n",
        "type(number)"
      ],
      "metadata": {
        "id": "GLBhLQz_xIHY"
      },
      "execution_count": null,
      "outputs": []
    },
    {
      "cell_type": "code",
      "source": [
        "bool_var = True   # False\n",
        "type(bool_var)"
      ],
      "metadata": {
        "id": "T7Bfe9vExL91"
      },
      "execution_count": null,
      "outputs": []
    },
    {
      "cell_type": "code",
      "source": [
        "number: int = 1\n",
        "Number: float = 1.0\n",
        "print(number)\n",
        "print(Number)"
      ],
      "metadata": {
        "id": "_5fCOHWzUIzT"
      },
      "execution_count": null,
      "outputs": []
    },
    {
      "cell_type": "code",
      "source": [
        "number: str = 1\n",
        "Number: int = 1.0\n",
        "print(number)\n",
        "print(type(number))\n",
        "print(Number)"
      ],
      "metadata": {
        "id": "uXByhNFxGF51"
      },
      "execution_count": null,
      "outputs": []
    },
    {
      "cell_type": "markdown",
      "source": [
        "**Ex 2. Print - printing the message to the standard output device / wyświetlanie w konsoli**"
      ],
      "metadata": {
        "id": "wTnYCwWNJP2W"
      }
    },
    {
      "cell_type": "markdown",
      "source": [
        "https://www.kdnuggets.com/beginners-guide-to-string-manipulation-in-python"
      ],
      "metadata": {
        "id": "VmsOdLKRlxbu"
      }
    },
    {
      "cell_type": "code",
      "source": [
        "x, y, z = 0, 2.0, 5\n",
        "print('x = ',x)\n",
        "print('y = {:.2f}'.format(y))\n",
        "print(f'z = {y*z}')"
      ],
      "metadata": {
        "id": "Pdy7yKaTXnlq"
      },
      "execution_count": null,
      "outputs": []
    },
    {
      "cell_type": "code",
      "source": [
        "var: int = 10\n",
        "print(f'{var=}')"
      ],
      "metadata": {
        "id": "0VQGZGbUQz8O"
      },
      "execution_count": null,
      "outputs": []
    },
    {
      "cell_type": "code",
      "source": [
        "print(f'{5+5=}')\n",
        "print(f'{5 + 5 = }')"
      ],
      "metadata": {
        "id": "BOnvl0CZRlLr"
      },
      "execution_count": null,
      "outputs": []
    },
    {
      "cell_type": "code",
      "source": [
        "var: float = 3.1415926\n",
        "print(f'{var:.4f}')"
      ],
      "metadata": {
        "id": "DYPeznTOR8td"
      },
      "execution_count": null,
      "outputs": []
    },
    {
      "cell_type": "code",
      "source": [
        "var: float = 0.4526\n",
        "print(f'{var:.2%}')\n",
        "print(f'{var:.1%}')"
      ],
      "metadata": {
        "id": "vCwFlxtuSX6n"
      },
      "execution_count": null,
      "outputs": []
    },
    {
      "cell_type": "code",
      "source": [
        "var: int = 2_000_000_000_000\n",
        "print(var)\n",
        "print(f'{var:,}')\n",
        "print(f'{var:_}')"
      ],
      "metadata": {
        "id": "AMCdNEcGS-2y"
      },
      "execution_count": null,
      "outputs": []
    },
    {
      "cell_type": "code",
      "source": [
        "# nested f-strings\n",
        "print(f'{2*2} {f\"{3*3}\"}')"
      ],
      "metadata": {
        "id": "K8TaUiiSU5Ct"
      },
      "execution_count": null,
      "outputs": []
    },
    {
      "cell_type": "code",
      "source": [
        "txt: str = 'Python'\n",
        "print(f'{txt:_>10}')\n",
        "print(f'{txt:*^12}')\n",
        "print(f'{txt:+<10}')"
      ],
      "metadata": {
        "id": "ZWmtPdshVjaA"
      },
      "execution_count": null,
      "outputs": []
    },
    {
      "cell_type": "code",
      "source": [
        "txt: str = 'Python'\n",
        "print(f'{txt:>10}')\n",
        "print(f'{txt:^10}')\n",
        "print(f'{txt:<10}: is script language')"
      ],
      "metadata": {
        "id": "bCPhx1utWOnT"
      },
      "execution_count": null,
      "outputs": []
    },
    {
      "cell_type": "code",
      "source": [
        "txt: str = 'Python'\n",
        "idx: int = 15\n",
        "print(f'{txt:>{idx}}')\n",
        "print(f'{txt:^{idx+5}}')\n",
        "print(f'{txt:{idx}}')"
      ],
      "metadata": {
        "id": "Kt6-TDmUWjGa"
      },
      "execution_count": null,
      "outputs": []
    },
    {
      "cell_type": "markdown",
      "source": [
        "**Ex 3. Arithmetic Operators / Operatory matematyczne**"
      ],
      "metadata": {
        "id": "FoZRcaAQx9zX"
      }
    },
    {
      "cell_type": "markdown",
      "source": [
        "https://www.w3schools.com/python/python_operators.asp"
      ],
      "metadata": {
        "id": "oGy_h6e6IF0H"
      }
    },
    {
      "cell_type": "code",
      "source": [
        "# Division - integer\n",
        "print(7//4)\n",
        "# Division - modulus / reminder\n",
        "print(7%4)\n",
        "# Exponentiation\n",
        "print(2**5)"
      ],
      "metadata": {
        "id": "7t709RagyCOz"
      },
      "execution_count": null,
      "outputs": []
    },
    {
      "cell_type": "markdown",
      "source": [
        "**Ex 4. Strings / Obiekty typu string**"
      ],
      "metadata": {
        "id": "7wYV_ET3zFU2"
      }
    },
    {
      "cell_type": "markdown",
      "source": [
        "https://www.w3schools.com/python/python_strings.asp"
      ],
      "metadata": {
        "id": "dmVSRO1eIgQD"
      }
    },
    {
      "cell_type": "code",
      "source": [
        "a = \"Python\"\n",
        "b = \"language\"\n",
        "c = a + b\n",
        "print(c)\n",
        "c = a + \" \" + b\n",
        "print(c)\n",
        "c = 2 * a + b\n",
        "print(c)"
      ],
      "metadata": {
        "id": "mZulYXhc2eKv"
      },
      "execution_count": null,
      "outputs": []
    },
    {
      "cell_type": "code",
      "source": [
        "a = \"Python\"\n",
        "print(len(a))"
      ],
      "metadata": {
        "id": "lznIJS-63PAg"
      },
      "execution_count": null,
      "outputs": []
    },
    {
      "cell_type": "code",
      "source": [
        "print(a[0])"
      ],
      "metadata": {
        "id": "KHxyq0NwLc9J"
      },
      "execution_count": null,
      "outputs": []
    },
    {
      "cell_type": "code",
      "source": [
        "print(a[1])"
      ],
      "metadata": {
        "id": "qRDgWYt-Lc64"
      },
      "execution_count": null,
      "outputs": []
    },
    {
      "cell_type": "code",
      "source": [
        "print(a[-1])"
      ],
      "metadata": {
        "id": "ToFZI5wTLc12"
      },
      "execution_count": null,
      "outputs": []
    },
    {
      "cell_type": "code",
      "source": [
        "print(a[-2])"
      ],
      "metadata": {
        "id": "BEokpGneLctC"
      },
      "execution_count": null,
      "outputs": []
    },
    {
      "cell_type": "markdown",
      "source": [
        "**Ex 5. Modify Strings / Praca z obiektami typu string**"
      ],
      "metadata": {
        "id": "nI6a3wiRJ2pJ"
      }
    },
    {
      "cell_type": "code",
      "source": [
        "# String slicing - substrings\n",
        "a = \"Python languages\"\n",
        "print(a[2:5])   # [start:stop-1]"
      ],
      "metadata": {
        "id": "bUXeouFh3yD2"
      },
      "execution_count": null,
      "outputs": []
    },
    {
      "cell_type": "code",
      "source": [
        "print(a[0:8:3]) # [start:stop-1:step]"
      ],
      "metadata": {
        "id": "1qy5Il-RLva-"
      },
      "execution_count": null,
      "outputs": []
    },
    {
      "cell_type": "code",
      "source": [
        "print(a[::2])"
      ],
      "metadata": {
        "id": "bQLAlCa4LvSq"
      },
      "execution_count": null,
      "outputs": []
    },
    {
      "cell_type": "code",
      "source": [
        "print(a[::-1])"
      ],
      "metadata": {
        "id": "2XiCvVy9LvK6"
      },
      "execution_count": null,
      "outputs": []
    },
    {
      "cell_type": "code",
      "source": [
        "print(a[6:2:-2])"
      ],
      "metadata": {
        "id": "KL7PaNPqL2FZ"
      },
      "execution_count": null,
      "outputs": []
    },
    {
      "cell_type": "code",
      "source": [
        "print(a[4:1])"
      ],
      "metadata": {
        "id": "bVazERv2Lu9j"
      },
      "execution_count": null,
      "outputs": []
    },
    {
      "cell_type": "code",
      "source": [
        "# String are immutable\n",
        "a = \"Python language\"\n",
        "a[2]='X'"
      ],
      "metadata": {
        "id": "CunAPgG2VCKF"
      },
      "execution_count": null,
      "outputs": []
    },
    {
      "cell_type": "code",
      "source": [
        "a = \"Python language\"\n",
        "a = a[:2] + \"X\" + a[3:]\n",
        "print(a)"
      ],
      "metadata": {
        "id": "UF55HquU8Z-G"
      },
      "execution_count": null,
      "outputs": []
    },
    {
      "cell_type": "code",
      "source": [
        "x = input(\"Enter text: \")\n",
        "print(2*x)"
      ],
      "metadata": {
        "id": "zmI2v0KmGjKI"
      },
      "execution_count": null,
      "outputs": []
    },
    {
      "cell_type": "markdown",
      "source": [
        "**Ex 6. from ... import - Python modules / Dodanie modułu/biblioteki**"
      ],
      "metadata": {
        "id": "U-H_Jj5ZtGEW"
      }
    },
    {
      "cell_type": "markdown",
      "source": [
        "https://www.w3schools.com/python/python_modules.asp"
      ],
      "metadata": {
        "id": "zDKEVKplJVoL"
      }
    },
    {
      "cell_type": "code",
      "source": [
        "import datetime\n",
        "\n",
        "this_minute = datetime.datetime.today().minute\n",
        "print(this_minute)"
      ],
      "metadata": {
        "id": "YecCVC_9FxBi"
      },
      "execution_count": null,
      "outputs": []
    },
    {
      "cell_type": "code",
      "execution_count": null,
      "metadata": {
        "id": "4YnTVoa5r0aC"
      },
      "outputs": [],
      "source": [
        "from datetime import datetime\n",
        "\n",
        "this_minute = datetime.today().minute\n",
        "print(this_minute)"
      ]
    },
    {
      "cell_type": "markdown",
      "source": [
        "**Ex 7. from ... import ... as - Python modules / Dodanie modułu/biblioteki**"
      ],
      "metadata": {
        "id": "ZK0gdInYtEJT"
      }
    },
    {
      "cell_type": "code",
      "source": [
        "from datetime import datetime as dt\n",
        "\n",
        "this_minute = dt.today().minute\n",
        "print(this_minute)"
      ],
      "metadata": {
        "id": "YEr2p_g3tLvZ"
      },
      "execution_count": null,
      "outputs": []
    },
    {
      "cell_type": "code",
      "source": [
        "from datetime import datetime as dt\n",
        "now: datetime = dt.now()\n",
        "print(f'{now:%x}')\n",
        "print(f'{now:%c}')\n",
        "print(f'{now:%H:%M:%S}')"
      ],
      "metadata": {
        "id": "3vuPA-4BTtfk"
      },
      "execution_count": null,
      "outputs": []
    },
    {
      "cell_type": "markdown",
      "source": [
        "**Ex 8. Conditions and If statements / Instrukcja warunkowa (if ... elif ... else)**"
      ],
      "metadata": {
        "id": "k7fEbV67VaK3"
      }
    },
    {
      "cell_type": "markdown",
      "source": [
        "https://www.w3schools.com/python/python_conditions.asp"
      ],
      "metadata": {
        "id": "oZX3Bi2RJ0fn"
      }
    },
    {
      "cell_type": "code",
      "source": [
        "import time as t\n",
        "\n",
        "today = t.strftime(\"%A\")\n",
        "if today == \"Saturday\":\n",
        "  print(\"Python course\")\n",
        "elif today == \"Sunday\":\n",
        "  print(\"No Python classes\")\n",
        "else:\n",
        "  print(\"No classes at all\")"
      ],
      "metadata": {
        "id": "-ha_C_fc-uhf"
      },
      "execution_count": null,
      "outputs": []
    },
    {
      "cell_type": "code",
      "source": [
        "import time as t\n",
        "\n",
        "today = t.strftime(\"%A\")\n",
        "if today != \"Sonnabend\":\n",
        "  print(\"Please use English\")"
      ],
      "metadata": {
        "id": "mW_LeJ-KMn8b"
      },
      "execution_count": null,
      "outputs": []
    },
    {
      "cell_type": "code",
      "source": [
        "a = 5\n",
        "b = 10\n",
        "if a>3 and b<8:\n",
        "  print(\"True\")\n",
        "else:\n",
        "  print(\"False\")"
      ],
      "metadata": {
        "id": "r4Ta1ZRhMn2u"
      },
      "execution_count": null,
      "outputs": []
    },
    {
      "cell_type": "code",
      "source": [
        "a = 5\n",
        "b = 10\n",
        "if a>3 or b<8:\n",
        "  print(\"True\")\n",
        "else:\n",
        "  print(\"False\")"
      ],
      "metadata": {
        "id": "KjkjcRX9MnvL"
      },
      "execution_count": null,
      "outputs": []
    },
    {
      "cell_type": "code",
      "source": [
        "found = False\n",
        "if not found:\n",
        "  print(\"It is working\")\n",
        "else:\n",
        "  print(\"No it isn't\")"
      ],
      "metadata": {
        "id": "5o8932AxMxro"
      },
      "execution_count": null,
      "outputs": []
    },
    {
      "cell_type": "markdown",
      "source": [
        "**Ex 9. Python For Loops / Pętla for**"
      ],
      "metadata": {
        "id": "C12-sy6VLeZh"
      }
    },
    {
      "cell_type": "markdown",
      "source": [
        "https://www.w3schools.com/python/python_for_loops.asp"
      ],
      "metadata": {
        "id": "82IBNgz0J3kZ"
      }
    },
    {
      "cell_type": "code",
      "source": [
        "for i in [1,2,3,5]:\n",
        "    print(i)"
      ],
      "metadata": {
        "id": "NWiI-vtD-7VU"
      },
      "execution_count": null,
      "outputs": []
    },
    {
      "cell_type": "code",
      "source": [
        "for i in \"Python\":\n",
        "    print(i)"
      ],
      "metadata": {
        "id": "BWc0H5s-NHXA"
      },
      "execution_count": null,
      "outputs": []
    },
    {
      "cell_type": "code",
      "source": [
        "for i in range(4):\n",
        "  print(i)\n",
        "  print(\"Python\")"
      ],
      "metadata": {
        "id": "KcgE6rF_NHQ5"
      },
      "execution_count": null,
      "outputs": []
    },
    {
      "cell_type": "code",
      "source": [
        "print(range(4))"
      ],
      "metadata": {
        "id": "inoXcRDC_BUv"
      },
      "execution_count": null,
      "outputs": []
    },
    {
      "cell_type": "code",
      "source": [
        "print(list(range(4)))"
      ],
      "metadata": {
        "id": "iNHd9BysNW01"
      },
      "execution_count": null,
      "outputs": []
    },
    {
      "cell_type": "code",
      "source": [
        "print(list(range(4,10)))"
      ],
      "metadata": {
        "id": "XWKEyLzCNWth"
      },
      "execution_count": null,
      "outputs": []
    },
    {
      "cell_type": "code",
      "source": [
        "print(list(range(0,8,2)))"
      ],
      "metadata": {
        "id": "8mwMpp8jNWlP"
      },
      "execution_count": null,
      "outputs": []
    },
    {
      "cell_type": "code",
      "source": [
        "print(list(range(8,0,-2)))"
      ],
      "metadata": {
        "id": "5JgHcZoJNWbN"
      },
      "execution_count": null,
      "outputs": []
    },
    {
      "cell_type": "code",
      "source": [
        "items = ['a','b','c','d','e']\n",
        "\n",
        "for item in items:\n",
        "  if item == 'b':\n",
        "    items.remove('b')   # ['a','c','d','e']\n",
        "  else:\n",
        "    print(item)"
      ],
      "metadata": {
        "id": "p_1_7gOYP7aP"
      },
      "execution_count": null,
      "outputs": []
    },
    {
      "cell_type": "code",
      "source": [
        "items = ['a','b','c','d','e']\n",
        "new_items = []\n",
        "\n",
        "for item in items:\n",
        "  if item == 'b':\n",
        "    continue\n",
        "  else:\n",
        "    print(item)\n",
        "    new_items.append(item)"
      ],
      "metadata": {
        "id": "aKHvKGMQQYwN"
      },
      "execution_count": null,
      "outputs": []
    },
    {
      "cell_type": "markdown",
      "source": [
        "**Ex 10. The while loop / Pętla while**"
      ],
      "metadata": {
        "id": "vA0vX4HZLw-m"
      }
    },
    {
      "cell_type": "markdown",
      "source": [
        "https://www.w3schools.com/python/python_while_loops.asp"
      ],
      "metadata": {
        "id": "508RNT7VKCsi"
      }
    },
    {
      "cell_type": "code",
      "source": [
        "# while\n",
        "counter = 0\n",
        "\n",
        "while counter < 3:\n",
        "    print(\"Inside while\")\n",
        "    counter += 1\n",
        "else:\n",
        "    print(\"Inside else\")"
      ],
      "metadata": {
        "id": "Nh5WeU53_Lb1"
      },
      "execution_count": null,
      "outputs": []
    },
    {
      "cell_type": "code",
      "source": [
        "# do-while\n",
        "while True:\n",
        "    number = int(input(\"Enter a positive number: \"))\n",
        "    if number > 0:\n",
        "        print(\"OK\")\n",
        "        break\n",
        "    print('Negative number')"
      ],
      "metadata": {
        "id": "lHV7tNhgNnlB"
      },
      "execution_count": null,
      "outputs": []
    },
    {
      "cell_type": "code",
      "source": [
        "# pass\n",
        "while int(input(\"Enter a number geater than 10: \")) <= 10:\n",
        "  pass\n",
        "print(\"Ok\")"
      ],
      "metadata": {
        "id": "4ZMM1jxGNna8"
      },
      "execution_count": null,
      "outputs": []
    },
    {
      "cell_type": "markdown",
      "source": [
        "**Ex 11. Match-case**"
      ],
      "metadata": {
        "id": "SDi0yG9rMGR9"
      }
    },
    {
      "cell_type": "code",
      "source": [
        "def weekday(n):\n",
        "   match n:\n",
        "      case 0: return \"Monday\"\n",
        "      case 1: return \"Tuesday\"\n",
        "      case 2: return \"Wednesday\"\n",
        "      case 3: return \"Thursday\"\n",
        "      case 4: return \"Friday\"\n",
        "      case 5: return \"Saturday\"\n",
        "      case 6: return \"Sunday\"\n",
        "      case _: return \"Invalid day number\"\n",
        "\n",
        "print(weekday(3))\n",
        "print(weekday(6))\n",
        "print(weekday(7))"
      ],
      "metadata": {
        "id": "gRZGBXVM_OYa"
      },
      "execution_count": null,
      "outputs": []
    },
    {
      "cell_type": "markdown",
      "source": [
        "**Ex 12. Binary conversion / Reprezentacja binarna**"
      ],
      "metadata": {
        "id": "KplAnpblMXXF"
      }
    },
    {
      "cell_type": "code",
      "source": [
        "x = 0\n",
        "for i in range(10):\n",
        "  x += 0.1\n",
        "print(x==1)\n",
        "print(x, '==', 10*0.1)"
      ],
      "metadata": {
        "id": "k9QOhzPCOwQE"
      },
      "execution_count": null,
      "outputs": []
    },
    {
      "cell_type": "markdown",
      "source": [
        "**Ex 13. List / Lista**"
      ],
      "metadata": {
        "id": "wdsV-MI8Ow6W"
      }
    },
    {
      "cell_type": "markdown",
      "source": [
        "https://www.w3schools.com/python/python_lists.asp"
      ],
      "metadata": {
        "id": "Aglvp-_aKktT"
      }
    },
    {
      "cell_type": "code",
      "source": [
        "temps = [ 0.0, 100.0, -17.78, 27.5, 37.78, 7.39 ]\n",
        "print(temps)"
      ],
      "metadata": {
        "id": "8O0StvRO_RdY"
      },
      "execution_count": null,
      "outputs": []
    },
    {
      "cell_type": "code",
      "source": [
        "car_details = [ 'Kia', 'Sportage', 1.6, 3200]\n",
        "print(car_details)"
      ],
      "metadata": {
        "id": "fh-O8BFnN-q2"
      },
      "execution_count": null,
      "outputs": []
    },
    {
      "cell_type": "code",
      "source": [
        "list_of_lists = [ [ 1, 2, 3], ['a', 'b', 'c' ], [ 'One','Two','Three' ] ]\n",
        "print(list_of_lists)"
      ],
      "metadata": {
        "collapsed": true,
        "id": "HSbXpF2JN-lt"
      },
      "execution_count": null,
      "outputs": []
    },
    {
      "cell_type": "code",
      "source": [
        "list_1 = [1,2,3]\n",
        "list_2 = [4,5,6,7,8]\n",
        "\n",
        "print(list_1 + list_2)"
      ],
      "metadata": {
        "id": "s3wkxFgsraOW"
      },
      "execution_count": null,
      "outputs": []
    },
    {
      "cell_type": "code",
      "source": [
        "list_2 = [4,5,6,7,8]\n",
        "max(list_2)"
      ],
      "metadata": {
        "id": "G9oiEW0wOIO0"
      },
      "execution_count": null,
      "outputs": []
    },
    {
      "cell_type": "code",
      "source": [
        "list_1 = [1,2,3]\n",
        "print(len(list_1))"
      ],
      "metadata": {
        "id": "ZQ4tIQrfOIMB"
      },
      "execution_count": null,
      "outputs": []
    },
    {
      "cell_type": "code",
      "source": [
        "list_1 = [1,2,3]\n",
        "print(list_1[0])"
      ],
      "metadata": {
        "id": "74i45NSQOIGV"
      },
      "execution_count": null,
      "outputs": []
    },
    {
      "cell_type": "code",
      "source": [
        "list_1 = [ 'Kia', 'Sportage', 1.6, 3200]\n",
        "print(list_1[-2])"
      ],
      "metadata": {
        "id": "U7yGUKczO1eg"
      },
      "execution_count": null,
      "outputs": []
    },
    {
      "cell_type": "code",
      "source": [
        "list_1 = [1,2,3]\n",
        "list_1[0] = 10    # mutability\n",
        "print(list_1)"
      ],
      "metadata": {
        "id": "F94Rqw-OOH_W"
      },
      "execution_count": null,
      "outputs": []
    },
    {
      "cell_type": "code",
      "source": [
        "vowels = ['a', 'e', 'i', 'o', 'u']\n",
        "word = input(\"Write a word: \")\n",
        "found = []\n",
        "for letter in word:\n",
        "    if letter in vowels:\n",
        "        if letter not in found:\n",
        "            found.append(letter)\n",
        "\n",
        "for vowel in found:\n",
        "    print(vowel)"
      ],
      "metadata": {
        "id": "hZ4tD-rr_U_z"
      },
      "execution_count": null,
      "outputs": []
    },
    {
      "cell_type": "markdown",
      "source": [
        "**Ex 14. Remove List Items / Lista - usuwanie elementów**"
      ],
      "metadata": {
        "id": "004QiFdoawgp"
      }
    },
    {
      "cell_type": "code",
      "source": [
        "numbers = [1,2,4,8]\n",
        "print(numbers)\n",
        "\n",
        "# deleting an element with a specific value\n",
        "numbers.remove(4)\n",
        "print(numbers)"
      ],
      "metadata": {
        "id": "GbmrpkzY_Xi3"
      },
      "execution_count": null,
      "outputs": []
    },
    {
      "cell_type": "code",
      "source": [
        "numbers = [1,2,4,8]\n",
        "print(numbers)\n",
        "\n",
        "# deleting an element with a specific index\n",
        "del_num = numbers.pop(1)\n",
        "print(del_num)"
      ],
      "metadata": {
        "id": "yYB3XbXEPK-U"
      },
      "execution_count": null,
      "outputs": []
    },
    {
      "cell_type": "code",
      "source": [
        "numbers = [1,2,4,8]\n",
        "print(numbers)\n",
        "\n",
        "del numbers[0]\n",
        "print(numbers)"
      ],
      "metadata": {
        "id": "oce1LfsgPK2S"
      },
      "execution_count": null,
      "outputs": []
    },
    {
      "cell_type": "markdown",
      "source": [
        "**Ex 15. Add list items / Lista - dodawanie elementów**"
      ],
      "metadata": {
        "id": "-v0tZzJCa2I5"
      }
    },
    {
      "cell_type": "code",
      "source": [
        "numbers = []\n",
        "print(len(numbers))\n",
        "\n",
        "numbers.append(10)\n",
        "print(numbers)"
      ],
      "metadata": {
        "id": "N8OjHywla21M"
      },
      "execution_count": null,
      "outputs": []
    },
    {
      "cell_type": "code",
      "source": [
        "numbers = [1,2,3,4]\n",
        "print(numbers)\n",
        "\n",
        "# extension of the list of objects\n",
        "numbers.extend([5,6])\n",
        "print(numbers)"
      ],
      "metadata": {
        "id": "UtCVmcIvQKEK"
      },
      "execution_count": null,
      "outputs": []
    },
    {
      "cell_type": "code",
      "source": [
        "print(numbers)\n",
        "numbers.extend([[20,21],[31,32]])\n",
        "print(numbers)"
      ],
      "metadata": {
        "id": "82Y5iiHdQJ72"
      },
      "execution_count": null,
      "outputs": []
    },
    {
      "cell_type": "code",
      "source": [
        "print(numbers)\n",
        "# extension of object (5) inserted BEFORE index (0)\n",
        "numbers.insert(0,5)\n",
        "print(numbers)"
      ],
      "metadata": {
        "id": "gU9CbzbPQTco"
      },
      "execution_count": null,
      "outputs": []
    },
    {
      "cell_type": "code",
      "source": [
        "print(numbers)\n",
        "numbers.insert(1,25)\n",
        "print(numbers)"
      ],
      "metadata": {
        "id": "1d45xTSBQVp2"
      },
      "execution_count": null,
      "outputs": []
    },
    {
      "cell_type": "code",
      "source": [
        "# The id() function returns a unique id for the specified object.\n",
        "list_1 = [1,2,3]\n",
        "list_2 = list_1[:]\n",
        "print(id(list_1))\n",
        "print(id(list_2))"
      ],
      "metadata": {
        "id": "G0qEAUZoQBc7"
      },
      "execution_count": null,
      "outputs": []
    },
    {
      "cell_type": "code",
      "source": [
        "list_1.append(4)\n",
        "list_2.append(4)\n",
        "print(id(list_1))\n",
        "print(id(list_2))"
      ],
      "metadata": {
        "id": "DXG71JjCQERM"
      },
      "execution_count": null,
      "outputs": []
    },
    {
      "cell_type": "code",
      "source": [
        "list_1.clear()\n",
        "list_2 = []\n",
        "print(id(list_1))\n",
        "print(id(list_2))"
      ],
      "metadata": {
        "id": "0FHCQEnbQEHd"
      },
      "execution_count": null,
      "outputs": []
    },
    {
      "cell_type": "code",
      "source": [
        "numbers = [1,2,3,4]\n",
        "print(numbers)\n",
        "\n",
        "numbers.append([5,6])\n",
        "print(numbers)"
      ],
      "metadata": {
        "colab": {
          "base_uri": "https://localhost:8080/"
        },
        "id": "MP7C_XbU-_w_",
        "outputId": "31584388-599f-4219-9ee4-00a294cbe55d"
      },
      "execution_count": null,
      "outputs": [
        {
          "output_type": "stream",
          "name": "stdout",
          "text": [
            "[1, 2, 3, 4]\n",
            "[1, 2, 3, 4, [5, 6]]\n"
          ]
        }
      ]
    },
    {
      "cell_type": "code",
      "source": [
        "#In Python everythins is an object\n",
        "numbers = [1,2,3,4]\n",
        "print(numbers)\n",
        "numbers = numbers.append(100)\n",
        "print(numbers)"
      ],
      "metadata": {
        "colab": {
          "base_uri": "https://localhost:8080/"
        },
        "id": "IpXnejFC9vxy",
        "outputId": "4ea78d3c-807e-4b34-fa77-ca819fcdb02d"
      },
      "execution_count": null,
      "outputs": [
        {
          "output_type": "stream",
          "name": "stdout",
          "text": [
            "[1, 2, 3, 4]\n",
            "None\n"
          ]
        }
      ]
    },
    {
      "cell_type": "markdown",
      "source": [
        "**Ex 16. Copy a list / Lista - kopiowanie**"
      ],
      "metadata": {
        "id": "KGpgubndbtC6"
      }
    },
    {
      "cell_type": "code",
      "source": [
        "numbers = list(range(10))\n",
        "numbers2 = numbers\n",
        "numbers3 = numbers.copy()\n",
        "print(numbers)\n",
        "print(numbers2)\n",
        "print(numbers3)"
      ],
      "metadata": {
        "id": "RZtDKBEobtV9",
        "collapsed": true
      },
      "execution_count": null,
      "outputs": []
    },
    {
      "cell_type": "code",
      "source": [
        "numbers.append(100)\n",
        "print(numbers)\n",
        "print(numbers2)\n",
        "print(numbers3)"
      ],
      "metadata": {
        "id": "EGAr4eUlgdyW"
      },
      "execution_count": null,
      "outputs": []
    },
    {
      "cell_type": "code",
      "source": [
        "numbers = list(range(10))\n",
        "numbers2 = numbers[:]\n",
        "numbers2.append(100)\n",
        "print(numbers)\n",
        "print(numbers2)"
      ],
      "metadata": {
        "colab": {
          "base_uri": "https://localhost:8080/"
        },
        "id": "yp9qc7aK7mwG",
        "outputId": "ca7b0ae1-a97b-48ca-9ae0-bb117714841f"
      },
      "execution_count": null,
      "outputs": [
        {
          "output_type": "stream",
          "name": "stdout",
          "text": [
            "[0, 1, 2, 3, 4, 5, 6, 7, 8, 9]\n",
            "[0, 1, 2, 3, 4, 5, 6, 7, 8, 9, 100]\n"
          ]
        }
      ]
    },
    {
      "cell_type": "code",
      "source": [
        "from typing import Any\n",
        "from copy import deepcopy\n",
        "\n",
        "a: list[Any] = [1, ['A', 'B'], 2]\n",
        "b: list[Any] = a.copy()\n",
        "print(f'a = {a}')\n",
        "print(f'b = {b}')\n",
        "\n",
        "b.append(100)\n",
        "b[1][0] = 'AAAAA'\n",
        "print(f'a = {a}')\n",
        "print(f'b = {b}')"
      ],
      "metadata": {
        "colab": {
          "base_uri": "https://localhost:8080/"
        },
        "id": "YcbHeVD0gDLv",
        "outputId": "dbe52eec-2e56-4fd0-c90d-1de2872e55d7"
      },
      "execution_count": 175,
      "outputs": [
        {
          "output_type": "stream",
          "name": "stdout",
          "text": [
            "a = [1, ['A', 'B'], 2]\n",
            "b = [1, ['A', 'B'], 2]\n",
            "a = [1, ['AAAAA', 'B'], 2]\n",
            "b = [1, ['AAAAA', 'B'], 2, 100]\n"
          ]
        }
      ]
    },
    {
      "cell_type": "code",
      "source": [
        "from typing import Any\n",
        "from copy import deepcopy\n",
        "\n",
        "a: list[Any] = [1, ['A', 'B'], 2]\n",
        "b: list[Any] = deepcopy(a)\n",
        "print(f'a = {a}')\n",
        "print(f'b = {b}')\n",
        "\n",
        "b.append(100)\n",
        "b[1][0] = 'real copy'\n",
        "print(f'a = {a}')\n",
        "print(f'b = {b}')"
      ],
      "metadata": {
        "colab": {
          "base_uri": "https://localhost:8080/"
        },
        "id": "Oqc9lERpg-57",
        "outputId": "1953a5fc-b695-4f5c-e70e-5dae65710728"
      },
      "execution_count": 176,
      "outputs": [
        {
          "output_type": "stream",
          "name": "stdout",
          "text": [
            "a = [1, ['A', 'B'], 2]\n",
            "b = [1, ['A', 'B'], 2]\n",
            "a = [1, ['A', 'B'], 2]\n",
            "b = [1, ['real copy', 'B'], 2, 100]\n"
          ]
        }
      ]
    },
    {
      "cell_type": "markdown",
      "source": [
        "**Ex 17. List - slicing / Lista - wycinki**"
      ],
      "metadata": {
        "id": "niukPf-IcNNh"
      }
    },
    {
      "cell_type": "code",
      "source": [
        "s_letters = \"AbCdEfGh\"\n",
        "letters = list(s_letters)\n",
        "print(s_letters)\n",
        "print(letters)"
      ],
      "metadata": {
        "id": "CCEnTbDu_XbO"
      },
      "execution_count": null,
      "outputs": []
    },
    {
      "cell_type": "code",
      "source": [
        "print(letters[3:])"
      ],
      "metadata": {
        "id": "acIckvkMRonw"
      },
      "execution_count": null,
      "outputs": []
    },
    {
      "cell_type": "code",
      "source": [
        "print(letters[:2])"
      ],
      "metadata": {
        "id": "NNAt5I4IRokx"
      },
      "execution_count": null,
      "outputs": []
    },
    {
      "cell_type": "code",
      "source": [
        "print(letters[::2])"
      ],
      "metadata": {
        "id": "nic11CHtRoiF"
      },
      "execution_count": null,
      "outputs": []
    },
    {
      "cell_type": "code",
      "source": [
        "print(letters[1:3])"
      ],
      "metadata": {
        "id": "Lpe9iwDgRob4"
      },
      "execution_count": null,
      "outputs": []
    },
    {
      "cell_type": "code",
      "source": [
        "print(letters[0:7:2])"
      ],
      "metadata": {
        "id": "2kgOEgPdRoSC"
      },
      "execution_count": null,
      "outputs": []
    },
    {
      "cell_type": "code",
      "source": [
        "for ch in letters:\n",
        "    print('\\t',ch)"
      ],
      "metadata": {
        "id": "e85q14iNRweJ"
      },
      "execution_count": null,
      "outputs": []
    },
    {
      "cell_type": "code",
      "source": [
        "for ch in letters[0:7:2]:\n",
        "    print('\\t \\t',ch)"
      ],
      "metadata": {
        "id": "3758uxWERwOq"
      },
      "execution_count": null,
      "outputs": []
    },
    {
      "cell_type": "code",
      "source": [
        "my_list = [1,3,5,7]\n",
        "my_list = [i+1 for i in my_list]\n",
        "print(my_list)"
      ],
      "metadata": {
        "id": "qboQ2Fs7_bcE"
      },
      "execution_count": null,
      "outputs": []
    },
    {
      "cell_type": "code",
      "source": [
        "my_list = [1,3,4,5,7,8]\n",
        "my_list = [i for i in my_list if i % 2 == 0]\n",
        "print(my_list)"
      ],
      "metadata": {
        "id": "jQLVGxJCR8qN"
      },
      "execution_count": null,
      "outputs": []
    },
    {
      "cell_type": "code",
      "source": [
        "my_list = [1,3,4,5,7,8]\n",
        "my_list = ['Even' if i%2 == 0 else 'Odd' for i in my_list]\n",
        "print(my_list)"
      ],
      "metadata": {
        "id": "VGGv65-JR8hu"
      },
      "execution_count": null,
      "outputs": []
    },
    {
      "cell_type": "code",
      "source": [
        "my_list = [1,3,4,5,7,8]\n",
        "def func(i):\n",
        "    if i % 2 == 0: return 'Even'\n",
        "    else: return 'Odd'\n",
        "new_list = [func(i) for i in my_list]\n",
        "print(new_list)"
      ],
      "metadata": {
        "id": "tkyEMfRfR8bG"
      },
      "execution_count": null,
      "outputs": []
    },
    {
      "cell_type": "code",
      "source": [
        "my_list = list(range(4))\n",
        "print(my_list)\n",
        "for l in my_list:\n",
        "  my_list = my_list + my_list\n",
        "  print(my_list)"
      ],
      "metadata": {
        "id": "DEI89_aY5kR1"
      },
      "execution_count": null,
      "outputs": []
    },
    {
      "cell_type": "markdown",
      "source": [
        "**Ex 18. Lists vs Strings / Listy a obiekty typu String**"
      ],
      "metadata": {
        "id": "tTC64VBbSeCT"
      }
    },
    {
      "cell_type": "code",
      "source": [
        "# String to list\n",
        "s = \"This is Python course\"\n",
        "l = list(s)\n",
        "print(l)\n",
        "l = s.split(' ')\n",
        "print(l)"
      ],
      "metadata": {
        "colab": {
          "base_uri": "https://localhost:8080/"
        },
        "id": "Zg9SeeOKAhoM",
        "outputId": "2ec4301e-d8bf-405a-94f1-8fdae0c8f8e9"
      },
      "execution_count": null,
      "outputs": [
        {
          "output_type": "stream",
          "name": "stdout",
          "text": [
            "['T', 'h', 'i', 's', ' ', 'i', 's', ' ', 'P', 'y', 't', 'h', 'o', 'n', ' ', 'c', 'o', 'u', 'r', 's', 'e']\n",
            "['This', 'is', 'Python', 'course']\n"
          ]
        }
      ]
    },
    {
      "cell_type": "code",
      "source": [
        "letters = list(\"AbCdEfGh\")\n",
        "print(letters)\n",
        "\n",
        "a = ''.join(letters)\n",
        "print(f'a = {a}')"
      ],
      "metadata": {
        "id": "idL_H34iCH3Y"
      },
      "execution_count": null,
      "outputs": []
    },
    {
      "cell_type": "code",
      "source": [
        "b = '_'.join(letters)\n",
        "print(f'b = {b}')"
      ],
      "metadata": {
        "id": "3IE_MywaSwYR"
      },
      "execution_count": null,
      "outputs": []
    },
    {
      "cell_type": "code",
      "source": [
        "c = '**'.join(letters)\n",
        "print(f'c = {c}')"
      ],
      "metadata": {
        "id": "XrL7XGRwSwRM"
      },
      "execution_count": null,
      "outputs": []
    },
    {
      "cell_type": "code",
      "source": [
        "print(''.join(letters[-3:]))"
      ],
      "metadata": {
        "id": "NYrJdLh2SwIe"
      },
      "execution_count": null,
      "outputs": []
    },
    {
      "cell_type": "code",
      "source": [
        "print(''.join(letters[::-1]))"
      ],
      "metadata": {
        "id": "jLNdtEAGS2xg"
      },
      "execution_count": null,
      "outputs": []
    },
    {
      "cell_type": "code",
      "source": [
        "print(''.join([1,2,3]))"
      ],
      "metadata": {
        "id": "u2cIEadlFPyt"
      },
      "execution_count": null,
      "outputs": []
    },
    {
      "cell_type": "markdown",
      "source": [
        "**Ex 20. Lists sorting / Sortowanie list**"
      ],
      "metadata": {
        "id": "UgljTRTaTD8j"
      }
    },
    {
      "cell_type": "code",
      "source": [
        "l = [4,2,1,19]\n",
        "print(l)\n",
        "\n",
        "l.sort()\n",
        "print(l)"
      ],
      "metadata": {
        "colab": {
          "base_uri": "https://localhost:8080/"
        },
        "id": "1ebcRBxuKudj",
        "outputId": "a7a29ef6-b64d-46bf-ff9a-fb1ca188fad2"
      },
      "execution_count": 101,
      "outputs": [
        {
          "output_type": "stream",
          "name": "stdout",
          "text": [
            "[4, 2, 1, 19]\n",
            "[1, 2, 4, 19]\n"
          ]
        }
      ]
    },
    {
      "cell_type": "code",
      "source": [
        "l = [4,2,1,19]\n",
        "print(l)\n",
        "\n",
        "l.reverse()\n",
        "print(l)"
      ],
      "metadata": {
        "colab": {
          "base_uri": "https://localhost:8080/"
        },
        "id": "1HTQu7DbTOW4",
        "outputId": "e0958d0e-7b59-456f-9832-435c6373d581"
      },
      "execution_count": 102,
      "outputs": [
        {
          "output_type": "stream",
          "name": "stdout",
          "text": [
            "[4, 2, 1, 19]\n",
            "[19, 1, 2, 4]\n"
          ]
        }
      ]
    },
    {
      "cell_type": "code",
      "source": [
        "l = [4,2,1,19]\n",
        "sorted_l = l.sort()\n",
        "print(f'l = {l}')\n",
        "print(f'sorted_l = {sorted_l}')"
      ],
      "metadata": {
        "colab": {
          "base_uri": "https://localhost:8080/"
        },
        "id": "xfR4fc8LLaaM",
        "outputId": "d62be644-d401-4fbf-ad0f-c098d9586d11"
      },
      "execution_count": 103,
      "outputs": [
        {
          "output_type": "stream",
          "name": "stdout",
          "text": [
            "l = [1, 2, 4, 19]\n",
            "sorted_l = None\n"
          ]
        }
      ]
    },
    {
      "cell_type": "markdown",
      "source": [
        "**Ex 21. Dictionary / Słownik**"
      ],
      "metadata": {
        "id": "fCUqP29xcwzZ"
      }
    },
    {
      "cell_type": "markdown",
      "source": [
        "https://www.w3schools.com/python/python_dictionaries.asp"
      ],
      "metadata": {
        "id": "ZvSuxX5WLaeD"
      }
    },
    {
      "cell_type": "code",
      "source": [
        "t_dict = {2:100}\n",
        "print(t_dict)"
      ],
      "metadata": {
        "id": "Fib89B58pNzn"
      },
      "execution_count": null,
      "outputs": []
    },
    {
      "cell_type": "code",
      "source": [
        "t_dict = {'number':100}\n",
        "print(t_dict)"
      ],
      "metadata": {
        "id": "-zwt_JcYpzUY"
      },
      "execution_count": null,
      "outputs": []
    },
    {
      "cell_type": "code",
      "source": [
        "number_1 = 2\n",
        "t_dict = {(number_1,):['1','2','3']}\n",
        "print(t_dict)"
      ],
      "metadata": {
        "id": "hgunLWF8qVqP"
      },
      "execution_count": null,
      "outputs": []
    },
    {
      "cell_type": "code",
      "source": [
        "#key - any immutable object - str,int,float,bool,tuple\n",
        "#key - must be unique\n",
        "number_1 = 2\n",
        "t_dict = {['1','2','3']:(number_1,)}\n",
        "print(t_dict)"
      ],
      "metadata": {
        "id": "MI3iQXtBqlwe"
      },
      "execution_count": null,
      "outputs": []
    },
    {
      "cell_type": "code",
      "source": [
        "person = {'Name': 'Tom',\n",
        "          'Phone': '123456789',\n",
        "          'Occupation': 'engineer',\n",
        "          'Home planet': 'Earth'}\n",
        "print(person)\n",
        "print(person['Home planet'])"
      ],
      "metadata": {
        "id": "wzPWA6-npZgE"
      },
      "execution_count": null,
      "outputs": []
    },
    {
      "cell_type": "code",
      "source": [
        "person = {'Name': 'Tom',\n",
        "          'Phone': '123456789',\n",
        "          'Occupation': 'engineer',\n",
        "          'Home planet': 'Earth'}\n",
        "print(person)\n",
        "\n",
        "person['Age'] = '21'\n",
        "print(person)"
      ],
      "metadata": {
        "id": "qQ8uGHafTwa6"
      },
      "execution_count": null,
      "outputs": []
    },
    {
      "cell_type": "code",
      "source": [
        "#vowels = {'a' : 0, 'e' : 0, 'i' : 0, 'o' : 0, 'u' : 0}\n",
        "vowels = ['a','e','i','o','u']\n",
        "found_vowels ={}\n",
        "word = input(\"Enter Your word: \")\n",
        "for letter in word:\n",
        "    if letter in vowels:\n",
        "        found_vowels.setdefault(letter,0)\n",
        "        found_vowels[letter] += 1"
      ],
      "metadata": {
        "id": "CLxzGIIn_iDe"
      },
      "execution_count": null,
      "outputs": []
    },
    {
      "cell_type": "code",
      "source": [
        "#k:v -> key:values / k:v -> klucz:wartość\n",
        "for k, v in sorted(found_vowels.items()):\n",
        "    print(k, 'found', v, 'times')"
      ],
      "metadata": {
        "id": "LelrBp1kUNWo"
      },
      "execution_count": null,
      "outputs": []
    },
    {
      "cell_type": "code",
      "source": [
        "person = {'Name': 'Tom',\n",
        "          'Phone': '123456789',\n",
        "          'Occupation': 'engineer',\n",
        "          'Home planet': 'Earth'}\n",
        "print(person)\n",
        "\n",
        "# keys only / tylko klucze\n",
        "for key in person.keys():\n",
        "  print(key.title())"
      ],
      "metadata": {
        "id": "nTL8QcT3UNTw"
      },
      "execution_count": null,
      "outputs": []
    },
    {
      "cell_type": "code",
      "source": [
        "person = {'Name': 'Tom',\n",
        "          'Phone': '123456789',\n",
        "          'Occupation': 'engineer',\n",
        "          'Home planet': 'Earth'}\n",
        "print(person)\n",
        "\n",
        "# values only / tylko wartości\n",
        "for val in person.values():\n",
        "  print(val.title())"
      ],
      "metadata": {
        "id": "e2Jr-Rt0UNOw"
      },
      "execution_count": null,
      "outputs": []
    },
    {
      "cell_type": "code",
      "source": [
        "person = {'Name': 'Tom',\n",
        "          'Phone': '123456789',\n",
        "          'Occupation': 'engineer',\n",
        "          'Home planet': 'Earth'}\n",
        "print(person)\n",
        "\n",
        "del person['Occupation']\n",
        "print(person)"
      ],
      "metadata": {
        "id": "26qy0ybFUNHX"
      },
      "execution_count": null,
      "outputs": []
    },
    {
      "cell_type": "code",
      "source": [
        "person = {'Name': 'Tom',\n",
        "          'Phone': '123456789',\n",
        "          'Occupation': 'engineer',\n",
        "          'Home planet': 'Earth'}\n",
        "print(person)\n",
        "\n",
        "print(person.get('Occupation','Key does not exist'))"
      ],
      "metadata": {
        "id": "ooJot2RVUTcn"
      },
      "execution_count": null,
      "outputs": []
    },
    {
      "cell_type": "code",
      "source": [
        "t_dict = {'Grade_1':'5.0',\n",
        "          'Grade_2':'4.5',\n",
        "          'Grade_3':'4.0'}\n",
        "\n",
        "print('Grade_2' in t_dict)\n",
        "print('5.0' in t_dict)"
      ],
      "metadata": {
        "id": "Hf2ICVESsijx"
      },
      "execution_count": null,
      "outputs": []
    },
    {
      "cell_type": "code",
      "source": [
        "t_dict = {\"quiz_1\":{'q1':[0,1,0,1],'q2':[1,1,1,0],'q3':[0,0,1,0]},\n",
        "          \"quiz_2\":{'q1':[1,1,0,1],'q2':[0,1,0,0],'q3':[1,0,0,0]}}\n",
        "\n",
        "print(t_dict['quiz_1']['q1'][2])"
      ],
      "metadata": {
        "id": "EX6QouWYtbmP"
      },
      "execution_count": null,
      "outputs": []
    },
    {
      "cell_type": "markdown",
      "source": [
        "**Ex 21. Set / zbiór**"
      ],
      "metadata": {
        "id": "sNsF7-wfdA9t"
      }
    },
    {
      "cell_type": "markdown",
      "source": [
        "https://www.w3schools.com/python/python_sets.asp"
      ],
      "metadata": {
        "id": "LQGJfB_9LtxL"
      }
    },
    {
      "cell_type": "code",
      "source": [
        "#no duplicates\n",
        "vowels = set('aeiou')\n",
        "print(f'vowels set: {vowels}')\n",
        "\n",
        "word = input(\"Enter Your word: \")\n",
        "print(word)"
      ],
      "metadata": {
        "id": "RktSjAZH_lLK"
      },
      "execution_count": null,
      "outputs": []
    },
    {
      "cell_type": "code",
      "source": [
        "sum_sets = vowels.union(set(word))\n",
        "print(sum_sets)"
      ],
      "metadata": {
        "id": "hr9bLJBYVTq9"
      },
      "execution_count": null,
      "outputs": []
    },
    {
      "cell_type": "code",
      "source": [
        "diff_sets = vowels.difference(set(word))\n",
        "print(diff_sets)"
      ],
      "metadata": {
        "id": "3xUWZwzJVTnU"
      },
      "execution_count": null,
      "outputs": []
    },
    {
      "cell_type": "code",
      "source": [
        "common_part=vowels.intersection(set(word))\n",
        "print(common_part)"
      ],
      "metadata": {
        "id": "nthNqPAPVTf6"
      },
      "execution_count": null,
      "outputs": []
    },
    {
      "cell_type": "code",
      "source": [
        "set_a: set[int] = {1, 2, 3}\n",
        "set_b: set[int] = {2, 3, 4}\n",
        "\n",
        "print(set_a - set_b)\n",
        "print(set_b - set_a)"
      ],
      "metadata": {
        "id": "bM9OkWRv8bVM"
      },
      "execution_count": null,
      "outputs": []
    },
    {
      "cell_type": "code",
      "source": [
        "set_a: set[int] = {1, 2, 3}\n",
        "set_b: set[int] = {2, 3, 4}\n",
        "\n",
        "print(set_a & set_b)"
      ],
      "metadata": {
        "id": "bM-T94tG9cSp"
      },
      "execution_count": null,
      "outputs": []
    },
    {
      "cell_type": "code",
      "source": [
        "set_a: set[int] = {1, 2, 3}\n",
        "set_b: set[int] = {2, 3, 4}\n",
        "\n",
        "print(set_a | set_b)"
      ],
      "metadata": {
        "id": "9cqMzTMZ9tMq"
      },
      "execution_count": null,
      "outputs": []
    },
    {
      "cell_type": "code",
      "source": [
        "set_a: set[int] = {1, 2, 3}\n",
        "set_b: set[int] = {2, 3, 4}\n",
        "\n",
        "print(set_a ^ set_b)"
      ],
      "metadata": {
        "id": "sLTtvkMJ90bS"
      },
      "execution_count": null,
      "outputs": []
    },
    {
      "cell_type": "code",
      "source": [
        "set_a: set[int] = {1, 2, 3, 4}\n",
        "set_b: set[int] = {1, 2, 3}\n",
        "\n",
        "print(set_a == set_b)\n",
        "print(set_a >= set_b)\n",
        "print(set_a <= set_b)"
      ],
      "metadata": {
        "id": "6RbYLDAu-h36"
      },
      "execution_count": null,
      "outputs": []
    },
    {
      "cell_type": "code",
      "source": [
        "set_a: set[int] = {1, 2, 3}\n",
        "set_b: set[int] = {1, 2, 3, 4}\n",
        "\n",
        "print(set_a == set_b)\n",
        "print(set_a >= set_b)\n",
        "print(set_a <= set_b)"
      ],
      "metadata": {
        "id": "tDD6h4Tl_K_J"
      },
      "execution_count": null,
      "outputs": []
    },
    {
      "cell_type": "code",
      "source": [
        "set_a: set[int] = {1, 2, 3, 4}\n",
        "set_b: set[int] = {1, 3, 4}\n",
        "\n",
        "set_a.difference_update(set_b)  # set_a -= set_b\n",
        "print(set_a)"
      ],
      "metadata": {
        "id": "VjUqzdzy_huq"
      },
      "execution_count": null,
      "outputs": []
    },
    {
      "cell_type": "code",
      "source": [
        "set_a: set[int] = {1, 2, 3, 4, 5}\n",
        "\n",
        "set_a.discard(2)\n",
        "print(set_a)\n",
        "set_a.discard(10)\n",
        "print(set_a)\n",
        "\n",
        "try:\n",
        "  set_a.remove(10)\n",
        "  print(set_a)\n",
        "except:\n",
        "  print(f'10 is not in {set_a}')"
      ],
      "metadata": {
        "id": "9jgQpU4HB1j7"
      },
      "execution_count": null,
      "outputs": []
    },
    {
      "cell_type": "markdown",
      "source": [
        "**Ex 22. Tuple / Krotka**"
      ],
      "metadata": {
        "id": "Cyz5lnu2dSn1"
      }
    },
    {
      "cell_type": "markdown",
      "source": [
        "https://www.w3schools.com/python/python_tuples.asp"
      ],
      "metadata": {
        "id": "t992L1zAL30q"
      }
    },
    {
      "cell_type": "code",
      "source": [
        "# tuple - indexable, immutable(it is not possible to change value of any component)\n",
        "t = ('P','y','t','h','o','n')\n",
        "print(t)\n",
        "print(type(t))"
      ],
      "metadata": {
        "id": "wovuEbfmcIID",
        "colab": {
          "base_uri": "https://localhost:8080/"
        },
        "outputId": "8da78fbe-9199-4481-e829-0b3467782a6f"
      },
      "execution_count": 139,
      "outputs": [
        {
          "output_type": "stream",
          "name": "stdout",
          "text": [
            "('P', 'y', 't', 'h', 'o', 'n')\n",
            "<class 'tuple'>\n"
          ]
        }
      ]
    },
    {
      "cell_type": "code",
      "source": [
        "#tuple vs string\n",
        "t = ('Python')\n",
        "print(t)\n",
        "print(type(t))\n",
        "\n",
        "t = ('Python',)\n",
        "print(t)\n",
        "print(type(t))"
      ],
      "metadata": {
        "id": "DoE6y489WeLR"
      },
      "execution_count": null,
      "outputs": []
    },
    {
      "cell_type": "code",
      "source": [
        "#tuple vs int\n",
        "t_1 = (2)\n",
        "print(t_1)\n",
        "print(type(t_1))\n",
        "\n",
        "t_2 = (2,)\n",
        "print(t_2)\n",
        "print(type(t_2))"
      ],
      "metadata": {
        "id": "jAZhYnpEWLJO"
      },
      "execution_count": null,
      "outputs": []
    },
    {
      "cell_type": "code",
      "source": [
        "t = (1,'tuple',2,5,6)\n",
        "print(t)"
      ],
      "metadata": {
        "colab": {
          "base_uri": "https://localhost:8080/"
        },
        "id": "2O55vWTcV-v3",
        "outputId": "1fed82f5-4041-400f-8631-81887e728839"
      },
      "execution_count": 145,
      "outputs": [
        {
          "output_type": "stream",
          "name": "stdout",
          "text": [
            "(1, 'tuple', 2, 5, 6)\n"
          ]
        }
      ]
    },
    {
      "cell_type": "code",
      "source": [
        "print(t[0])"
      ],
      "metadata": {
        "id": "ckLNwWvDV-ta"
      },
      "execution_count": null,
      "outputs": []
    },
    {
      "cell_type": "code",
      "source": [
        "print(t[1])"
      ],
      "metadata": {
        "id": "kjiwuYaVV-on"
      },
      "execution_count": null,
      "outputs": []
    },
    {
      "cell_type": "code",
      "source": [
        "print(t[-1])"
      ],
      "metadata": {
        "id": "ixPOIJxlW5IL"
      },
      "execution_count": null,
      "outputs": []
    },
    {
      "cell_type": "code",
      "source": [
        "print(t[1:3])"
      ],
      "metadata": {
        "id": "enJzMN32W4Ta"
      },
      "execution_count": null,
      "outputs": []
    },
    {
      "cell_type": "code",
      "source": [
        "for e in t:\n",
        "  print(e)"
      ],
      "metadata": {
        "id": "eK_NjSdoXEQa"
      },
      "execution_count": null,
      "outputs": []
    },
    {
      "cell_type": "code",
      "source": [
        "# swap variables\n",
        "x = 1\n",
        "y = 2\n",
        "(x,y) = (y,x)\n",
        "print(x)\n",
        "print(y)"
      ],
      "metadata": {
        "colab": {
          "base_uri": "https://localhost:8080/"
        },
        "id": "CuPLauGoe_LL",
        "outputId": "98816334-39e6-4c70-968f-e5ebab3f4ed7"
      },
      "execution_count": 152,
      "outputs": [
        {
          "output_type": "stream",
          "name": "stdout",
          "text": [
            "2\n",
            "1\n"
          ]
        }
      ]
    },
    {
      "cell_type": "code",
      "source": [
        "# return more than 1 value from a function\n",
        "def quotient_and_reminder(x,y):\n",
        "  q = x // y\n",
        "  r = x % y\n",
        "  return (q,r)\n",
        "result = quotient_and_reminder(7,2)\n",
        "print(result[0],result[1])"
      ],
      "metadata": {
        "colab": {
          "base_uri": "https://localhost:8080/"
        },
        "id": "JbtHWDNcXMW2",
        "outputId": "ef7b5e3b-7929-420c-ec47-f1f0bfc72c08"
      },
      "execution_count": 153,
      "outputs": [
        {
          "output_type": "stream",
          "name": "stdout",
          "text": [
            "3 1\n"
          ]
        }
      ]
    },
    {
      "cell_type": "code",
      "source": [
        "(c,v) = (0,0)\n",
        "t = (c,v)\n",
        "print(t)\n",
        "c+=1\n",
        "print(t)\n",
        "print(c,v)"
      ],
      "metadata": {
        "id": "Kz5rFQ4Qw1UR"
      },
      "execution_count": null,
      "outputs": []
    },
    {
      "cell_type": "code",
      "source": [
        "t[0]+=1\n",
        "type((c,v))"
      ],
      "metadata": {
        "id": "Gnt5EGysXV4r"
      },
      "execution_count": null,
      "outputs": []
    },
    {
      "cell_type": "markdown",
      "source": [
        "**Ex 23. Function / Funkcje**"
      ],
      "metadata": {
        "id": "WPPjydpXd_Zc"
      }
    },
    {
      "cell_type": "markdown",
      "source": [
        "https://www.w3schools.com/python/python_functions.asp"
      ],
      "metadata": {
        "id": "-jQbuIlUL_bj"
      }
    },
    {
      "cell_type": "code",
      "source": [
        "def search4vowels():\n",
        "    vowels = set('aeiou')\n",
        "    word = input(\"Enter a word in which you want to search for vowels: \")\n",
        "    found = vowels.intersection(set(word))\n",
        "    for vowel in found:\n",
        "        print(vowel)\n",
        "\n",
        "search4vowels()"
      ],
      "metadata": {
        "id": "kymfMrQM_lww"
      },
      "execution_count": null,
      "outputs": []
    },
    {
      "cell_type": "code",
      "source": [
        "def search4vowels(word):\n",
        "    vowels = set('aeiou')\n",
        "    found = vowels.intersection(set(word))\n",
        "    return bool(found)\n",
        "\n",
        "print(search4vowels(\"Test\"))"
      ],
      "metadata": {
        "id": "dh-4HSFK_lte"
      },
      "execution_count": null,
      "outputs": []
    },
    {
      "cell_type": "code",
      "source": [
        "def search4vowels(word, a = 1):\n",
        "    vowels = set('aeiou')\n",
        "    return vowels.intersection(set(word))\n",
        "\n",
        "print(search4vowels(\"atest\"))"
      ],
      "metadata": {
        "id": "YSVGvte6_lp8"
      },
      "execution_count": null,
      "outputs": []
    },
    {
      "cell_type": "markdown",
      "source": [
        "**Ex 24. Recursion / Funkcja rekurencyjna**"
      ],
      "metadata": {
        "id": "NdehdkqdeQ_P"
      }
    },
    {
      "cell_type": "code",
      "source": [
        "def change(phrase, position):\n",
        "    if phrase[position].isupper():\n",
        "        phrase = phrase[0:position] + phrase[position].lower() + phrase[position+1:]\n",
        "    else:\n",
        "        phrase = phrase[0:position] + phrase[position].upper() + phrase[position+1:]\n",
        "    if position == len(phrase)-1: return phrase;\n",
        "    return change(phrase, position+1)\n",
        "\n",
        "txt = \"Long long time ago. In the galaxy far away...\"\n",
        "print(change(txt, 0))"
      ],
      "metadata": {
        "collapsed": true,
        "id": "xiejdgpt_lG0"
      },
      "execution_count": null,
      "outputs": []
    },
    {
      "cell_type": "code",
      "source": [
        "def sum_list(t_list):\n",
        "  if len(t_list) == 1:\n",
        "    return t_list[0]\n",
        "  else:\n",
        "    return t_list[0] + sum_list(t_list[1:])\n",
        "\n",
        "t_list = list(range(11))\n",
        "print(t_list)\n",
        "print(sum_list(t_list))"
      ],
      "metadata": {
        "id": "G68HSRskTOuW"
      },
      "execution_count": null,
      "outputs": []
    },
    {
      "cell_type": "code",
      "source": [
        "def rev_list(t_list):\n",
        "  if len(t_list) == 1:\n",
        "    return t_list\n",
        "  else:\n",
        "    return rev_list(t_list[1:]) + [t_list[0]]\n",
        "\n",
        "t_list = [[1,2],[3,4,5],['a','j','k']]\n",
        "print(t_list)\n",
        "print(rev_list(t_list))"
      ],
      "metadata": {
        "id": "kFFoz3AqXNni"
      },
      "execution_count": null,
      "outputs": []
    },
    {
      "cell_type": "markdown",
      "source": [
        "**Ex 25. Help - function description/ Pomoc - opis funkcji**"
      ],
      "metadata": {
        "id": "bzPCnLlLQ8ar"
      }
    },
    {
      "cell_type": "code",
      "source": [
        "def search4letters(word:str, letters:str=\"aeiou\") -> set:\n",
        "    \"\"\"\n",
        "    Looks up letters in input word / Wyszukuje litery w słowie wejściowym\n",
        "    If 2nd argument is missing, looks up vowels / W przypadku braku 2 argumentu, wyszukuje samogłoski\n",
        "    \"\"\"\n",
        "    return set(letters).intersection(set(word))\n",
        "\n",
        "help(search4letters)\n",
        "print(search4letters(\"atest\"))"
      ],
      "metadata": {
        "collapsed": true,
        "id": "QfBjpVkr_xnq"
      },
      "execution_count": null,
      "outputs": []
    },
    {
      "cell_type": "markdown",
      "source": [
        "**Ex 26. Fuction is an object / Funkcja jest obiektem**"
      ],
      "metadata": {
        "id": "bYyaWVGHSMiT"
      }
    },
    {
      "cell_type": "code",
      "source": [
        "a = print(10)\n",
        "print(a)"
      ],
      "metadata": {
        "id": "57NAtwPAbe9p"
      },
      "execution_count": null,
      "outputs": []
    },
    {
      "cell_type": "code",
      "source": [
        "def is_even(x):\n",
        "  return x%2 == 0\n",
        "\n",
        "new_fun = is_even\n",
        "new_fun(10)"
      ],
      "metadata": {
        "id": "30oqX7Qge12R",
        "collapsed": true
      },
      "execution_count": null,
      "outputs": []
    },
    {
      "cell_type": "code",
      "source": [
        "def calc(op,a,b):\n",
        "  return op(a,b)\n",
        "\n",
        "def add(a,b):\n",
        "  return a+b\n",
        "\n",
        "def mul(a,b):\n",
        "  return a*b\n",
        "\n",
        "print(calc(add,1,7))\n",
        "print(calc(mul,12,2))"
      ],
      "metadata": {
        "id": "pkm8sbR1e4Iv"
      },
      "execution_count": null,
      "outputs": []
    },
    {
      "cell_type": "code",
      "source": [
        "def add_2(a):\n",
        "  return a+2\n",
        "\n",
        "def add2even(c):\n",
        "  if c%2 == 0:\n",
        "    return add_2(c)\n",
        "  else:\n",
        "    return 'Did not increase'\n",
        "\n",
        "print(add2even(217))\n",
        "print(add2even(4))"
      ],
      "metadata": {
        "id": "rpfogMlOe8Wu"
      },
      "execution_count": null,
      "outputs": []
    },
    {
      "cell_type": "markdown",
      "source": [
        "**Ex 27. Functions - access to variables/ Funkcje - dostęp do zmiennych - poziomy widoczności**"
      ],
      "metadata": {
        "id": "2BtUMClueo8F"
      }
    },
    {
      "cell_type": "code",
      "source": [
        "print(\"Function 1\")\n",
        "def f(y):\n",
        "  x = 1\n",
        "  x += 1\n",
        "  print(x)\n",
        "\n",
        "x = 10\n",
        "f(x)\n",
        "print(x)"
      ],
      "metadata": {
        "id": "AzwL5unMTYZd"
      },
      "execution_count": null,
      "outputs": []
    },
    {
      "cell_type": "code",
      "source": [
        "print(\"Function 2\")\n",
        "def g(y):\n",
        "  print(x)\n",
        "  print(x+1)\n",
        "\n",
        "x = 10\n",
        "g(x)\n",
        "print(x)"
      ],
      "metadata": {
        "id": "eGEUzOsnZMEL"
      },
      "execution_count": null,
      "outputs": []
    },
    {
      "cell_type": "code",
      "source": [
        "print(\"Function 3\")\n",
        "def h(y):\n",
        "  x += 1\n",
        "\n",
        "x = 10\n",
        "h(x)\n",
        "print(x)"
      ],
      "metadata": {
        "id": "_hOaX3iIZMBg"
      },
      "execution_count": null,
      "outputs": []
    },
    {
      "cell_type": "markdown",
      "source": [
        "**Ex 28. Global variables**"
      ],
      "metadata": {
        "id": "EpytZdb9UibZ"
      }
    },
    {
      "cell_type": "markdown",
      "source": [
        "https://www.w3schools.com/python/python_variables_global.asp"
      ],
      "metadata": {
        "id": "j_pBpwd4M0VO"
      }
    },
    {
      "cell_type": "code",
      "source": [
        "def h(y):\n",
        "  global x\n",
        "  x +=1\n",
        "\n",
        "x = 10\n",
        "h(x)\n",
        "print(x)"
      ],
      "metadata": {
        "id": "UjrAF91HUi2O"
      },
      "execution_count": null,
      "outputs": []
    },
    {
      "cell_type": "markdown",
      "source": [
        "**Ex 29. Lambda function - anonymous function / Lambda, czyli funkcje anonimowe**"
      ],
      "metadata": {
        "id": "KtEFvzgEYqQA"
      }
    },
    {
      "cell_type": "markdown",
      "source": [
        "https://www.w3schools.com/python/python_lambda.asp"
      ],
      "metadata": {
        "id": "HvArfQwTNIg9"
      }
    },
    {
      "cell_type": "code",
      "source": [
        "def is_even(x):\n",
        "  return x%2 == 0\n",
        "\n",
        "print(is_even(2))"
      ],
      "metadata": {
        "id": "9ry1VLzVYuPO"
      },
      "execution_count": null,
      "outputs": []
    },
    {
      "cell_type": "code",
      "source": [
        "print((lambda x: x%2 == 0)(101))"
      ],
      "metadata": {
        "id": "zgNXx31jZhdo"
      },
      "execution_count": null,
      "outputs": []
    },
    {
      "cell_type": "markdown",
      "source": [
        "**Ex 30. Function - variable number of arguments / Funkcje - zmienna ilość parameterów**"
      ],
      "metadata": {
        "id": "Z5BehP01fXTS"
      }
    },
    {
      "cell_type": "code",
      "source": [
        "def vargs_func(*args):\n",
        "    print(args)\n",
        "\n",
        "vargs_func('a','b','c')\n",
        "vargs_func(1,2,3,4,5)"
      ],
      "metadata": {
        "id": "Ci3myWQk_xin"
      },
      "execution_count": null,
      "outputs": []
    },
    {
      "cell_type": "code",
      "source": [
        "def vargs_func(*args):\n",
        "    print(\"Number of arguments:\",len(args))\n",
        "    for arg in args:\n",
        "        print (\"Value:\",arg)\n",
        "\n",
        "lista = [1,2,3,4]\n",
        "vargs_func(1,lista,2,'xyz',3)"
      ],
      "metadata": {
        "id": "Jh5lbYPE_xfz"
      },
      "execution_count": null,
      "outputs": []
    },
    {
      "cell_type": "code",
      "source": [
        "def vargs_func(**kwargs):\n",
        "    print(\"Number of arguments:\",len(kwargs))\n",
        "    for key, item in kwargs.items():\n",
        "        print (\"Key \", key, \"Value \", item)\n",
        "\n",
        "vargs_func(a=1,b=2,c=3)"
      ],
      "metadata": {
        "id": "GK3gdjmm_xdI"
      },
      "execution_count": null,
      "outputs": []
    },
    {
      "cell_type": "code",
      "source": [
        "def vargs_func(*args, **kwargs):\n",
        "    print(\"Number of parameters *args:\",len(args))\n",
        "    for arg in args:\n",
        "        print (\"Arg \", arg)\n",
        "\n",
        "    print(\"Number of parameters **kwargs:\",len(kwargs))\n",
        "    for key, item in kwargs.items():\n",
        "        print (\"Key \", key, \"Value \", item)\n",
        "\n",
        "vargs_func(1,2,'x',[1,'a',2],a=1,b=2,c=3)"
      ],
      "metadata": {
        "id": "fIKHcjEV_xYM"
      },
      "execution_count": null,
      "outputs": []
    },
    {
      "cell_type": "markdown",
      "source": [
        "**Ex 31. Function - list as an agrument / Funkcje - przekazanie listy**"
      ],
      "metadata": {
        "id": "uldY7KVFa9J9"
      }
    },
    {
      "cell_type": "code",
      "source": [
        "t_list = list(range(1,6))\n",
        "print(t_list)\n",
        "\n",
        "def add2list(list):\n",
        "  list[1] = 20\n",
        "  list.append(10)\n",
        "\n",
        "add2list(t_list)\n",
        "print(t_list)\n"
      ],
      "metadata": {
        "colab": {
          "base_uri": "https://localhost:8080/"
        },
        "id": "7UCfrbUma9qd",
        "outputId": "2c3035e1-4ca4-4376-fd17-19b8f576dac9"
      },
      "execution_count": null,
      "outputs": [
        {
          "output_type": "stream",
          "name": "stdout",
          "text": [
            "[1, 2, 3, 4, 5]\n",
            "[1, 20, 3, 4, 5, 10]\n"
          ]
        }
      ]
    },
    {
      "cell_type": "code",
      "source": [
        "t_list = list(range(1,6))\n",
        "print(t_list)\n",
        "\n",
        "def add2list(list):\n",
        "  list[1] = 20\n",
        "  list.append(10)\n",
        "\n",
        "add2list(t_list[:])\n",
        "print(t_list)"
      ],
      "metadata": {
        "id": "g_NVBfDldPTD"
      },
      "execution_count": null,
      "outputs": []
    },
    {
      "cell_type": "code",
      "source": [
        "def print3args(arg1,arg2,arg3):\n",
        "  print(f'Argument 1 = {arg1}')\n",
        "  print(f'Argument 2 = {arg2}')\n",
        "  print(f'Argument 2 = {arg3}')\n",
        "\n",
        "print3args(*['one','two','three'])"
      ],
      "metadata": {
        "id": "VAJigVrwfENl"
      },
      "execution_count": null,
      "outputs": []
    }
  ]
}
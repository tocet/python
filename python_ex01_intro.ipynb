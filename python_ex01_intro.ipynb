{
  "nbformat": 4,
  "nbformat_minor": 0,
  "metadata": {
    "colab": {
      "provenance": []
    },
    "kernelspec": {
      "name": "python3",
      "display_name": "Python 3"
    },
    "language_info": {
      "name": "python"
    }
  },
  "cells": [
    {
      "cell_type": "markdown",
      "source": [
        "**Ex 1. Typy danych skalarnych (scalar objects)**"
      ],
      "metadata": {
        "id": "AmV6bSnIwkvZ"
      }
    },
    {
      "cell_type": "code",
      "source": [
        "type(1)"
      ],
      "metadata": {
        "id": "iHPfJcMgwyNV"
      },
      "execution_count": null,
      "outputs": []
    },
    {
      "cell_type": "code",
      "source": [
        "type(1.0)"
      ],
      "metadata": {
        "id": "GLBhLQz_xIHY"
      },
      "execution_count": null,
      "outputs": []
    },
    {
      "cell_type": "code",
      "source": [
        "print(type(False))\n",
        "type(True)"
      ],
      "metadata": {
        "id": "T7Bfe9vExL91"
      },
      "execution_count": null,
      "outputs": []
    },
    {
      "cell_type": "markdown",
      "source": [
        "**Ex 2. Wyświetlanie w konsoli - print**"
      ],
      "metadata": {
        "id": "wTnYCwWNJP2W"
      }
    },
    {
      "cell_type": "code",
      "source": [
        "x, y, z = 0, 2.0, 5\n",
        "print('x = ',x)\n",
        "print('y = {:.2f}'.format(y))\n",
        "print(f'z = {y*z}')"
      ],
      "metadata": {
        "id": "Pdy7yKaTXnlq"
      },
      "execution_count": null,
      "outputs": []
    },
    {
      "cell_type": "markdown",
      "source": [
        "**Ex 3. Wybrane operatory matematyczne**"
      ],
      "metadata": {
        "id": "FoZRcaAQx9zX"
      }
    },
    {
      "cell_type": "code",
      "source": [
        "# Dzielenie - część całkowita\n",
        "print(7//4)\n",
        "# Dzielnie - reszta\n",
        "print(7%4)\n",
        "# Potęgowanie\n",
        "print(2**4)"
      ],
      "metadata": {
        "id": "7t709RagyCOz"
      },
      "execution_count": null,
      "outputs": []
    },
    {
      "cell_type": "markdown",
      "source": [
        "**Ex 4. Obiekty typu string**"
      ],
      "metadata": {
        "id": "7wYV_ET3zFU2"
      }
    },
    {
      "cell_type": "code",
      "source": [
        "a = \"Języki\"\n",
        "b = \"skryptowe\"\n",
        "c = a + b\n",
        "print(c)\n",
        "c = a + \" \" + b\n",
        "print(c)\n",
        "c = 2 * a + b\n",
        "print(c)"
      ],
      "metadata": {
        "id": "mZulYXhc2eKv"
      },
      "execution_count": null,
      "outputs": []
    },
    {
      "cell_type": "code",
      "source": [
        "a = \"Języki\"\n",
        "print(len(a))\n",
        "print(a[0])\n",
        "print(a[1])\n",
        "print(a[-1])\n",
        "print(a[-2])"
      ],
      "metadata": {
        "id": "lznIJS-63PAg"
      },
      "execution_count": null,
      "outputs": []
    },
    {
      "cell_type": "markdown",
      "source": [
        "**Ex 5. Praca z obiektami typu string**"
      ],
      "metadata": {
        "id": "nI6a3wiRJ2pJ"
      }
    },
    {
      "cell_type": "code",
      "source": [
        "# String slicing - substrings\n",
        "a = \"Języki skrytpowe\"\n",
        "print(a[2:5])   # [start:stop]\n",
        "print(a[0:8:3]) # [start:stop:step]\n",
        "print(a[::2])\n",
        "print(a[::-1])\n",
        "print(a[6:2:-2])\n",
        "print(a[4:1])"
      ],
      "metadata": {
        "id": "bUXeouFh3yD2"
      },
      "execution_count": null,
      "outputs": []
    },
    {
      "cell_type": "code",
      "source": [
        "# String are immutable\n",
        "a = 'Języki skryptowe'\n",
        "print(a)\n",
        "a = \"Języki skrytpowe\"\n",
        "print(a)\n",
        "print(a[2])\n",
        "a[2]='X'"
      ],
      "metadata": {
        "id": "8hxtoptg70d4",
        "collapsed": true
      },
      "execution_count": null,
      "outputs": []
    },
    {
      "cell_type": "code",
      "source": [
        "a = \"Języki skrytpowe\"\n",
        "a = a[:2] + \"X\" + a[3:]\n",
        "print(a)"
      ],
      "metadata": {
        "id": "UF55HquU8Z-G"
      },
      "execution_count": null,
      "outputs": []
    },
    {
      "cell_type": "code",
      "source": [
        "x = input(\"Enter text: \")\n",
        "print(2*x)"
      ],
      "metadata": {
        "id": "zmI2v0KmGjKI"
      },
      "execution_count": null,
      "outputs": []
    },
    {
      "cell_type": "markdown",
      "source": [
        "**Ex 6. Dodanie modułu/biblioteki - from ... import**"
      ],
      "metadata": {
        "id": "U-H_Jj5ZtGEW"
      }
    },
    {
      "cell_type": "code",
      "execution_count": null,
      "metadata": {
        "id": "4YnTVoa5r0aC"
      },
      "outputs": [],
      "source": [
        "from datetime import datetime\n",
        "\n",
        "odds = [ 1,  3,  5,  7,  9, 11, 13, 15, 17, 19,\n",
        "        21, 23, 25, 27, 29, 31, 33, 35, 37, 39,\n",
        "        41, 43, 45, 47, 49, 51, 53, 55, 57, 59]\n",
        "\n",
        "this_minute = datetime.today().minute\n",
        "print(this_minute)"
      ]
    },
    {
      "cell_type": "markdown",
      "source": [
        "**Ex 7. Dodanie modułu/biblioteki - from ... import ... as**"
      ],
      "metadata": {
        "id": "ZK0gdInYtEJT"
      }
    },
    {
      "cell_type": "code",
      "source": [
        "from datetime import datetime as dt\n",
        "\n",
        "odds = [ 1,  3,  5,  7,  9, 11, 13, 15, 17, 19,\n",
        "        21, 23, 25, 27, 29, 31, 33, 35, 37, 39,\n",
        "        41, 43, 45, 47, 49, 51, 53, 55, 57, 59]\n",
        "\n",
        "this_minute = dt.today().minute\n",
        "print(this_minute)"
      ],
      "metadata": {
        "id": "YEr2p_g3tLvZ"
      },
      "execution_count": null,
      "outputs": []
    },
    {
      "cell_type": "markdown",
      "source": [
        "**Ex 8. Instrukcja warunkowa - if ... elif ... else**"
      ],
      "metadata": {
        "id": "k7fEbV67VaK3"
      }
    },
    {
      "cell_type": "code",
      "source": [
        "import time as t\n",
        "\n",
        "today = t.strftime(\"%A\")\n",
        "if today == \"Saturday\":\n",
        "    print(\"Python course\")\n",
        "elif today == \"Sunday\":\n",
        "    print(\"No Python classes\")\n",
        "else:\n",
        "    print(\"No classes at all\")\n",
        "\n",
        "if today != \"Sonnabend\":\n",
        "  print(\"Please use English\")\n",
        "\n",
        "a = 5\n",
        "b = 10\n",
        "if a>3 and b<8:\n",
        "  print(\"True\")\n",
        "else:\n",
        "  print(\"False\")\n",
        "\n",
        "if a>3 or b<8:\n",
        "  print(\"True\")\n",
        "else:\n",
        "  print(\"False\")\n",
        "\n",
        "found = False\n",
        "if not found:\n",
        "  print(\"A jednak działa\")\n",
        "else:\n",
        "  print(\"A jednak nie\")\n",
        "\n"
      ],
      "metadata": {
        "id": "-ha_C_fc-uhf"
      },
      "execution_count": null,
      "outputs": []
    },
    {
      "cell_type": "markdown",
      "source": [
        "**Ex 9. Pętla for**"
      ],
      "metadata": {
        "id": "C12-sy6VLeZh"
      }
    },
    {
      "cell_type": "code",
      "source": [
        "for i in [1,2,3,5]:\n",
        "    print(i)\n",
        "print(\"----------\")\n",
        "\n",
        "for i in \"Python\":\n",
        "    print(i)\n",
        "print(\"----------\")\n",
        "\n",
        "for i in range(4):\n",
        "    print(\"Python\")\n",
        "print(\"----------\")"
      ],
      "metadata": {
        "id": "NWiI-vtD-7VU"
      },
      "execution_count": null,
      "outputs": []
    },
    {
      "cell_type": "code",
      "source": [
        "print(range(4))\n",
        "\n",
        "print(list(range(4)))\n",
        "\n",
        "print(list(range(4,10)))\n",
        "\n",
        "print(list(range(0,8,2)))\n",
        "\n",
        "print(list(range(8,0,-2)))"
      ],
      "metadata": {
        "id": "inoXcRDC_BUv"
      },
      "execution_count": null,
      "outputs": []
    },
    {
      "cell_type": "markdown",
      "source": [
        "**Ex 10. Pętla while**"
      ],
      "metadata": {
        "id": "vA0vX4HZLw-m"
      }
    },
    {
      "cell_type": "code",
      "source": [
        "# while\n",
        "licznik = 0\n",
        "\n",
        "while licznik < 3:\n",
        "    print(\"Inside while\")\n",
        "    licznik += 1\n",
        "else:\n",
        "    print(\"Inside else\")\n",
        "\n",
        "# do-while\n",
        "while True:\n",
        "    liczba = int(input(\"Wprowadź liczbe dodatnią: \"))\n",
        "    if liczba > 0:\n",
        "        print(\"OK\")\n",
        "        break\n",
        "    print('Liczba ujemna')\n",
        "\n",
        "# pass\n",
        "while int(input(\"Podaj liczbę większą od 10: \")) <= 10:\n",
        "  pass\n",
        "print(\"Sukces\")"
      ],
      "metadata": {
        "id": "Nh5WeU53_Lb1"
      },
      "execution_count": null,
      "outputs": []
    },
    {
      "cell_type": "markdown",
      "source": [
        "**Ex 11. Wyrażenie match-case**"
      ],
      "metadata": {
        "id": "SDi0yG9rMGR9"
      }
    },
    {
      "cell_type": "code",
      "source": [
        "def weekday(n):\n",
        "   match n:\n",
        "      case 0: return \"Monday\"\n",
        "      case 1: return \"Tuesday\"\n",
        "      case 2: return \"Wednesday\"\n",
        "      case 3: return \"Thursday\"\n",
        "      case 4: return \"Friday\"\n",
        "      case 5: return \"Saturday\"\n",
        "      case 6: return \"Sunday\"\n",
        "      case _: return \"Invalid day number\"\n",
        "\n",
        "print (weekday(3))\n",
        "print (weekday(6))\n",
        "print (weekday(7))"
      ],
      "metadata": {
        "id": "gRZGBXVM_OYa"
      },
      "execution_count": null,
      "outputs": []
    },
    {
      "cell_type": "markdown",
      "source": [
        "**Ex 12. Reprezentacja binarna**"
      ],
      "metadata": {
        "id": "KplAnpblMXXF"
      }
    },
    {
      "cell_type": "code",
      "source": [
        "x = 0\n",
        "for i in range(10):\n",
        "  x += 0.1\n",
        "print(x==1)\n",
        "print(x, '==', 10*0.1)"
      ],
      "metadata": {
        "id": "k9QOhzPCOwQE"
      },
      "execution_count": null,
      "outputs": []
    },
    {
      "cell_type": "markdown",
      "source": [
        "**Ex 13. Lista**"
      ],
      "metadata": {
        "id": "wdsV-MI8Ow6W"
      }
    },
    {
      "cell_type": "code",
      "source": [
        "#lists\n",
        "temps = [ 0.0, 100.0, -17.78, 27.5, 37.78, 7.39 ]\n",
        "print(temps)\n",
        "car_details = [ 'Kia', 'Sportage', 1.6, 3200]\n",
        "print(car_details)\n",
        "list_of_lists = [ [ 1, 2, 3], ['a', 'b', 'c' ], [ 'Jeden','Dwa','Trzy' ] ]\n",
        "print(list_of_lists)"
      ],
      "metadata": {
        "id": "8O0StvRO_RdY"
      },
      "execution_count": null,
      "outputs": []
    },
    {
      "cell_type": "code",
      "source": [
        "vowels = ['a', 'e', 'i', 'o', 'u']\n",
        "word = input(\"Write a word: \")\n",
        "found = []\n",
        "for letter in word:\n",
        "    if letter in vowels:\n",
        "        if letter not in found:\n",
        "            found.append(letter)\n",
        "\n",
        "for vowel in found:\n",
        "    print(vowel)"
      ],
      "metadata": {
        "id": "hZ4tD-rr_U_z"
      },
      "execution_count": null,
      "outputs": []
    },
    {
      "cell_type": "markdown",
      "source": [
        "**Ex 14. Lista - usuwanie elementów**"
      ],
      "metadata": {
        "id": "004QiFdoawgp"
      }
    },
    {
      "cell_type": "code",
      "source": [
        "numbers = [1,2,4,8]\n",
        "print(numbers)\n",
        "\n",
        "# usuniecie elementu o okreslonej wartosci\n",
        "numbers.remove(4)\n",
        "print(numbers)\n",
        "\n",
        "# usuniecie elementu o okreslonym indeksie\n",
        "del_num = numbers.pop(1)\n",
        "print(numbers)\n",
        "print(del_num)\n",
        "\n",
        "#usuniecie\n",
        "del numbers[0]\n",
        "print(numbers)"
      ],
      "metadata": {
        "id": "GbmrpkzY_Xi3"
      },
      "execution_count": null,
      "outputs": []
    },
    {
      "cell_type": "markdown",
      "source": [
        "**Ex 15. Lista - dodawanie elementów**"
      ],
      "metadata": {
        "id": "-v0tZzJCa2I5"
      }
    },
    {
      "cell_type": "code",
      "source": [
        "numbers = []\n",
        "print(len(numbers))\n",
        "\n",
        "numbers.append(10)\n",
        "print(numbers)\n",
        "\n",
        "numbers = [1,2,3,4]\n",
        "print(numbers)\n",
        "\n",
        "# rozszerzenie o liste obiektów\n",
        "numbers.extend([5,6])\n",
        "print(numbers)\n",
        "\n",
        "# rozszerzenie o obiekt (5) wstawiony PRZED indeksem(0)\n",
        "numbers.insert(0,5)\n",
        "print(numbers)\n",
        "\n",
        "numbers.insert(1,25)\n",
        "print(numbers)"
      ],
      "metadata": {
        "id": "N8OjHywla21M"
      },
      "execution_count": null,
      "outputs": []
    },
    {
      "cell_type": "markdown",
      "source": [
        "**Ex 16. Lista - kopiowanie**"
      ],
      "metadata": {
        "id": "KGpgubndbtC6"
      }
    },
    {
      "cell_type": "code",
      "source": [
        "numbers = list(range(10))\n",
        "print(numbers)\n",
        "numbers2 = numbers\n",
        "numbers3 = numbers.copy()\n",
        "print(numbers2)\n",
        "print(numbers3)\n",
        "numbers.append(100)\n",
        "print(numbers)\n",
        "print(numbers2)\n",
        "print(numbers3)"
      ],
      "metadata": {
        "id": "RZtDKBEobtV9"
      },
      "execution_count": null,
      "outputs": []
    },
    {
      "cell_type": "markdown",
      "source": [
        "**Ex 17. Lista - wycinki**"
      ],
      "metadata": {
        "id": "niukPf-IcNNh"
      }
    },
    {
      "cell_type": "code",
      "source": [
        "s_letters = \"AbCdEfGh\"\n",
        "letters = list(s_letters)\n",
        "print(s_letters)\n",
        "print(letters)\n",
        "\n",
        "print(letters[0])\n",
        "print(letters[2])\n",
        "print(letters[-1])\n",
        "print(letters[-3])\n",
        "\n",
        "print(letters[3:])\n",
        "print(letters[:2])\n",
        "print(letters[::2])\n",
        "print(letters[1:3])\n",
        "print(letters[0:7:2])\n",
        "\n",
        "print(''.join(letters[-3:]))\n",
        "print(''.join(letters[::-1]))\n",
        "\n",
        "for ch in letters:\n",
        "    print('\\t',ch)\n",
        "\n",
        "for ch in letters[0:7:2]:\n",
        "    print('\\t \\t',ch)"
      ],
      "metadata": {
        "id": "CCEnTbDu_XbO"
      },
      "execution_count": null,
      "outputs": []
    },
    {
      "cell_type": "code",
      "source": [
        "lista = [1,3,5,7]\n",
        "lista = [i+1 for i in lista]\n",
        "print(lista)\n",
        "\n",
        "lista = [1,3,4,5,7,8]\n",
        "lista = [i for i in lista if i % 2 == 0 ]\n",
        "print(lista)\n",
        "\n",
        "lista = [1,3,4,5,7,8]\n",
        "lista = ['Parzysta' if i%2 == 0 else 'Nieparzysta' for i in lista]\n",
        "print(lista)\n",
        "\n",
        "lista = [1,3,4,5,7,8]\n",
        "def func(i):\n",
        "    if i % 2 == 0: return 'Parzyste'\n",
        "    else: return 'Nieparzyste'\n",
        "lista = [func(i) for i in lista]\n",
        "print(lista)"
      ],
      "metadata": {
        "id": "qboQ2Fs7_bcE"
      },
      "execution_count": null,
      "outputs": []
    },
    {
      "cell_type": "markdown",
      "source": [
        "**Ex 18. Słownik - dictionary**"
      ],
      "metadata": {
        "id": "fCUqP29xcwzZ"
      }
    },
    {
      "cell_type": "code",
      "source": [
        "person = {'Name': 'Tom',\n",
        "          'Phone': '123456789',\n",
        "          'Occupation': 'engineer',\n",
        "          'Home planet': 'Earth'}\n",
        "print(person)\n",
        "print(person['Home planet'])\n",
        "\n",
        "person['Age'] = 21\n",
        "print(person)\n",
        "\n",
        "#vowels = {'a' : 0, 'e' : 0, 'i' : 0, 'o' : 0, 'u' : 0}\n",
        "vowels = ['a','e','i','o','u']\n",
        "found_vowels ={}\n",
        "word = input(\"Enter Your word: \")\n",
        "for letter in word:\n",
        "    if letter in vowels:\n",
        "        found_vowels.setdefault(letter,0)\n",
        "        found_vowels[letter] += 1\n",
        "\n",
        "#k:v -> klucz:wartość\n",
        "for k, v in sorted(found_vowels.items()):\n",
        "    print(k, 'found', v, 'times')"
      ],
      "metadata": {
        "id": "CLxzGIIn_iDe"
      },
      "execution_count": null,
      "outputs": []
    },
    {
      "cell_type": "markdown",
      "source": [
        "**Ex 19. Zbiór - set**"
      ],
      "metadata": {
        "id": "sNsF7-wfdA9t"
      }
    },
    {
      "cell_type": "code",
      "source": [
        "#zbiór - nie ma duplikatów\n",
        "vowels = set('aeiou')\n",
        "word = input(\"Enter Your word: \")\n",
        "\n",
        "sum_sets = vowels.union(set(word))\n",
        "print(sum_sets)\n",
        "\n",
        "diff_sets = vowels.difference(set(word))\n",
        "print(diff_sets)\n",
        "\n",
        "common_part=vowels.intersection(set(word))\n",
        "print(common_part)"
      ],
      "metadata": {
        "id": "RktSjAZH_lLK"
      },
      "execution_count": null,
      "outputs": []
    },
    {
      "cell_type": "markdown",
      "source": [
        "**Ex 20. Krotka - tuple**"
      ],
      "metadata": {
        "id": "Cyz5lnu2dSn1"
      }
    },
    {
      "cell_type": "code",
      "source": [
        "#krotka vs string\n",
        "t = ('P','y','t','h','o','n')\n",
        "print(t)\n",
        "t = ('Python')\n",
        "print(type(t))\n",
        "t = ('Python',)\n",
        "print(t)\n",
        "print(type(t))\n",
        "\n",
        "# tuple - indexable, immutable(it is not possible to change value of any component)\n",
        "t_1 = (2)\n",
        "print(type(t_1))\n",
        "t_2 = (2,)\n",
        "print(type(t_2))\n",
        "\n",
        "# swap variables\n",
        "x = 1\n",
        "y = 2\n",
        "(x,y) = (y,x)\n",
        "print(x)\n",
        "print(y)\n",
        "\n",
        "# return more than 1 value from a function\n",
        "def quotient_and_reminder(x,y):\n",
        "  q = x // y\n",
        "  r = x % y\n",
        "  return (q,r)\n",
        "result = quotient_and_reminder(4,2)\n",
        "print(result[0],result[1])"
      ],
      "metadata": {
        "colab": {
          "base_uri": "https://localhost:8080/"
        },
        "id": "wovuEbfmcIID",
        "outputId": "2a873b83-6b08-454d-842a-92fe65bdaa9d"
      },
      "execution_count": 69,
      "outputs": [
        {
          "output_type": "stream",
          "name": "stdout",
          "text": [
            "('P', 'y', 't', 'h', 'o', 'n')\n",
            "<class 'str'>\n",
            "('Python',)\n",
            "<class 'tuple'>\n",
            "<class 'int'>\n",
            "<class 'tuple'>\n",
            "2\n",
            "1\n",
            "2 0\n"
          ]
        }
      ]
    },
    {
      "cell_type": "markdown",
      "source": [
        "**Ex 21. Funkcje**"
      ],
      "metadata": {
        "id": "WPPjydpXd_Zc"
      }
    },
    {
      "cell_type": "code",
      "source": [
        "def search4vowels():\n",
        "    vowels = set('aeiou')\n",
        "    word = input(\"Podaj słowo, w którym należy wyszukać samogłoski: \")\n",
        "    found = vowels.intersection(set(word))\n",
        "    for vowel in found:\n",
        "        print(vowel)\n",
        "\n",
        "search4vowels()"
      ],
      "metadata": {
        "id": "kymfMrQM_lww"
      },
      "execution_count": null,
      "outputs": []
    },
    {
      "cell_type": "code",
      "source": [
        "def search4vowels(word):\n",
        "    vowels = set('aeiou')\n",
        "    found = vowels.intersection(set(word))\n",
        "    return bool(found)\n",
        "\n",
        "print(search4vowels(\"Test\"))"
      ],
      "metadata": {
        "id": "dh-4HSFK_lte"
      },
      "execution_count": null,
      "outputs": []
    },
    {
      "cell_type": "code",
      "source": [
        "def search4vowels(word):\n",
        "    vowels = set('aeiou')\n",
        "    return vowels.intersection(set(word))\n",
        "\n",
        "print(search4vowels(\"atest\"))"
      ],
      "metadata": {
        "id": "YSVGvte6_lp8"
      },
      "execution_count": null,
      "outputs": []
    },
    {
      "cell_type": "markdown",
      "source": [
        "**Ex 22. Funkcja rekurencyjna**"
      ],
      "metadata": {
        "id": "NdehdkqdeQ_P"
      }
    },
    {
      "cell_type": "code",
      "source": [
        "def change(phrase, position):\n",
        "    if phrase[position].isupper():\n",
        "        phrase = phrase[0:position] + phrase[position].lower() + phrase[position+1:]\n",
        "    else:\n",
        "        phrase = phrase[0:position] + phrase[position].upper() + phrase[position+1:]\n",
        "    if position == len(phrase)-1: return phrase;\n",
        "    return change(phrase, position+1)\n",
        "\n",
        "txt = \"Long long time ago. In the galaxy far away...\"\n",
        "print(change(txt, 0))"
      ],
      "metadata": {
        "collapsed": true,
        "id": "xiejdgpt_lG0"
      },
      "execution_count": null,
      "outputs": []
    },
    {
      "cell_type": "markdown",
      "source": [
        "**Ex 23. Funkcje - jak działa help**"
      ],
      "metadata": {
        "id": "bzPCnLlLQ8ar"
      }
    },
    {
      "cell_type": "code",
      "source": [
        "def search4letters(word:str, letters:str=\"aeiou\") -> set:\n",
        "    \"\"\"\n",
        "    Wyszukuje litery w słowie wejściowym\n",
        "    \"\"\"\n",
        "    return set(letters).intersection(set(word))\n",
        "\n",
        "help(search4letters)\n",
        "print(search4letters(\"atest\"))"
      ],
      "metadata": {
        "colab": {
          "base_uri": "https://localhost:8080/"
        },
        "collapsed": true,
        "id": "QfBjpVkr_xnq",
        "outputId": "c341791b-c642-4db3-8321-4a5bf461e904"
      },
      "execution_count": 75,
      "outputs": [
        {
          "output_type": "stream",
          "name": "stdout",
          "text": [
            "Help on function search4letters in module __main__:\n",
            "\n",
            "search4letters(word: str, letters: str = 'aeiou') -> set\n",
            "    Wyszukuje litery w słowie wejściowym\n",
            "\n",
            "{'a', 'e'}\n"
          ]
        }
      ]
    },
    {
      "cell_type": "markdown",
      "source": [
        "**Ex 24. Funkcja jest obiektem**"
      ],
      "metadata": {
        "id": "bYyaWVGHSMiT"
      }
    },
    {
      "cell_type": "code",
      "source": [
        "a = print(5)\n",
        "print(a)"
      ],
      "metadata": {
        "id": "tmBdpQGySHWa"
      },
      "execution_count": null,
      "outputs": []
    },
    {
      "cell_type": "code",
      "source": [
        "def is_even(x):\n",
        "  return x%2 == 0\n",
        "\n",
        "new_fun = is_even\n",
        "new_fun(3)"
      ],
      "metadata": {
        "id": "30oqX7Qge12R"
      },
      "execution_count": null,
      "outputs": []
    },
    {
      "cell_type": "code",
      "source": [
        "def calc(op,a,b):\n",
        "  return op(a,b)\n",
        "\n",
        "def add(a,b):\n",
        "  return a+b\n",
        "\n",
        "def mul(a,b):\n",
        "  return a*b\n",
        "\n",
        "print(calc(add,2,3))\n",
        "print(calc(mul,10,2))"
      ],
      "metadata": {
        "id": "pkm8sbR1e4Iv"
      },
      "execution_count": null,
      "outputs": []
    },
    {
      "cell_type": "code",
      "source": [
        "def add_2(a):\n",
        "  return a+2\n",
        "\n",
        "def add2even(c):\n",
        "  if c%2 == 0:\n",
        "    return add_2(c)\n",
        "  else:\n",
        "    return 'Nie zwiększono'\n",
        "\n",
        "print(add2even(2))\n",
        "print(add2even(3))"
      ],
      "metadata": {
        "id": "rpfogMlOe8Wu"
      },
      "execution_count": null,
      "outputs": []
    },
    {
      "cell_type": "markdown",
      "source": [
        "**Ex 25. Funcje - dostęp do zmiennych**"
      ],
      "metadata": {
        "id": "2BtUMClueo8F"
      }
    },
    {
      "cell_type": "code",
      "source": [
        "print(\"Funkcja 1\")\n",
        "def f(y):\n",
        "  x = 1\n",
        "  x += 1\n",
        "  print(x)\n",
        "\n",
        "x = 10\n",
        "f(x)\n",
        "print(x)\n",
        "\n",
        "print(\"Funkcja 2\")\n",
        "def g(y):\n",
        "  print(x)\n",
        "  print(x+1)\n",
        "\n",
        "x = 10\n",
        "g(x)\n",
        "print(x)\n",
        "\n",
        "print(\"Funkcja 3\")\n",
        "def h(y):\n",
        "  x +=1\n",
        "\n",
        "x = 10\n",
        "h(x)\n",
        "print(x)"
      ],
      "metadata": {
        "id": "AzwL5unMTYZd"
      },
      "execution_count": null,
      "outputs": []
    },
    {
      "cell_type": "markdown",
      "source": [
        "**Ex 26. Funkcje - zmienna global**"
      ],
      "metadata": {
        "id": "EpytZdb9UibZ"
      }
    },
    {
      "cell_type": "code",
      "source": [
        "def h(y):\n",
        "  global x\n",
        "  x +=1\n",
        "\n",
        "x = 10\n",
        "h(x)\n",
        "print(x)"
      ],
      "metadata": {
        "colab": {
          "base_uri": "https://localhost:8080/"
        },
        "id": "UjrAF91HUi2O",
        "outputId": "7edc0206-243a-4c58-b48a-c6b0f5ad5f35"
      },
      "execution_count": 38,
      "outputs": [
        {
          "output_type": "stream",
          "name": "stdout",
          "text": [
            "Funkcja 4\n",
            "11\n"
          ]
        }
      ]
    },
    {
      "cell_type": "markdown",
      "source": [
        "**Ex 27. Lambda, czyli funkcje anonimowe**"
      ],
      "metadata": {
        "id": "KtEFvzgEYqQA"
      }
    },
    {
      "cell_type": "code",
      "source": [
        "def is_even(x):\n",
        "  return x%2 == 0\n",
        "\n",
        "print(is_even(4))\n",
        "\n",
        "print((lambda x: x%2 == 0)(8))"
      ],
      "metadata": {
        "id": "9ry1VLzVYuPO"
      },
      "execution_count": null,
      "outputs": []
    },
    {
      "cell_type": "markdown",
      "source": [
        "**Ex 28. Funkcje - zmienna ilość parameterów**"
      ],
      "metadata": {
        "id": "Z5BehP01fXTS"
      }
    },
    {
      "cell_type": "code",
      "source": [
        "def vargs_func(*args):\n",
        "    print(args)\n",
        "\n",
        "vargs_func('a','b','c')\n",
        "vargs_func(1,2,3,4,5)"
      ],
      "metadata": {
        "id": "Ci3myWQk_xin"
      },
      "execution_count": null,
      "outputs": []
    },
    {
      "cell_type": "code",
      "source": [
        "def vargs_func(*args):\n",
        "    print(\"Liczba przekazanych parametrów:\",len(args))\n",
        "    for arg in args:\n",
        "        print (\"Wartość:\",arg)\n",
        "\n",
        "lista = [1,2,3,4]\n",
        "vargs_func(1,lista,2,'xyz',3)"
      ],
      "metadata": {
        "id": "Jh5lbYPE_xfz"
      },
      "execution_count": null,
      "outputs": []
    },
    {
      "cell_type": "code",
      "source": [
        "def vargs_func(**kwargs):\n",
        "    print(\"Number of parameters:\",len(kwargs))\n",
        "    for key, item in kwargs.items():\n",
        "        print (\"Key \", key, \"Vslue \", item)\n",
        "\n",
        "vargs_func(a=1,b=2,c=3)"
      ],
      "metadata": {
        "id": "GK3gdjmm_xdI"
      },
      "execution_count": null,
      "outputs": []
    },
    {
      "cell_type": "code",
      "source": [
        "def vargs_func(*args, **kwargs):\n",
        "    print(\"Number of parameters *args:\",len(args))\n",
        "    for arg in args:\n",
        "        print (\"Arg \", arg)\n",
        "\n",
        "    print(\"Number of parameters **kwargs:\",len(kwargs))\n",
        "    for key, item in kwargs.items():\n",
        "        print (\"Key \", key, \"Value \", item)\n",
        "\n",
        "vargs_func(1,2,'x',[1,'a',2],a=1,b=2,c=3)"
      ],
      "metadata": {
        "id": "fIKHcjEV_xYM"
      },
      "execution_count": null,
      "outputs": []
    }
  ]
}
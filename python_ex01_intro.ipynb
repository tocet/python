{
  "nbformat": 4,
  "nbformat_minor": 0,
  "metadata": {
    "colab": {
      "provenance": []
    },
    "kernelspec": {
      "name": "python3",
      "display_name": "Python 3"
    },
    "language_info": {
      "name": "python"
    }
  },
  "cells": [
    {
      "cell_type": "markdown",
      "source": [
        "**Ex 1. Typy danych skalarnych (scalar objects)**"
      ],
      "metadata": {
        "id": "AmV6bSnIwkvZ"
      }
    },
    {
      "cell_type": "code",
      "source": [
        "type(1)"
      ],
      "metadata": {
        "colab": {
          "base_uri": "https://localhost:8080/"
        },
        "id": "iHPfJcMgwyNV",
        "outputId": "148b7597-c7e2-4592-b9f8-5ad12d3247e3"
      },
      "execution_count": null,
      "outputs": [
        {
          "output_type": "execute_result",
          "data": {
            "text/plain": [
              "int"
            ]
          },
          "metadata": {},
          "execution_count": 1
        }
      ]
    },
    {
      "cell_type": "code",
      "source": [
        "type(1.0)"
      ],
      "metadata": {
        "colab": {
          "base_uri": "https://localhost:8080/"
        },
        "id": "GLBhLQz_xIHY",
        "outputId": "a0358056-2d23-46ab-984f-8120d5456ed4"
      },
      "execution_count": null,
      "outputs": [
        {
          "output_type": "execute_result",
          "data": {
            "text/plain": [
              "float"
            ]
          },
          "metadata": {},
          "execution_count": 2
        }
      ]
    },
    {
      "cell_type": "code",
      "source": [
        "print(type(False))\n",
        "type(True)"
      ],
      "metadata": {
        "colab": {
          "base_uri": "https://localhost:8080/"
        },
        "id": "T7Bfe9vExL91",
        "outputId": "697721b9-c7f4-4b53-f2e4-e40741e17416"
      },
      "execution_count": null,
      "outputs": [
        {
          "output_type": "stream",
          "name": "stdout",
          "text": [
            "<class 'bool'>\n"
          ]
        },
        {
          "output_type": "execute_result",
          "data": {
            "text/plain": [
              "bool"
            ]
          },
          "metadata": {},
          "execution_count": 3
        }
      ]
    },
    {
      "cell_type": "markdown",
      "source": [
        "**Ex 2. Wyświetlanie w konsoli - print**"
      ],
      "metadata": {
        "id": "wTnYCwWNJP2W"
      }
    },
    {
      "cell_type": "code",
      "source": [
        "x, y, z = 0, 2.0, 5\n",
        "print('x = ',x)\n",
        "print('y = {:.2f}'.format(y))\n",
        "print(f'z = {y*z}')"
      ],
      "metadata": {
        "colab": {
          "base_uri": "https://localhost:8080/"
        },
        "id": "Pdy7yKaTXnlq",
        "outputId": "08149b93-dfcb-4ab4-e04a-8ebda3c2b316"
      },
      "execution_count": null,
      "outputs": [
        {
          "output_type": "stream",
          "name": "stdout",
          "text": [
            "x =  0\n",
            "y = 2.00\n",
            "z = 10.0\n"
          ]
        }
      ]
    },
    {
      "cell_type": "markdown",
      "source": [
        "**Ex 3. Wybrane operatory matematyczne**"
      ],
      "metadata": {
        "id": "FoZRcaAQx9zX"
      }
    },
    {
      "cell_type": "code",
      "source": [
        "# Dzielenie - część całkowita\n",
        "print(7//4)\n",
        "# Dzielnie - reszta\n",
        "print(7%4)\n",
        "# Potęgowanie\n",
        "print(2**4)"
      ],
      "metadata": {
        "colab": {
          "base_uri": "https://localhost:8080/"
        },
        "id": "7t709RagyCOz",
        "outputId": "61fe1109-ff23-4cd3-9c33-40cc30c82cfe"
      },
      "execution_count": null,
      "outputs": [
        {
          "output_type": "stream",
          "name": "stdout",
          "text": [
            "1\n",
            "3\n",
            "16\n"
          ]
        }
      ]
    },
    {
      "cell_type": "markdown",
      "source": [
        "**Ex 4. Obiekty typu string**"
      ],
      "metadata": {
        "id": "7wYV_ET3zFU2"
      }
    },
    {
      "cell_type": "code",
      "source": [
        "a = \"Języki\"\n",
        "b = \"skryptowe\"\n",
        "c = a + b\n",
        "print(c)\n",
        "c = a + \" \" + b\n",
        "print(c)\n",
        "c = 2 * a + b\n",
        "print(c)"
      ],
      "metadata": {
        "colab": {
          "base_uri": "https://localhost:8080/"
        },
        "id": "mZulYXhc2eKv",
        "outputId": "4d10b42a-c655-43e3-ef8f-4d86695b3b9a"
      },
      "execution_count": null,
      "outputs": [
        {
          "output_type": "stream",
          "name": "stdout",
          "text": [
            "Językiskryptowe\n",
            "Języki skryptowe\n",
            "JęzykiJęzykiskryptowe\n"
          ]
        }
      ]
    },
    {
      "cell_type": "code",
      "source": [
        "a = \"Języki\"\n",
        "print(len(a))\n",
        "print(a[0])\n",
        "print(a[1])\n",
        "print(a[-1])\n",
        "print(a[-2])"
      ],
      "metadata": {
        "colab": {
          "base_uri": "https://localhost:8080/"
        },
        "id": "lznIJS-63PAg",
        "outputId": "ea6ed48b-b755-4099-a776-f33ff8e3d685"
      },
      "execution_count": null,
      "outputs": [
        {
          "output_type": "stream",
          "name": "stdout",
          "text": [
            "6\n",
            "J\n",
            "ę\n",
            "i\n",
            "k\n"
          ]
        }
      ]
    },
    {
      "cell_type": "markdown",
      "source": [
        "**Ex 5. Praca z obiektami typu string**"
      ],
      "metadata": {
        "id": "nI6a3wiRJ2pJ"
      }
    },
    {
      "cell_type": "code",
      "source": [
        "# String slicing - substrings\n",
        "a = \"Języki skrytpowe\"\n",
        "print(a[2:5])   # [start:stop]\n",
        "print(a[0:8:3]) # [start:stop:step]\n",
        "print(a[::2])\n",
        "print(a[::-1])\n",
        "print(a[6:2:-2])\n",
        "print(a[4:1])"
      ],
      "metadata": {
        "colab": {
          "base_uri": "https://localhost:8080/"
        },
        "id": "bUXeouFh3yD2",
        "outputId": "0fee397e-6a39-4ff6-b580-a234474e64f4"
      },
      "execution_count": null,
      "outputs": [
        {
          "output_type": "stream",
          "name": "stdout",
          "text": [
            "zyk\n",
            "Jy \n",
            "Jzk kypw\n",
            "ewoptyrks ikyzęJ\n",
            " k\n",
            "\n"
          ]
        }
      ]
    },
    {
      "cell_type": "code",
      "source": [
        "# String are immutable\n",
        "a = 'Języki skryptowe'\n",
        "print(a)\n",
        "a = \"Języki skrytpowe\"\n",
        "print(a)\n",
        "print(a[2])\n",
        "a[2]='X'"
      ],
      "metadata": {
        "id": "8hxtoptg70d4",
        "colab": {
          "base_uri": "https://localhost:8080/",
          "height": 238
        },
        "collapsed": true,
        "outputId": "0d663c8c-e19d-4c61-adc4-406fdc000c82"
      },
      "execution_count": null,
      "outputs": [
        {
          "output_type": "stream",
          "name": "stdout",
          "text": [
            "Języki skryptowe\n",
            "Języki skrytpowe\n",
            "z\n"
          ]
        },
        {
          "output_type": "error",
          "ename": "TypeError",
          "evalue": "'str' object does not support item assignment",
          "traceback": [
            "\u001b[0;31m---------------------------------------------------------------------------\u001b[0m",
            "\u001b[0;31mTypeError\u001b[0m                                 Traceback (most recent call last)",
            "\u001b[0;32m<ipython-input-9-d1e04628fa1d>\u001b[0m in \u001b[0;36m<cell line: 7>\u001b[0;34m()\u001b[0m\n\u001b[1;32m      5\u001b[0m \u001b[0mprint\u001b[0m\u001b[0;34m(\u001b[0m\u001b[0ma\u001b[0m\u001b[0;34m)\u001b[0m\u001b[0;34m\u001b[0m\u001b[0;34m\u001b[0m\u001b[0m\n\u001b[1;32m      6\u001b[0m \u001b[0mprint\u001b[0m\u001b[0;34m(\u001b[0m\u001b[0ma\u001b[0m\u001b[0;34m[\u001b[0m\u001b[0;36m2\u001b[0m\u001b[0;34m]\u001b[0m\u001b[0;34m)\u001b[0m\u001b[0;34m\u001b[0m\u001b[0;34m\u001b[0m\u001b[0m\n\u001b[0;32m----> 7\u001b[0;31m \u001b[0ma\u001b[0m\u001b[0;34m[\u001b[0m\u001b[0;36m2\u001b[0m\u001b[0;34m]\u001b[0m\u001b[0;34m=\u001b[0m\u001b[0;34m'X'\u001b[0m\u001b[0;34m\u001b[0m\u001b[0;34m\u001b[0m\u001b[0m\n\u001b[0m",
            "\u001b[0;31mTypeError\u001b[0m: 'str' object does not support item assignment"
          ]
        }
      ]
    },
    {
      "cell_type": "code",
      "source": [
        "a = \"Języki skrytpowe\"\n",
        "a = a[:2] + \"X\" + a[3:]\n",
        "print(a)"
      ],
      "metadata": {
        "colab": {
          "base_uri": "https://localhost:8080/"
        },
        "id": "UF55HquU8Z-G",
        "outputId": "90d1fd7b-9218-486c-9824-84b1a7fb6066"
      },
      "execution_count": null,
      "outputs": [
        {
          "output_type": "stream",
          "name": "stdout",
          "text": [
            "JęXyki skrytpowe\n"
          ]
        }
      ]
    },
    {
      "cell_type": "code",
      "source": [
        "x = input(\"Enter text: \")\n",
        "print(2*x)"
      ],
      "metadata": {
        "colab": {
          "base_uri": "https://localhost:8080/"
        },
        "id": "zmI2v0KmGjKI",
        "outputId": "f99f82d5-628f-4ed1-de39-f5c539acd686"
      },
      "execution_count": null,
      "outputs": [
        {
          "output_type": "stream",
          "name": "stdout",
          "text": [
            "Enter text: jakiś tekst\n",
            "jakiś tekstjakiś tekst\n"
          ]
        }
      ]
    },
    {
      "cell_type": "markdown",
      "source": [
        "**Ex 6. Dodanie modułu/biblioteki - from ... import**"
      ],
      "metadata": {
        "id": "U-H_Jj5ZtGEW"
      }
    },
    {
      "cell_type": "code",
      "source": [
        "import datetime\n",
        "\n",
        "this_minute = datetime.datetime.today().minute\n",
        "print(this_minute)"
      ],
      "metadata": {
        "colab": {
          "base_uri": "https://localhost:8080/"
        },
        "id": "YecCVC_9FxBi",
        "outputId": "2439d2d7-3602-4e7b-d15e-49844bbd9763"
      },
      "execution_count": null,
      "outputs": [
        {
          "output_type": "stream",
          "name": "stdout",
          "text": [
            "19\n"
          ]
        }
      ]
    },
    {
      "cell_type": "code",
      "execution_count": null,
      "metadata": {
        "id": "4YnTVoa5r0aC"
      },
      "outputs": [],
      "source": [
        "from datetime import datetime\n",
        "\n",
        "this_minute = datetime.today().minute\n",
        "print(this_minute)"
      ]
    },
    {
      "cell_type": "markdown",
      "source": [
        "**Ex 7. Dodanie modułu/biblioteki - from ... import ... as**"
      ],
      "metadata": {
        "id": "ZK0gdInYtEJT"
      }
    },
    {
      "cell_type": "code",
      "source": [
        "from datetime import datetime as dt\n",
        "\n",
        "this_minute = dt.today().minute\n",
        "print(this_minute)"
      ],
      "metadata": {
        "id": "YEr2p_g3tLvZ",
        "colab": {
          "base_uri": "https://localhost:8080/"
        },
        "outputId": "8c0656b4-917a-4416-a1f1-127a4c3f93fc"
      },
      "execution_count": null,
      "outputs": [
        {
          "output_type": "stream",
          "name": "stdout",
          "text": [
            "20\n"
          ]
        }
      ]
    },
    {
      "cell_type": "markdown",
      "source": [
        "**Ex 8. Instrukcja warunkowa - if ... elif ... else**"
      ],
      "metadata": {
        "id": "k7fEbV67VaK3"
      }
    },
    {
      "cell_type": "code",
      "source": [
        "import time as t\n",
        "\n",
        "today = t.strftime(\"%A\")\n",
        "if today == \"Saturday\":\n",
        "    print(\"Python course\")\n",
        "elif today == \"Sunday\":\n",
        "    print(\"No Python classes\")\n",
        "else:\n",
        "    print(\"No classes at all\")\n",
        "\n",
        "if today != \"Sonnabend\":\n",
        "  print(\"Please use English\")\n",
        "\n",
        "a = 5\n",
        "b = 10\n",
        "if a>3 and b<8:\n",
        "  print(\"True\")\n",
        "else:\n",
        "  print(\"False\")\n",
        "\n",
        "if a>3 or b<8:\n",
        "  print(\"True\")\n",
        "else:\n",
        "  print(\"False\")\n",
        "\n",
        "found = False\n",
        "if not found:\n",
        "  print(\"A jednak działa\")\n",
        "else:\n",
        "  print(\"A jednak nie\")\n",
        "\n"
      ],
      "metadata": {
        "colab": {
          "base_uri": "https://localhost:8080/"
        },
        "id": "-ha_C_fc-uhf",
        "outputId": "13237eb9-6712-480c-fce3-3d78e364a4bb"
      },
      "execution_count": null,
      "outputs": [
        {
          "output_type": "stream",
          "name": "stdout",
          "text": [
            "No classes at all\n",
            "Please use English\n",
            "False\n",
            "True\n",
            "A jednak działa\n"
          ]
        }
      ]
    },
    {
      "cell_type": "markdown",
      "source": [
        "**Ex 9. Pętla for**"
      ],
      "metadata": {
        "id": "C12-sy6VLeZh"
      }
    },
    {
      "cell_type": "code",
      "source": [
        "for i in [1,2,3,5]:\n",
        "    print(i)\n",
        "print(\"----------\")\n",
        "\n",
        "for i in \"Python\":\n",
        "    print(i)\n",
        "print(\"----------\")\n",
        "\n",
        "for i in range(4):\n",
        "    print(\"Python\")\n",
        "print(\"----------\")"
      ],
      "metadata": {
        "colab": {
          "base_uri": "https://localhost:8080/"
        },
        "id": "NWiI-vtD-7VU",
        "outputId": "a93b4fd0-32f6-41c2-f0d1-48dea31b18b8"
      },
      "execution_count": null,
      "outputs": [
        {
          "output_type": "stream",
          "name": "stdout",
          "text": [
            "1\n",
            "2\n",
            "3\n",
            "5\n",
            "----------\n",
            "P\n",
            "y\n",
            "t\n",
            "h\n",
            "o\n",
            "n\n",
            "----------\n",
            "Python\n",
            "Python\n",
            "Python\n",
            "Python\n",
            "----------\n"
          ]
        }
      ]
    },
    {
      "cell_type": "code",
      "source": [
        "print(range(4))\n",
        "\n",
        "print(list(range(4)))\n",
        "\n",
        "print(list(range(4,10)))\n",
        "\n",
        "print(list(range(0,8,2)))\n",
        "\n",
        "print(list(range(8,0,-2)))"
      ],
      "metadata": {
        "colab": {
          "base_uri": "https://localhost:8080/"
        },
        "id": "inoXcRDC_BUv",
        "outputId": "2413e86b-a183-4ef5-9818-18868774a78a"
      },
      "execution_count": null,
      "outputs": [
        {
          "output_type": "stream",
          "name": "stdout",
          "text": [
            "range(0, 4)\n",
            "[0, 1, 2, 3]\n",
            "[4, 5, 6, 7, 8, 9]\n",
            "[0, 2, 4, 6]\n",
            "[8, 6, 4, 2]\n"
          ]
        }
      ]
    },
    {
      "cell_type": "markdown",
      "source": [
        "**Ex 10. Pętla while**"
      ],
      "metadata": {
        "id": "vA0vX4HZLw-m"
      }
    },
    {
      "cell_type": "code",
      "source": [
        "# while\n",
        "licznik = 0\n",
        "\n",
        "while licznik < 3:\n",
        "    print(\"Inside while\")\n",
        "    licznik += 1\n",
        "else:\n",
        "    print(\"Inside else\")\n",
        "\n",
        "# do-while\n",
        "while True:\n",
        "    liczba = int(input(\"Wprowadź liczbe dodatnią: \"))\n",
        "    if liczba > 0:\n",
        "        print(\"OK\")\n",
        "        break\n",
        "    print('Liczba ujemna')\n",
        "\n",
        "# pass\n",
        "while int(input(\"Podaj liczbę większą od 10: \")) <= 10:\n",
        "  pass\n",
        "print(\"Sukces\")"
      ],
      "metadata": {
        "colab": {
          "base_uri": "https://localhost:8080/"
        },
        "id": "Nh5WeU53_Lb1",
        "outputId": "91daea4c-99ae-4d07-b8fa-0a06f169338a"
      },
      "execution_count": null,
      "outputs": [
        {
          "output_type": "stream",
          "name": "stdout",
          "text": [
            "Inside while\n",
            "Inside while\n",
            "Inside while\n",
            "Inside else\n",
            "Wprowadź liczbe dodatnią: 5\n",
            "OK\n",
            "Podaj liczbę większą od 10: 256\n",
            "Sukces\n"
          ]
        }
      ]
    },
    {
      "cell_type": "markdown",
      "source": [
        "**Ex 11. Wyrażenie match-case**"
      ],
      "metadata": {
        "id": "SDi0yG9rMGR9"
      }
    },
    {
      "cell_type": "code",
      "source": [
        "def weekday(n):\n",
        "   match n:\n",
        "      case 0: return \"Monday\"\n",
        "      case 1: return \"Tuesday\"\n",
        "      case 2: return \"Wednesday\"\n",
        "      case 3: return \"Thursday\"\n",
        "      case 4: return \"Friday\"\n",
        "      case 5: return \"Saturday\"\n",
        "      case 6: return \"Sunday\"\n",
        "      case _: return \"Invalid day number\"\n",
        "\n",
        "print (weekday(3))\n",
        "print (weekday(6))\n",
        "print (weekday(7))"
      ],
      "metadata": {
        "colab": {
          "base_uri": "https://localhost:8080/"
        },
        "id": "gRZGBXVM_OYa",
        "outputId": "a392bec3-1648-40e4-b83d-24060a5680ad"
      },
      "execution_count": null,
      "outputs": [
        {
          "output_type": "stream",
          "name": "stdout",
          "text": [
            "Thursday\n",
            "Sunday\n",
            "Invalid day number\n"
          ]
        }
      ]
    },
    {
      "cell_type": "markdown",
      "source": [
        "**Ex 12. Reprezentacja binarna**"
      ],
      "metadata": {
        "id": "KplAnpblMXXF"
      }
    },
    {
      "cell_type": "code",
      "source": [
        "x = 0\n",
        "for i in range(10):\n",
        "  x += 0.1\n",
        "print(x==1)\n",
        "print(x, '==', 10*0.1)"
      ],
      "metadata": {
        "colab": {
          "base_uri": "https://localhost:8080/"
        },
        "id": "k9QOhzPCOwQE",
        "outputId": "3341e6db-6637-4237-e00e-0daedee384e1"
      },
      "execution_count": null,
      "outputs": [
        {
          "output_type": "stream",
          "name": "stdout",
          "text": [
            "False\n",
            "0.9999999999999999 == 1.0\n"
          ]
        }
      ]
    },
    {
      "cell_type": "markdown",
      "source": [
        "**Ex 13. Lista**"
      ],
      "metadata": {
        "id": "wdsV-MI8Ow6W"
      }
    },
    {
      "cell_type": "code",
      "source": [
        "#lists\n",
        "temps = [ 0.0, 100.0, -17.78, 27.5, 37.78, 7.39 ]\n",
        "print(temps)\n",
        "car_details = [ 'Kia', 'Sportage', 1.6, 3200]\n",
        "print(car_details)\n",
        "list_of_lists = [ [ 1, 2, 3], ['a', 'b', 'c' ], [ 'Jeden','Dwa','Trzy' ] ]\n",
        "print(list_of_lists)"
      ],
      "metadata": {
        "colab": {
          "base_uri": "https://localhost:8080/"
        },
        "id": "8O0StvRO_RdY",
        "outputId": "dbf1917c-c5c6-49be-979f-87f951eff856"
      },
      "execution_count": null,
      "outputs": [
        {
          "output_type": "stream",
          "name": "stdout",
          "text": [
            "[0.0, 100.0, -17.78, 27.5, 37.78, 7.39]\n",
            "['Kia', 'Sportage', 1.6, 3200]\n",
            "[[1, 2, 3], ['a', 'b', 'c'], ['Jeden', 'Dwa', 'Trzy']]\n"
          ]
        }
      ]
    },
    {
      "cell_type": "code",
      "source": [
        "vowels = ['a', 'e', 'i', 'o', 'u']\n",
        "word = input(\"Write a word: \")\n",
        "found = []\n",
        "for letter in word:\n",
        "    if letter in vowels:\n",
        "        if letter not in found:\n",
        "            found.append(letter)\n",
        "\n",
        "for vowel in found:\n",
        "    print(vowel)"
      ],
      "metadata": {
        "colab": {
          "base_uri": "https://localhost:8080/"
        },
        "id": "hZ4tD-rr_U_z",
        "outputId": "3643bd43-2f1d-4d24-f540-79bfcab429dc"
      },
      "execution_count": null,
      "outputs": [
        {
          "output_type": "stream",
          "name": "stdout",
          "text": [
            "Write a word: stonoga\n",
            "o\n",
            "a\n"
          ]
        }
      ]
    },
    {
      "cell_type": "markdown",
      "source": [
        "**Ex 14. Lista - usuwanie elementów**"
      ],
      "metadata": {
        "id": "004QiFdoawgp"
      }
    },
    {
      "cell_type": "code",
      "source": [
        "numbers = [1,2,4,8]\n",
        "print(numbers)\n",
        "\n",
        "# usuniecie elementu o okreslonej wartosci\n",
        "numbers.remove(4)\n",
        "print(numbers)\n",
        "\n",
        "# usuniecie elementu o okreslonym indeksie\n",
        "del_num = numbers.pop(1)\n",
        "print(numbers)\n",
        "print(del_num)\n",
        "\n",
        "#usuniecie\n",
        "del numbers[0]\n",
        "print(numbers)"
      ],
      "metadata": {
        "colab": {
          "base_uri": "https://localhost:8080/"
        },
        "id": "GbmrpkzY_Xi3",
        "outputId": "a1c4b6db-d0c4-480c-d1b3-d4d9ee93b850"
      },
      "execution_count": null,
      "outputs": [
        {
          "output_type": "stream",
          "name": "stdout",
          "text": [
            "[1, 2, 4, 8]\n",
            "[1, 2, 8]\n",
            "[1, 8]\n",
            "2\n",
            "[8]\n"
          ]
        }
      ]
    },
    {
      "cell_type": "markdown",
      "source": [
        "**Ex 15. Lista - dodawanie elementów**"
      ],
      "metadata": {
        "id": "-v0tZzJCa2I5"
      }
    },
    {
      "cell_type": "code",
      "source": [
        "numbers = []\n",
        "print(len(numbers))\n",
        "\n",
        "numbers.append(10)\n",
        "print(numbers)\n",
        "\n",
        "numbers = [1,2,3,4]\n",
        "print(numbers)\n",
        "\n",
        "# rozszerzenie o liste obiektów\n",
        "numbers.extend([5,6])\n",
        "print(numbers)\n",
        "\n",
        "# rozszerzenie o obiekt (5) wstawiony PRZED indeksem(0)\n",
        "numbers.insert(0,5)\n",
        "print(numbers)\n",
        "\n",
        "numbers.insert(1,25)\n",
        "print(numbers)"
      ],
      "metadata": {
        "colab": {
          "base_uri": "https://localhost:8080/"
        },
        "id": "N8OjHywla21M",
        "outputId": "7b57f877-c011-49dd-d0de-bdafe1af9638"
      },
      "execution_count": null,
      "outputs": [
        {
          "output_type": "stream",
          "name": "stdout",
          "text": [
            "0\n",
            "[10]\n",
            "[1, 2, 3, 4]\n",
            "[1, 2, 3, 4, 5, 6]\n",
            "[5, 1, 2, 3, 4, 5, 6]\n",
            "[5, 25, 1, 2, 3, 4, 5, 6]\n"
          ]
        }
      ]
    },
    {
      "cell_type": "markdown",
      "source": [
        "**Ex 16. Lista - kopiowanie**"
      ],
      "metadata": {
        "id": "KGpgubndbtC6"
      }
    },
    {
      "cell_type": "code",
      "source": [
        "numbers = list(range(10))\n",
        "print(numbers)\n",
        "numbers2 = numbers\n",
        "numbers3 = numbers.copy()\n",
        "print(numbers2)\n",
        "print(numbers3)\n",
        "numbers.append(100)\n",
        "print(numbers)\n",
        "print(numbers2)\n",
        "print(numbers3)"
      ],
      "metadata": {
        "colab": {
          "base_uri": "https://localhost:8080/"
        },
        "id": "RZtDKBEobtV9",
        "outputId": "3b50aa6f-461b-48ba-b80a-748cc35ea087"
      },
      "execution_count": null,
      "outputs": [
        {
          "output_type": "stream",
          "name": "stdout",
          "text": [
            "[0, 1, 2, 3, 4, 5, 6, 7, 8, 9]\n",
            "[0, 1, 2, 3, 4, 5, 6, 7, 8, 9]\n",
            "[0, 1, 2, 3, 4, 5, 6, 7, 8, 9]\n",
            "[0, 1, 2, 3, 4, 5, 6, 7, 8, 9, 100]\n",
            "[0, 1, 2, 3, 4, 5, 6, 7, 8, 9, 100]\n",
            "[0, 1, 2, 3, 4, 5, 6, 7, 8, 9]\n"
          ]
        }
      ]
    },
    {
      "cell_type": "markdown",
      "source": [
        "**Ex 17. Lista - wycinki**"
      ],
      "metadata": {
        "id": "niukPf-IcNNh"
      }
    },
    {
      "cell_type": "code",
      "source": [
        "s_letters = \"AbCdEfGh\"\n",
        "letters = list(s_letters)\n",
        "print(s_letters)\n",
        "print(letters)\n",
        "\n",
        "print(letters[0])\n",
        "print(letters[2])\n",
        "print(letters[-1])\n",
        "print(letters[-3])\n",
        "\n",
        "print(letters[3:])\n",
        "print(letters[:2])\n",
        "print(letters[::2])\n",
        "print(letters[1:3])\n",
        "print(letters[0:7:2])\n",
        "\n",
        "print(''.join(letters[-3:]))\n",
        "print(''.join(letters[::-1]))\n",
        "\n",
        "for ch in letters:\n",
        "    print('\\t',ch)\n",
        "\n",
        "for ch in letters[0:7:2]:\n",
        "    print('\\t \\t',ch)"
      ],
      "metadata": {
        "colab": {
          "base_uri": "https://localhost:8080/"
        },
        "id": "CCEnTbDu_XbO",
        "outputId": "78db3f85-f3d6-4e67-a406-32fb2666ba22"
      },
      "execution_count": null,
      "outputs": [
        {
          "output_type": "stream",
          "name": "stdout",
          "text": [
            "AbCdEfGh\n",
            "['A', 'b', 'C', 'd', 'E', 'f', 'G', 'h']\n",
            "A\n",
            "C\n",
            "h\n",
            "f\n",
            "['d', 'E', 'f', 'G', 'h']\n",
            "['A', 'b']\n",
            "['A', 'C', 'E', 'G']\n",
            "['b', 'C']\n",
            "['A', 'C', 'E', 'G']\n",
            "fGh\n",
            "hGfEdCbA\n",
            "\t A\n",
            "\t b\n",
            "\t C\n",
            "\t d\n",
            "\t E\n",
            "\t f\n",
            "\t G\n",
            "\t h\n",
            "\t \t A\n",
            "\t \t C\n",
            "\t \t E\n",
            "\t \t G\n"
          ]
        }
      ]
    },
    {
      "cell_type": "code",
      "source": [
        "lista = [1,3,5,7]\n",
        "lista = [i+1 for i in lista]\n",
        "print(lista)\n",
        "\n",
        "lista = [1,3,4,5,7,8]\n",
        "lista = [i for i in lista if i % 2 == 0 ]\n",
        "print(lista)\n",
        "\n",
        "lista = [1,3,4,5,7,8]\n",
        "lista = ['Parzysta' if i%2 == 0 else 'Nieparzysta' for i in lista]\n",
        "print(lista)\n",
        "\n",
        "lista = [1,3,4,5,7,8]\n",
        "def func(i):\n",
        "    if i % 2 == 0: return 'Parzyste'\n",
        "    else: return 'Nieparzyste'\n",
        "lista = [func(i) for i in lista]\n",
        "print(lista)"
      ],
      "metadata": {
        "colab": {
          "base_uri": "https://localhost:8080/"
        },
        "id": "qboQ2Fs7_bcE",
        "outputId": "e5f6e2a1-ee84-45b9-8c1b-0567e9a0e7ba"
      },
      "execution_count": null,
      "outputs": [
        {
          "output_type": "stream",
          "name": "stdout",
          "text": [
            "[2, 4, 6, 8]\n",
            "[4, 8]\n",
            "['Nieparzysta', 'Nieparzysta', 'Parzysta', 'Nieparzysta', 'Nieparzysta', 'Parzysta']\n",
            "['Nieparzyste', 'Nieparzyste', 'Parzyste', 'Nieparzyste', 'Nieparzyste', 'Parzyste']\n"
          ]
        }
      ]
    },
    {
      "cell_type": "markdown",
      "source": [
        "**Ex 18. Słownik - dictionary**"
      ],
      "metadata": {
        "id": "fCUqP29xcwzZ"
      }
    },
    {
      "cell_type": "code",
      "source": [
        "person = {'Name': 'Tom',\n",
        "          'Phone': '123456789',\n",
        "          'Occupation': 'engineer',\n",
        "          'Home planet': 'Earth'}\n",
        "print(person)\n",
        "print(person['Home planet'])\n",
        "\n",
        "person['Age'] = '21'\n",
        "print(person)\n",
        "\n",
        "#vowels = {'a' : 0, 'e' : 0, 'i' : 0, 'o' : 0, 'u' : 0}\n",
        "vowels = ['a','e','i','o','u']\n",
        "found_vowels ={}\n",
        "word = input(\"Enter Your word: \")\n",
        "for letter in word:\n",
        "    if letter in vowels:\n",
        "        found_vowels.setdefault(letter,0)\n",
        "        found_vowels[letter] += 1\n",
        "\n",
        "#k:v -> klucz:wartość\n",
        "for k, v in sorted(found_vowels.items()):\n",
        "    print(k, 'found', v, 'times')\n",
        "\n",
        "# tylko klucze\n",
        "for key in person.keys():\n",
        "  print(key.title())\n",
        "\n",
        "# tylko wartości\n",
        "for val in person.values():\n",
        "  print(val.title())\n",
        "\n",
        "del person['Occupation']\n",
        "print(person)\n",
        "\n",
        "print(person.get('Occupation','Klucz nie istnieje'))"
      ],
      "metadata": {
        "id": "CLxzGIIn_iDe"
      },
      "execution_count": null,
      "outputs": []
    },
    {
      "cell_type": "markdown",
      "source": [
        "**Ex 19. Zbiór - set**"
      ],
      "metadata": {
        "id": "sNsF7-wfdA9t"
      }
    },
    {
      "cell_type": "code",
      "source": [
        "#zbiór - nie ma duplikatów\n",
        "vowels = set('aeiou')\n",
        "word = input(\"Enter Your word: \")\n",
        "\n",
        "sum_sets = vowels.union(set(word))\n",
        "print(sum_sets)\n",
        "\n",
        "diff_sets = vowels.difference(set(word))\n",
        "print(diff_sets)\n",
        "\n",
        "common_part=vowels.intersection(set(word))\n",
        "print(common_part)"
      ],
      "metadata": {
        "colab": {
          "base_uri": "https://localhost:8080/"
        },
        "id": "RktSjAZH_lLK",
        "outputId": "06bacbea-a608-4976-d858-dca822f7d71a"
      },
      "execution_count": null,
      "outputs": [
        {
          "output_type": "stream",
          "name": "stdout",
          "text": [
            "Enter Your word: stonoga\n",
            "{'t', 'n', 'u', 'e', 'o', 'g', 's', 'a', 'i'}\n",
            "{'e', 'i', 'u'}\n",
            "{'a', 'o'}\n"
          ]
        }
      ]
    },
    {
      "cell_type": "markdown",
      "source": [
        "**Ex 20. Krotka - tuple**"
      ],
      "metadata": {
        "id": "Cyz5lnu2dSn1"
      }
    },
    {
      "cell_type": "code",
      "source": [
        "#krotka vs string\n",
        "t = ('P','y','t','h','o','n')\n",
        "print(t)\n",
        "t = ('Python')\n",
        "print(type(t))\n",
        "t = ('Python',)\n",
        "print(t)\n",
        "print(type(t))\n",
        "\n",
        "# tuple - indexable, immutable(it is not possible to change value of any component)\n",
        "t_1 = (2)\n",
        "print(type(t_1))\n",
        "t_2 = (2,)\n",
        "print(type(t_2))\n",
        "\n",
        "# swap variables\n",
        "x = 1\n",
        "y = 2\n",
        "(x,y) = (y,x)\n",
        "print(x)\n",
        "print(y)\n",
        "\n",
        "# return more than 1 value from a function\n",
        "def quotient_and_reminder(x,y):\n",
        "  q = x // y\n",
        "  r = x % y\n",
        "  return (q,r)\n",
        "result = quotient_and_reminder(4,2)\n",
        "print(result[0],result[1])"
      ],
      "metadata": {
        "colab": {
          "base_uri": "https://localhost:8080/"
        },
        "id": "wovuEbfmcIID",
        "outputId": "944dd334-2776-4ca9-82d7-e22e35ce3db4"
      },
      "execution_count": null,
      "outputs": [
        {
          "output_type": "stream",
          "name": "stdout",
          "text": [
            "('P', 'y', 't', 'h', 'o', 'n')\n",
            "<class 'str'>\n",
            "('Python',)\n",
            "<class 'tuple'>\n",
            "<class 'int'>\n",
            "<class 'tuple'>\n",
            "2\n",
            "1\n",
            "2 0\n"
          ]
        }
      ]
    },
    {
      "cell_type": "markdown",
      "source": [
        "**Ex 21. Funkcje**"
      ],
      "metadata": {
        "id": "WPPjydpXd_Zc"
      }
    },
    {
      "cell_type": "code",
      "source": [
        "def search4vowels():\n",
        "    vowels = set('aeiou')\n",
        "    word = input(\"Podaj słowo, w którym należy wyszukać samogłoski: \")\n",
        "    found = vowels.intersection(set(word))\n",
        "    for vowel in found:\n",
        "        print(vowel)\n",
        "\n",
        "search4vowels()"
      ],
      "metadata": {
        "colab": {
          "base_uri": "https://localhost:8080/"
        },
        "id": "kymfMrQM_lww",
        "outputId": "c71712e9-d3dc-4199-c1f9-39a8e2468d1f"
      },
      "execution_count": null,
      "outputs": [
        {
          "output_type": "stream",
          "name": "stdout",
          "text": [
            "Podaj słowo, w którym należy wyszukać samogłoski: abrakadarbva\n",
            "a\n"
          ]
        }
      ]
    },
    {
      "cell_type": "code",
      "source": [
        "def search4vowels(word):\n",
        "    vowels = set('aeiou')\n",
        "    found = vowels.intersection(set(word))\n",
        "    return bool(found)\n",
        "\n",
        "print(search4vowels(\"Test\"))"
      ],
      "metadata": {
        "colab": {
          "base_uri": "https://localhost:8080/"
        },
        "id": "dh-4HSFK_lte",
        "outputId": "6123bcce-0051-4383-a13b-fcfcc09ba320"
      },
      "execution_count": null,
      "outputs": [
        {
          "output_type": "stream",
          "name": "stdout",
          "text": [
            "True\n"
          ]
        }
      ]
    },
    {
      "cell_type": "code",
      "source": [
        "def search4vowels(word):\n",
        "    vowels = set('aeiou')\n",
        "    return vowels.intersection(set(word))\n",
        "\n",
        "print(search4vowels(\"atest\"))"
      ],
      "metadata": {
        "id": "YSVGvte6_lp8"
      },
      "execution_count": null,
      "outputs": []
    },
    {
      "cell_type": "markdown",
      "source": [
        "**Ex 22. Funkcja rekurencyjna**"
      ],
      "metadata": {
        "id": "NdehdkqdeQ_P"
      }
    },
    {
      "cell_type": "code",
      "source": [
        "def change(phrase, position):\n",
        "    if phrase[position].isupper():\n",
        "        phrase = phrase[0:position] + phrase[position].lower() + phrase[position+1:]\n",
        "    else:\n",
        "        phrase = phrase[0:position] + phrase[position].upper() + phrase[position+1:]\n",
        "    if position == len(phrase)-1: return phrase;\n",
        "    return change(phrase, position+1)\n",
        "\n",
        "txt = \"Long long time ago. In the galaxy far away...\"\n",
        "print(change(txt, 0))"
      ],
      "metadata": {
        "colab": {
          "base_uri": "https://localhost:8080/"
        },
        "collapsed": true,
        "id": "xiejdgpt_lG0",
        "outputId": "36472bbc-bd76-4b2d-b346-124681b10f58"
      },
      "execution_count": null,
      "outputs": [
        {
          "output_type": "stream",
          "name": "stdout",
          "text": [
            "lONG LONG TIME AGO. iN THE GALAXY FAR AWAY...\n"
          ]
        }
      ]
    },
    {
      "cell_type": "markdown",
      "source": [
        "**Ex 23. Funkcje - jak działa help**"
      ],
      "metadata": {
        "id": "bzPCnLlLQ8ar"
      }
    },
    {
      "cell_type": "code",
      "source": [
        "def search4letters(word:str, letters:str=\"aeiou\") -> set:\n",
        "    \"\"\"\n",
        "    Wyszukuje litery w słowie wejściowym\n",
        "    W przypadku braku 2 argumentu, wyszukuje samogłoski\n",
        "    \"\"\"\n",
        "    return set(letters).intersection(set(word))\n",
        "\n",
        "help(search4letters)\n",
        "print(search4letters(\"atest\"))"
      ],
      "metadata": {
        "colab": {
          "base_uri": "https://localhost:8080/"
        },
        "collapsed": true,
        "id": "QfBjpVkr_xnq",
        "outputId": "baa63c33-b81d-486b-eeb6-3b5e23a1b236"
      },
      "execution_count": null,
      "outputs": [
        {
          "output_type": "stream",
          "name": "stdout",
          "text": [
            "Help on function search4letters in module __main__:\n",
            "\n",
            "search4letters(word: str, letters: str = 'aeiou') -> set\n",
            "    Wyszukuje litery w słowie wejściowym\n",
            "\n",
            "{'a', 'e'}\n"
          ]
        }
      ]
    },
    {
      "cell_type": "markdown",
      "source": [
        "**Ex 24. Funkcja jest obiektem**"
      ],
      "metadata": {
        "id": "bYyaWVGHSMiT"
      }
    },
    {
      "cell_type": "code",
      "source": [
        "a = print(5)\n",
        "print(a)"
      ],
      "metadata": {
        "colab": {
          "base_uri": "https://localhost:8080/"
        },
        "id": "tmBdpQGySHWa",
        "outputId": "96e784fd-1f48-4920-bcde-5a4814233429"
      },
      "execution_count": null,
      "outputs": [
        {
          "output_type": "stream",
          "name": "stdout",
          "text": [
            "5\n",
            "None\n"
          ]
        }
      ]
    },
    {
      "cell_type": "code",
      "source": [
        "def is_even(x):\n",
        "  return x%2 == 0\n",
        "\n",
        "new_fun = is_even\n",
        "new_fun(2)"
      ],
      "metadata": {
        "colab": {
          "base_uri": "https://localhost:8080/"
        },
        "id": "30oqX7Qge12R",
        "outputId": "69fa61b5-81e0-4fe4-a4bb-243bc101baa4"
      },
      "execution_count": null,
      "outputs": [
        {
          "output_type": "execute_result",
          "data": {
            "text/plain": [
              "True"
            ]
          },
          "metadata": {},
          "execution_count": 38
        }
      ]
    },
    {
      "cell_type": "code",
      "source": [
        "def calc(op,a,b):\n",
        "  return op(a,b)\n",
        "\n",
        "def add(a,b):\n",
        "  return a+b\n",
        "\n",
        "def mul(a,b):\n",
        "  return a*b\n",
        "\n",
        "print(calc(add,2,3))\n",
        "print(calc(mul,10,2))"
      ],
      "metadata": {
        "colab": {
          "base_uri": "https://localhost:8080/"
        },
        "id": "pkm8sbR1e4Iv",
        "outputId": "346ba30c-f2ec-44c0-cca3-c5854fa2f047"
      },
      "execution_count": null,
      "outputs": [
        {
          "output_type": "stream",
          "name": "stdout",
          "text": [
            "5\n",
            "20\n"
          ]
        }
      ]
    },
    {
      "cell_type": "code",
      "source": [
        "def add_2(a):\n",
        "  return a+2\n",
        "\n",
        "def add2even(c):\n",
        "  if c%2 == 0:\n",
        "    return add_2(c)\n",
        "  else:\n",
        "    return 'Nie zwiększono'\n",
        "\n",
        "print(add2even(2))\n",
        "print(add2even(3))"
      ],
      "metadata": {
        "colab": {
          "base_uri": "https://localhost:8080/"
        },
        "id": "rpfogMlOe8Wu",
        "outputId": "c1a5546b-7022-4091-c4bf-c143330ad3b8"
      },
      "execution_count": null,
      "outputs": [
        {
          "output_type": "stream",
          "name": "stdout",
          "text": [
            "4\n",
            "Nie zwiększono\n"
          ]
        }
      ]
    },
    {
      "cell_type": "markdown",
      "source": [
        "**Ex 25. Funkcje - dostęp do zmiennych - poziomy widoczności**"
      ],
      "metadata": {
        "id": "2BtUMClueo8F"
      }
    },
    {
      "cell_type": "code",
      "source": [
        "print(\"Funkcja 1\")\n",
        "def f(y):\n",
        "  x = 1\n",
        "  x += 1\n",
        "  print(x)\n",
        "\n",
        "x = 10\n",
        "f(x)\n",
        "print(x)\n",
        "\n",
        "print(\"Funkcja 2\")\n",
        "def g(y):\n",
        "  print(x)\n",
        "  print(x+1)\n",
        "\n",
        "x = 10\n",
        "g(x)\n",
        "print(x)\n",
        "\n",
        "print(\"Funkcja 3\")\n",
        "def h(y):\n",
        "  x += 1\n",
        "\n",
        "x = 10\n",
        "h(x)\n",
        "print(x)"
      ],
      "metadata": {
        "colab": {
          "base_uri": "https://localhost:8080/",
          "height": 475
        },
        "id": "AzwL5unMTYZd",
        "outputId": "83662592-afab-4dd5-f308-43df3e268a39"
      },
      "execution_count": null,
      "outputs": [
        {
          "output_type": "stream",
          "name": "stdout",
          "text": [
            "Funkcja 1\n",
            "2\n",
            "10\n",
            "Funkcja 2\n",
            "10\n",
            "11\n",
            "10\n",
            "Funkcja 3\n"
          ]
        },
        {
          "output_type": "error",
          "ename": "UnboundLocalError",
          "evalue": "local variable 'x' referenced before assignment",
          "traceback": [
            "\u001b[0;31m---------------------------------------------------------------------------\u001b[0m",
            "\u001b[0;31mUnboundLocalError\u001b[0m                         Traceback (most recent call last)",
            "\u001b[0;32m<ipython-input-41-64d06693704b>\u001b[0m in \u001b[0;36m<cell line: 25>\u001b[0;34m()\u001b[0m\n\u001b[1;32m     23\u001b[0m \u001b[0;34m\u001b[0m\u001b[0m\n\u001b[1;32m     24\u001b[0m \u001b[0mx\u001b[0m \u001b[0;34m=\u001b[0m \u001b[0;36m10\u001b[0m\u001b[0;34m\u001b[0m\u001b[0;34m\u001b[0m\u001b[0m\n\u001b[0;32m---> 25\u001b[0;31m \u001b[0mh\u001b[0m\u001b[0;34m(\u001b[0m\u001b[0mx\u001b[0m\u001b[0;34m)\u001b[0m\u001b[0;34m\u001b[0m\u001b[0;34m\u001b[0m\u001b[0m\n\u001b[0m\u001b[1;32m     26\u001b[0m \u001b[0mprint\u001b[0m\u001b[0;34m(\u001b[0m\u001b[0mx\u001b[0m\u001b[0;34m)\u001b[0m\u001b[0;34m\u001b[0m\u001b[0;34m\u001b[0m\u001b[0m\n",
            "\u001b[0;32m<ipython-input-41-64d06693704b>\u001b[0m in \u001b[0;36mh\u001b[0;34m(y)\u001b[0m\n\u001b[1;32m     20\u001b[0m \u001b[0mprint\u001b[0m\u001b[0;34m(\u001b[0m\u001b[0;34m\"Funkcja 3\"\u001b[0m\u001b[0;34m)\u001b[0m\u001b[0;34m\u001b[0m\u001b[0;34m\u001b[0m\u001b[0m\n\u001b[1;32m     21\u001b[0m \u001b[0;32mdef\u001b[0m \u001b[0mh\u001b[0m\u001b[0;34m(\u001b[0m\u001b[0my\u001b[0m\u001b[0;34m)\u001b[0m\u001b[0;34m:\u001b[0m\u001b[0;34m\u001b[0m\u001b[0;34m\u001b[0m\u001b[0m\n\u001b[0;32m---> 22\u001b[0;31m   \u001b[0mx\u001b[0m \u001b[0;34m+=\u001b[0m\u001b[0;36m1\u001b[0m\u001b[0;34m\u001b[0m\u001b[0;34m\u001b[0m\u001b[0m\n\u001b[0m\u001b[1;32m     23\u001b[0m \u001b[0;34m\u001b[0m\u001b[0m\n\u001b[1;32m     24\u001b[0m \u001b[0mx\u001b[0m \u001b[0;34m=\u001b[0m \u001b[0;36m10\u001b[0m\u001b[0;34m\u001b[0m\u001b[0;34m\u001b[0m\u001b[0m\n",
            "\u001b[0;31mUnboundLocalError\u001b[0m: local variable 'x' referenced before assignment"
          ]
        }
      ]
    },
    {
      "cell_type": "markdown",
      "source": [
        "**Ex 26. Funkcje - zmienna global**"
      ],
      "metadata": {
        "id": "EpytZdb9UibZ"
      }
    },
    {
      "cell_type": "code",
      "source": [
        "def h(y):\n",
        "  global x\n",
        "  x +=1\n",
        "\n",
        "x = 10\n",
        "h(x)\n",
        "print(x)"
      ],
      "metadata": {
        "colab": {
          "base_uri": "https://localhost:8080/"
        },
        "id": "UjrAF91HUi2O",
        "outputId": "8b48099d-94ff-483f-b8bd-2b5e6efa15c3"
      },
      "execution_count": null,
      "outputs": [
        {
          "output_type": "stream",
          "name": "stdout",
          "text": [
            "11\n"
          ]
        }
      ]
    },
    {
      "cell_type": "markdown",
      "source": [
        "**Ex 27. Lambda, czyli funkcje anonimowe**"
      ],
      "metadata": {
        "id": "KtEFvzgEYqQA"
      }
    },
    {
      "cell_type": "code",
      "source": [
        "def is_even(x):\n",
        "  return x%2 == 0\n",
        "\n",
        "print(is_even(4))\n",
        "\n",
        "print((lambda x: x%2 == 0)(12))"
      ],
      "metadata": {
        "colab": {
          "base_uri": "https://localhost:8080/"
        },
        "id": "9ry1VLzVYuPO",
        "outputId": "b8d8dc68-9092-4956-90bf-0d4bbe894aad"
      },
      "execution_count": null,
      "outputs": [
        {
          "output_type": "stream",
          "name": "stdout",
          "text": [
            "True\n",
            "True\n"
          ]
        }
      ]
    },
    {
      "cell_type": "markdown",
      "source": [
        "**Ex 28. Funkcje - zmienna ilość parameterów**"
      ],
      "metadata": {
        "id": "Z5BehP01fXTS"
      }
    },
    {
      "cell_type": "code",
      "source": [
        "def vargs_func(*args):\n",
        "    print(args)\n",
        "\n",
        "vargs_func('a','b','c')\n",
        "vargs_func(1,2,3,4,5)"
      ],
      "metadata": {
        "colab": {
          "base_uri": "https://localhost:8080/"
        },
        "id": "Ci3myWQk_xin",
        "outputId": "545ab51a-3d7f-4993-e7da-2150fdc71ea6"
      },
      "execution_count": null,
      "outputs": [
        {
          "output_type": "stream",
          "name": "stdout",
          "text": [
            "('a', 'b', 'c')\n",
            "(1, 2, 3, 4, 5)\n"
          ]
        }
      ]
    },
    {
      "cell_type": "code",
      "source": [
        "def vargs_func(*args):\n",
        "    print(\"Liczba przekazanych parametrów:\",len(args))\n",
        "    for arg in args:\n",
        "        print (\"Wartość:\",arg)\n",
        "\n",
        "lista = [1,2,3,4]\n",
        "vargs_func(1,lista,2,'xyz',3)"
      ],
      "metadata": {
        "colab": {
          "base_uri": "https://localhost:8080/"
        },
        "id": "Jh5lbYPE_xfz",
        "outputId": "2dd959b3-d0a2-4a56-b453-0bc924fb90f6"
      },
      "execution_count": null,
      "outputs": [
        {
          "output_type": "stream",
          "name": "stdout",
          "text": [
            "Liczba przekazanych parametrów: 5\n",
            "Wartość: 1\n",
            "Wartość: [1, 2, 3, 4]\n",
            "Wartość: 2\n",
            "Wartość: xyz\n",
            "Wartość: 3\n"
          ]
        }
      ]
    },
    {
      "cell_type": "code",
      "source": [
        "def vargs_func(**kwargs):\n",
        "    print(\"Number of parameters:\",len(kwargs))\n",
        "    for key, item in kwargs.items():\n",
        "        print (\"Key \", key, \"Vslue \", item)\n",
        "\n",
        "vargs_func(a=1,b=2,c=3)"
      ],
      "metadata": {
        "colab": {
          "base_uri": "https://localhost:8080/"
        },
        "id": "GK3gdjmm_xdI",
        "outputId": "fd818893-154b-406f-86dd-f098142ccf3b"
      },
      "execution_count": null,
      "outputs": [
        {
          "output_type": "stream",
          "name": "stdout",
          "text": [
            "Number of parameters: 3\n",
            "Key  a Vslue  1\n",
            "Key  b Vslue  2\n",
            "Key  c Vslue  3\n"
          ]
        }
      ]
    },
    {
      "cell_type": "code",
      "source": [
        "def vargs_func(*args, **kwargs):\n",
        "    print(\"Number of parameters *args:\",len(args))\n",
        "    for arg in args:\n",
        "        print (\"Arg \", arg)\n",
        "\n",
        "    print(\"Number of parameters **kwargs:\",len(kwargs))\n",
        "    for key, item in kwargs.items():\n",
        "        print (\"Key \", key, \"Value \", item)\n",
        "\n",
        "vargs_func(1,2,'x',[1,'a',2],a=1,b=2,c=3)"
      ],
      "metadata": {
        "colab": {
          "base_uri": "https://localhost:8080/"
        },
        "id": "fIKHcjEV_xYM",
        "outputId": "96d584cb-280e-4dce-b3c7-a8d3d2944256"
      },
      "execution_count": null,
      "outputs": [
        {
          "output_type": "stream",
          "name": "stdout",
          "text": [
            "Number of parameters *args: 4\n",
            "Arg  1\n",
            "Arg  2\n",
            "Arg  x\n",
            "Arg  [1, 'a', 2]\n",
            "Number of parameters **kwargs: 3\n",
            "Key  a Value  1\n",
            "Key  b Value  2\n",
            "Key  c Value  3\n"
          ]
        }
      ]
    },
    {
      "cell_type": "markdown",
      "source": [
        "**Ex 29. Funkcje - przekazanie listy**"
      ],
      "metadata": {
        "id": "uldY7KVFa9J9"
      }
    },
    {
      "cell_type": "code",
      "source": [
        "t_list = list(range(1,6))\n",
        "print(t_list)\n",
        "\n",
        "def add2list(list):\n",
        "  list[1] = 20\n",
        "  list.append(10)\n",
        "\n",
        "add2list(t_list)\n",
        "print(t_list)\n"
      ],
      "metadata": {
        "colab": {
          "base_uri": "https://localhost:8080/"
        },
        "id": "7UCfrbUma9qd",
        "outputId": "c5ad90ef-7c16-4bef-85a5-0d3d755f8333"
      },
      "execution_count": 17,
      "outputs": [
        {
          "output_type": "stream",
          "name": "stdout",
          "text": [
            "[1, 2, 3, 4, 5]\n",
            "[1, 20, 3, 4, 5, 10]\n"
          ]
        }
      ]
    },
    {
      "cell_type": "code",
      "source": [
        "t_list = list(range(1,6))\n",
        "print(t_list)\n",
        "\n",
        "def add2list(list):\n",
        "  list[1] = 20\n",
        "  list.append(10)\n",
        "\n",
        "add2list(t_list[:])\n",
        "print(t_list)"
      ],
      "metadata": {
        "colab": {
          "base_uri": "https://localhost:8080/"
        },
        "id": "g_NVBfDldPTD",
        "outputId": "6e72f113-b889-4232-99cf-c4e23b9a1cb7"
      },
      "execution_count": 18,
      "outputs": [
        {
          "output_type": "stream",
          "name": "stdout",
          "text": [
            "[1, 2, 3, 4, 5]\n",
            "[1, 2, 3, 4, 5]\n"
          ]
        }
      ]
    },
    {
      "cell_type": "code",
      "source": [
        "def print3args(arg1,arg2,arg3):\n",
        "  print(f'Argument 1 = {arg1}')\n",
        "  print(f'Argument 2 = {arg2}')\n",
        "  print(f'Argument 2 = {arg3}')\n",
        "\n",
        "print3args(*['one','two','three'])"
      ],
      "metadata": {
        "colab": {
          "base_uri": "https://localhost:8080/"
        },
        "id": "VAJigVrwfENl",
        "outputId": "a86be6d4-ac2e-417d-bbc3-08f3f0bc363d"
      },
      "execution_count": 14,
      "outputs": [
        {
          "output_type": "stream",
          "name": "stdout",
          "text": [
            "Argument 1 = one\n",
            "Argument 2 = two\n",
            "Argument 2 = three\n"
          ]
        }
      ]
    }
  ]
}
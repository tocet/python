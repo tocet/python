{
  "nbformat": 4,
  "nbformat_minor": 0,
  "metadata": {
    "colab": {
      "provenance": []
    },
    "kernelspec": {
      "name": "python3",
      "display_name": "Python 3"
    },
    "language_info": {
      "name": "python"
    }
  },
  "cells": [
    {
      "cell_type": "markdown",
      "source": [
        "**Introduction to Python programming - extension / Rozszerzenie wprowadzenia do programowania w języku Python**"
      ],
      "metadata": {
        "id": "we1BkIHwcDhm"
      }
    },
    {
      "cell_type": "markdown",
      "source": [
        "ver. 2025.10"
      ],
      "metadata": {
        "id": "x_RxKw5VcDWu"
      }
    },
    {
      "cell_type": "markdown",
      "source": [
        "**Unpacking operator / Operator wypakowania**"
      ],
      "metadata": {
        "id": "SvBCV8PHcNZY"
      }
    },
    {
      "cell_type": "code",
      "execution_count": null,
      "metadata": {
        "id": "zkaLZNf_b24I"
      },
      "outputs": [],
      "source": [
        "numbers: tuple[str, ...] = ('One','Two','Three','Four','Five')\n",
        "first, *_, last = numbers\n",
        "print(first, last)"
      ]
    },
    {
      "cell_type": "code",
      "source": [
        "numbers: tuple[str, ...] = ('One','Two','Three','Four','Five')\n",
        "first, *_, second_to_last, last = numbers\n",
        "print(second_to_last)"
      ],
      "metadata": {
        "id": "vMizaUYucZAl"
      },
      "execution_count": null,
      "outputs": []
    },
    {
      "cell_type": "code",
      "source": [
        "numbers: tuple[str, ...] = ('One','Two','Three','Four','Five')\n",
        "first, *middle, last = numbers\n",
        "print(middle)\n",
        "print(type(middle))"
      ],
      "metadata": {
        "id": "7q_XU1znckQX"
      },
      "execution_count": null,
      "outputs": []
    },
    {
      "cell_type": "code",
      "source": [
        "numbers: list[int] = [1,2,3,4,5,6,7,8,9,10]\n",
        "*leftover, last = numbers\n",
        "print(leftover)\n",
        "print(type(leftover))\n",
        "print(last)\n",
        "print(type(last))"
      ],
      "metadata": {
        "id": "3daNZeTMcv8P"
      },
      "execution_count": null,
      "outputs": []
    },
    {
      "cell_type": "markdown",
      "source": [
        "**Keyword *is* vs ==**"
      ],
      "metadata": {
        "id": "pW8W1yrndEFw"
      }
    },
    {
      "cell_type": "markdown",
      "source": [
        "https://www.w3schools.com/python/ref_keyword_is.asp"
      ],
      "metadata": {
        "id": "Z1ryba1-dV7v"
      }
    },
    {
      "cell_type": "code",
      "source": [
        "a: int = 1\n",
        "b: int = 2\n",
        "\n",
        "print(a == b)\n",
        "print(id(a))\n",
        "print(id(b))"
      ],
      "metadata": {
        "id": "5qg20QoFddms"
      },
      "execution_count": null,
      "outputs": []
    },
    {
      "cell_type": "code",
      "source": [
        "a: int = 1\n",
        "b: int = 2\n",
        "\n",
        "print(a is b)\n",
        "print(id(a))\n",
        "print(id(b))"
      ],
      "metadata": {
        "id": "DQY5iBWOdhOF"
      },
      "execution_count": null,
      "outputs": []
    },
    {
      "cell_type": "code",
      "source": [
        "alias_a = a\n",
        "print(a is alias_a)\n",
        "print(id(a))\n",
        "print(id(alias_a))"
      ],
      "metadata": {
        "id": "Lrb9eq4rdw_N"
      },
      "execution_count": null,
      "outputs": []
    },
    {
      "cell_type": "code",
      "source": [
        "a = [1,2,3]\n",
        "b = [1,2,3]\n",
        "\n",
        "print(a==b)\n",
        "print(a is b)"
      ],
      "metadata": {
        "id": "5k3CD_6keHcR"
      },
      "execution_count": null,
      "outputs": []
    },
    {
      "cell_type": "markdown",
      "source": [
        "**Creating Lists Faster / Szybsze tworzenie list**"
      ],
      "metadata": {
        "id": "CJCRtuWHiE52"
      }
    },
    {
      "cell_type": "code",
      "source": [
        "%timeit list_1 = list()\n",
        "%timeit list_2 = []"
      ],
      "metadata": {
        "colab": {
          "base_uri": "https://localhost:8080/"
        },
        "id": "bTCP3YIsiQUC",
        "outputId": "28a245fa-7a20-4817-c467-719855d1e147"
      },
      "execution_count": null,
      "outputs": [
        {
          "output_type": "stream",
          "name": "stdout",
          "text": [
            "55.2 ns ± 0.906 ns per loop (mean ± std. dev. of 7 runs, 10000000 loops each)\n",
            "27.9 ns ± 0.728 ns per loop (mean ± std. dev. of 7 runs, 10000000 loops each)\n"
          ]
        }
      ]
    },
    {
      "cell_type": "code",
      "source": [
        "from dis import dis\n",
        "\n",
        "dis(\"[]\")\n",
        "dis(\"list()\")"
      ],
      "metadata": {
        "colab": {
          "base_uri": "https://localhost:8080/"
        },
        "id": "fLeCTxrJiVrJ",
        "outputId": "c9edaf1f-fbec-4d76-bea9-5a8e0f5bc50d"
      },
      "execution_count": null,
      "outputs": [
        {
          "output_type": "stream",
          "name": "stdout",
          "text": [
            "  0           0 RESUME                   0\n",
            "\n",
            "  1           2 BUILD_LIST               0\n",
            "              4 RETURN_VALUE\n",
            "  0           0 RESUME                   0\n",
            "\n",
            "  1           2 PUSH_NULL\n",
            "              4 LOAD_NAME                0 (list)\n",
            "              6 CALL                     0\n",
            "             14 RETURN_VALUE\n"
          ]
        }
      ]
    },
    {
      "cell_type": "markdown",
      "source": [
        "**Set or List / Zbiór czy lista**"
      ],
      "metadata": {
        "id": "PS7htXLfi5zf"
      }
    },
    {
      "cell_type": "code",
      "source": [
        "%timeit my_list = list(range(1000))\n",
        "%timeit my_set = set(range(1000))"
      ],
      "metadata": {
        "colab": {
          "base_uri": "https://localhost:8080/"
        },
        "id": "B87jhweOiWUN",
        "outputId": "1fc30ebd-d34a-466e-b3e7-8b3a7b1b8fe9"
      },
      "execution_count": null,
      "outputs": [
        {
          "output_type": "stream",
          "name": "stdout",
          "text": [
            "15.7 µs ± 2.07 µs per loop (mean ± std. dev. of 7 runs, 100000 loops each)\n",
            "42.5 µs ± 8.1 µs per loop (mean ± std. dev. of 7 runs, 10000 loops each)\n"
          ]
        }
      ]
    },
    {
      "cell_type": "code",
      "source": [
        "my_list = list(range(1000))\n",
        "%timeit 0 in my_list\n",
        "%timeit 1 in my_list\n",
        "%timeit 10 in my_list\n",
        "%timeit 100 in my_list\n",
        "%timeit 9999 in my_list"
      ],
      "metadata": {
        "colab": {
          "base_uri": "https://localhost:8080/"
        },
        "id": "o-4loOwkjKzE",
        "outputId": "8a3e2b52-2ee7-4085-f24e-109e12a69f7b"
      },
      "execution_count": null,
      "outputs": [
        {
          "output_type": "stream",
          "name": "stdout",
          "text": [
            "25.6 ns ± 0.539 ns per loop (mean ± std. dev. of 7 runs, 10000000 loops each)\n",
            "49.3 ns ± 15.1 ns per loop (mean ± std. dev. of 7 runs, 10000000 loops each)\n",
            "158 ns ± 39.1 ns per loop (mean ± std. dev. of 7 runs, 1000000 loops each)\n",
            "1.07 µs ± 5.01 ns per loop (mean ± std. dev. of 7 runs, 1000000 loops each)\n",
            "12.3 µs ± 2.68 µs per loop (mean ± std. dev. of 7 runs, 100000 loops each)\n"
          ]
        }
      ]
    },
    {
      "cell_type": "code",
      "source": [
        "my_set = set(range(1000))\n",
        "%timeit 0 in my_set\n",
        "%timeit 1 in my_set\n",
        "%timeit 10 in my_set\n",
        "%timeit 100 in my_set\n",
        "%timeit 9999 in my_set"
      ],
      "metadata": {
        "colab": {
          "base_uri": "https://localhost:8080/"
        },
        "id": "PgQrEtB1jUYm",
        "outputId": "b19cb446-793b-4cf1-968f-485234acaa2d"
      },
      "execution_count": null,
      "outputs": [
        {
          "output_type": "stream",
          "name": "stdout",
          "text": [
            "32.7 ns ± 3.16 ns per loop (mean ± std. dev. of 7 runs, 10000000 loops each)\n",
            "46.7 ns ± 12.7 ns per loop (mean ± std. dev. of 7 runs, 10000000 loops each)\n",
            "29.8 ns ± 0.643 ns per loop (mean ± std. dev. of 7 runs, 10000000 loops each)\n",
            "29.7 ns ± 0.649 ns per loop (mean ± std. dev. of 7 runs, 10000000 loops each)\n",
            "29.8 ns ± 0.564 ns per loop (mean ± std. dev. of 7 runs, 10000000 loops each)\n"
          ]
        }
      ]
    },
    {
      "cell_type": "markdown",
      "source": [
        "**Strings - add or join / Obiekty typu String - konkatenacja czy łączenie**"
      ],
      "metadata": {
        "id": "-Ws7iL1jkngf"
      }
    },
    {
      "cell_type": "code",
      "source": [
        "strs = ['Life', 'is', 'short,', 'I', 'use', 'Python']\n",
        "\n",
        "def join_strs(strs):\n",
        "    result = ''\n",
        "    for s in strs:\n",
        "        result += ' ' + s\n",
        "    return result[1:]\n",
        "\n",
        "%timeit join_strs(strs)\n",
        "\n",
        "def join_strs_better(strs):\n",
        "    return ' '.join(strs)\n",
        "\n",
        "%timeit join_strs_better(strs)"
      ],
      "metadata": {
        "colab": {
          "base_uri": "https://localhost:8080/"
        },
        "id": "KcQ4vB26kmwD",
        "outputId": "62b8a724-c381-412e-8e3a-aecf37018f8e"
      },
      "execution_count": null,
      "outputs": [
        {
          "output_type": "stream",
          "name": "stdout",
          "text": [
            "946 ns ± 270 ns per loop (mean ± std. dev. of 7 runs, 1000000 loops each)\n",
            "197 ns ± 41.9 ns per loop (mean ± std. dev. of 7 runs, 10000000 loops each)\n"
          ]
        }
      ]
    },
    {
      "cell_type": "markdown",
      "source": [
        "**One-Liners for String Manipulation**"
      ],
      "metadata": {
        "id": "jivvAeNomG5U"
      }
    },
    {
      "cell_type": "markdown",
      "source": [
        "https://www.kdnuggets.com/15-useful-python-one-liners-string-manipulation"
      ],
      "metadata": {
        "id": "N7ss505LpF-n"
      }
    },
    {
      "cell_type": "code",
      "source": [
        "t_str = [\"this\", \"is\", \"python\", \"course\"]\n",
        "uppercase_string = [s.upper() for s in t_str]\n",
        "print(uppercase_string)"
      ],
      "metadata": {
        "id": "vy040WsOoZZk"
      },
      "execution_count": null,
      "outputs": []
    },
    {
      "cell_type": "code",
      "source": [
        "fruits = [\"apple\", \"banana\", \"cherry\", \"apricot\", \"blueberry\"]\n",
        "filtered = [s for s in fruits if \"ap\" in s]\n",
        "print(filtered)"
      ],
      "metadata": {
        "id": "Qzh7yTHiotUG"
      },
      "execution_count": null,
      "outputs": []
    },
    {
      "cell_type": "code",
      "source": [
        "strings = [\"  fun \", \" funky \"]\n",
        "trimmed_strings = [s.strip() for s in strings]\n",
        "print(trimmed_strings)"
      ],
      "metadata": {
        "id": "l8LZIUUvo871"
      },
      "execution_count": null,
      "outputs": []
    },
    {
      "cell_type": "code",
      "source": [
        "to_do = [\"code\", \"debug\", \"refactor\"]\n",
        "reversed_strings = [task[::-1] for task in to_do]\n",
        "print(reversed_strings)"
      ],
      "metadata": {
        "id": "CugaqJvrpIU1"
      },
      "execution_count": null,
      "outputs": []
    },
    {
      "cell_type": "code",
      "source": [
        "strings = [\"code\", \"debug\", \"test\"]\n",
        "prefixed_strings = [f\"py-{s}\" for s in strings]\n",
        "print(prefixed_strings)"
      ],
      "metadata": {
        "id": "Ej-N4abtpU5Q"
      },
      "execution_count": null,
      "outputs": []
    },
    {
      "cell_type": "code",
      "source": [
        "strings = [\"learn python\", \"python is fun\"]\n",
        "split_strings = [s.split() for s in strings]\n",
        "print(split_strings)"
      ],
      "metadata": {
        "id": "QtvlkGyBpZeA"
      },
      "execution_count": null,
      "outputs": []
    },
    {
      "cell_type": "code",
      "source": [
        "strings = [\"Learn C\", \"Code in C\"]\n",
        "replaced_strings = [string.replace(\"C\", \"Python\") for string in strings]\n",
        "print(replaced_strings)"
      ],
      "metadata": {
        "id": "uKVWSdhUphpE"
      },
      "execution_count": null,
      "outputs": []
    },
    {
      "cell_type": "code",
      "source": [
        "strings = [\"Apple\", \"banana\", \"Cherry\", \"date\"]\n",
        "sorted_strings = sorted(strings, key=lambda s: s.lower())\n",
        "print(sorted_strings)"
      ],
      "metadata": {
        "id": "2oQUUsbFp5Cv"
      },
      "execution_count": null,
      "outputs": []
    },
    {
      "cell_type": "markdown",
      "source": [
        "**The Walrus Operator :=**"
      ],
      "metadata": {
        "id": "N0dm3B4lr3Um"
      }
    },
    {
      "cell_type": "code",
      "source": [
        "data = [1, 2, 3, 4, 10]\n",
        "\n",
        "if (avg := sum(data) / len(data)) > 3:\n",
        "    print(f\"Average is {avg}\")"
      ],
      "metadata": {
        "colab": {
          "base_uri": "https://localhost:8080/"
        },
        "id": "YSCPK1vAsBP6",
        "outputId": "5ee06f01-e150-4e9c-8ddb-5cedabf2ca0d"
      },
      "execution_count": null,
      "outputs": [
        {
          "output_type": "stream",
          "name": "stdout",
          "text": [
            "Average is 4.0\n"
          ]
        }
      ]
    }
  ]
}
{
  "nbformat": 4,
  "nbformat_minor": 0,
  "metadata": {
    "colab": {
      "provenance": []
    },
    "kernelspec": {
      "name": "python3",
      "display_name": "Python 3"
    },
    "language_info": {
      "name": "python"
    }
  },
  "cells": [
    {
      "cell_type": "markdown",
      "source": [
        "**Ex 1. *try* - *catch***"
      ],
      "metadata": {
        "id": "87_L5_NLLQXK"
      }
    },
    {
      "cell_type": "code",
      "execution_count": null,
      "metadata": {
        "id": "bG-NOhtYKf_0"
      },
      "outputs": [],
      "source": [
        "def sum_digits(s: str) -> int:\n",
        "  d_sum = 0\n",
        "  for ch in s:\n",
        "    try:\n",
        "      d_sum += int(ch)\n",
        "    except:\n",
        "      print(f'{ch} is not a digit')\n",
        "  return d_sum\n",
        "\n",
        "print(f'Result equals {sum_digits(input())}')"
      ]
    },
    {
      "cell_type": "markdown",
      "source": [
        "**Ex 2. *try* - *catch* - *else***"
      ],
      "metadata": {
        "id": "QV43W9YSyGMO"
      }
    },
    {
      "cell_type": "code",
      "source": [
        "def reminder(a: int, b: int) -> int:\n",
        "    try:\n",
        "        result = a % b\n",
        "    except ZeroDivisionError:\n",
        "        print(\"Division by zero \")\n",
        "    else:\n",
        "        print(f'Reminder equals {result}')\n",
        "\n",
        "reminder(5, 2)\n",
        "reminder(10, 0)"
      ],
      "metadata": {
        "colab": {
          "base_uri": "https://localhost:8080/"
        },
        "id": "V3EObfCTyGsr",
        "outputId": "254b29d0-ff4c-479b-b048-34514292a952"
      },
      "execution_count": 2,
      "outputs": [
        {
          "output_type": "stream",
          "name": "stdout",
          "text": [
            "Reminder equals 1\n",
            "Division by zero \n"
          ]
        }
      ]
    },
    {
      "cell_type": "markdown",
      "source": [
        "**Ex 3. *except***"
      ],
      "metadata": {
        "id": "7Hnd7j1JLNOF"
      }
    },
    {
      "cell_type": "code",
      "source": [
        "try:\n",
        "  a = int(input(\"Podaj 1 liczbe: \"))\n",
        "  b = int(input(\"Podaj 2 liczbe: \"))\n",
        "  print(f'Wynik operacji a/b = {a/b}')\n",
        "except ZeroDivisionError:\n",
        "  print(\"Błąd. Próba dzielenia przez 0\")\n",
        "except ValueError:\n",
        "  print(\"Błąd. Co najmniej 1 wartość nie jest liczbą\")\n",
        "except:\n",
        "  print(\"Nieznany błąd\")"
      ],
      "metadata": {
        "id": "YBHMy3L_LPiL"
      },
      "execution_count": null,
      "outputs": []
    },
    {
      "cell_type": "code",
      "source": [
        "try:\n",
        "  a = int(input(\"Podaj 1 liczbe: \"))\n",
        "  b = int(input(\"Podaj 2 liczbe: \"))\n",
        "  print(f'Wynik operacji a/b = {a/b}')\n",
        "except Exception as e:\n",
        "  print(f'Błąd: {e}')"
      ],
      "metadata": {
        "id": "w6iaYdwgxgUD"
      },
      "execution_count": null,
      "outputs": []
    },
    {
      "cell_type": "code",
      "source": [
        "def sum_digits(s):\n",
        "  d_sum = 0\n",
        "  for ch in s:\n",
        "    try:\n",
        "      d_sum += int(ch)\n",
        "    except:\n",
        "     raise ValueError(f'{ch} is not a digit')\n",
        "  return d_sum\n",
        "\n",
        "print(f'Result equals {sum_digits(input())}')"
      ],
      "metadata": {
        "id": "m97YnfjHQLhv"
      },
      "execution_count": null,
      "outputs": []
    },
    {
      "cell_type": "markdown",
      "source": [
        "**Ex 4. *try* - *except* - *finally***"
      ],
      "metadata": {
        "id": "2rlDdS_Eap1O"
      }
    },
    {
      "cell_type": "code",
      "source": [
        "try:\n",
        "  raise ValueError(\"Incorrect value\")\n",
        "except ValueError:\n",
        "  print(\"Handling ValueError\")\n",
        "finally:\n",
        "  print(\"Finally is executed\")"
      ],
      "metadata": {
        "id": "2mw4H2xJapdy"
      },
      "execution_count": null,
      "outputs": []
    },
    {
      "cell_type": "code",
      "source": [
        "try:\n",
        "  raise ValueError(\"Incorrect value\")\n",
        "except ValueError:\n",
        "  print(\"Handling ValueError\")\n",
        "  raise Exception(\"This is the end\")\n",
        "\n",
        "print(\"Finally is executed\")"
      ],
      "metadata": {
        "id": "SiyxE9wybL5C"
      },
      "execution_count": null,
      "outputs": []
    },
    {
      "cell_type": "code",
      "source": [
        "try:\n",
        "  raise ValueError(\"Incorrect value\")\n",
        "except ValueError:\n",
        "  print(\"Handling ValueError\")\n",
        "  raise Exception(\"This is the end\")\n",
        "finally:\n",
        "  print(\"Finally is executed\")"
      ],
      "metadata": {
        "id": "-5SaDcV0bsSN"
      },
      "execution_count": null,
      "outputs": []
    },
    {
      "cell_type": "code",
      "source": [
        "try:\n",
        "  raise ValueError(\"Incorrect value\")\n",
        "except ValueError:\n",
        "  print(\"Handling ValueError\")\n",
        "  exit()\n",
        "finally:\n",
        "  print(\"Finally is executed\")"
      ],
      "metadata": {
        "id": "CDIh1Q32cSm1"
      },
      "execution_count": null,
      "outputs": []
    },
    {
      "cell_type": "markdown",
      "source": [
        "**Ex 5. *finally* inside a function**"
      ],
      "metadata": {
        "id": "WADcl6XUfwRH"
      }
    },
    {
      "cell_type": "code",
      "source": [
        "def add_one(val: int) -> int:\n",
        "  try:\n",
        "    val += 1\n",
        "    return val\n",
        "  except ValueError:\n",
        "    print(\"Input is not an integer\")\n",
        "    return \"Not an int\"\n",
        "  finally:\n",
        "    return 0\n",
        "\n",
        "print(add_one(10))"
      ],
      "metadata": {
        "colab": {
          "base_uri": "https://localhost:8080/"
        },
        "id": "6Gl84b3Yf5KS",
        "outputId": "10cce740-9030-49b2-8e5e-0be56a1c9c9c"
      },
      "execution_count": 1,
      "outputs": [
        {
          "output_type": "stream",
          "name": "stdout",
          "text": [
            "0\n"
          ]
        }
      ]
    },
    {
      "cell_type": "markdown",
      "source": [
        "**Ex 6. *assert***"
      ],
      "metadata": {
        "id": "A7Y45QNBSFwL"
      }
    },
    {
      "cell_type": "code",
      "source": [
        "def sum_digits(s):\n",
        "  assert len(s) != 0, \"No input data\"\n",
        "  d_sum = 0\n",
        "  for ch in s:\n",
        "    try:\n",
        "      d_sum += int(ch)\n",
        "    except:\n",
        "      print(f'{ch} is not a digit')\n",
        "  return d_sum\n",
        "\n",
        "print(f'Result equals {sum_digits(input())}')"
      ],
      "metadata": {
        "id": "mTGV5dtWRyld"
      },
      "execution_count": null,
      "outputs": []
    },
    {
      "cell_type": "code",
      "source": [
        "def save_bigger(list_1, list_2):\n",
        "  assert len(list_1) != 0 and len(list_2) != 0, \"At least one of the lists is empty\"\n",
        "  assert len(list_1) == len(list_2), \"Lists have different sizes\"\n",
        "  for i in range(len(list_1)):\n",
        "   try:\n",
        "    if list_1[i] < list_2[i]:\n",
        "      list_1[i] = list_2[i]\n",
        "   except:\n",
        "    raise ValueError(\"Co najmniej 1 z elementów nie jest liczbą\")\n",
        "\n",
        "list_1 = [1,2,3]\n",
        "list_2 = [4,0,1]\n",
        "save_bigger(list_1,list_2)\n",
        "print(list_1)"
      ],
      "metadata": {
        "colab": {
          "base_uri": "https://localhost:8080/"
        },
        "id": "gpX_UXxsSl5U",
        "outputId": "ce7fdda4-d47f-40f3-91c8-b7753c19b0ad"
      },
      "execution_count": 5,
      "outputs": [
        {
          "output_type": "stream",
          "name": "stdout",
          "text": [
            "[4, 2, 3]\n"
          ]
        }
      ]
    }
  ]
}
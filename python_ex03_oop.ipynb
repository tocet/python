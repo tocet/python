{
  "nbformat": 4,
  "nbformat_minor": 0,
  "metadata": {
    "colab": {
      "provenance": []
    },
    "kernelspec": {
      "name": "python3",
      "display_name": "Python 3"
    },
    "language_info": {
      "name": "python"
    }
  },
  "cells": [
    {
      "cell_type": "markdown",
      "source": [
        "**Zad 1. Budowa klasy**"
      ],
      "metadata": {
        "id": "eiv-h4-olao_"
      }
    },
    {
      "cell_type": "code",
      "execution_count": null,
      "metadata": {
        "id": "HV0Xtt16kedV"
      },
      "outputs": [],
      "source": [
        "class Car:\n",
        "    def __init__(self, make):\n",
        "        self.make = make\n",
        "        self.motor_run = False\n",
        "        self.gear = 0\n",
        "        self.speed = 0\n",
        "\n",
        "    def motor_start(self):\n",
        "        self.motor_run = True\n",
        "\n",
        "    def motor_stop(self):\n",
        "        self.motor_run = False\n",
        "\n",
        "    def gear_change_up(self):\n",
        "        if self.gear <= 7:\n",
        "            self.gear+=1\n",
        "        print(self.gear)\n",
        "\n",
        "    def gear_change_down(self):\n",
        "        if self.gear >= 0:\n",
        "            self.gear-=1\n",
        "        print(self.gear)\n",
        "\n",
        "my_car = Car(\"Kia Sportage\")\n",
        "my_car.gear_change_up()\n",
        "my_car.gear\n"
      ]
    },
    {
      "cell_type": "markdown",
      "source": [
        "**Zad 2. Hermetyzacja**"
      ],
      "metadata": {
        "id": "ymqqqEyFromy"
      }
    },
    {
      "cell_type": "code",
      "source": [
        "class Encapsulation:\n",
        "    def __init__(self):\n",
        "        self.public, self._protected, self.__private = 1, 2, 3\n",
        "\n",
        "def main():\n",
        "    encapsulation = Encapsulation()\n",
        "    print(encapsulation.public)\n",
        "    print(encapsulation._protected)\n",
        "    print(encapsulation._Encapsulation__private)\n",
        "# a teraz będzie błąd\n",
        "    print(encapsulation.__private)\n",
        "\n",
        "main()\n"
      ],
      "metadata": {
        "id": "0bCSoo_7kkv0"
      },
      "execution_count": null,
      "outputs": []
    },
    {
      "cell_type": "code",
      "source": [
        "class Car:\n",
        "    def __init__(self, make):\n",
        "        self.make = make\n",
        "        self.__motor_run = False\n",
        "        self.__gear = 0\n",
        "        self.__speed = 0\n",
        "\n",
        "    def motor_start(self):\n",
        "        self.__motor_run = True\n",
        "\n",
        "    def motor_stop(self):\n",
        "        self.__motor_run = False\n",
        "\n",
        "    def gear_change_up(self):\n",
        "        if self.__gear <= 7:\n",
        "            self.__gear+=1\n",
        "        print(self.gear)\n",
        "\n",
        "    def gear_change_down(self):\n",
        "        if self.__gear >= 0:\n",
        "            self.__gear-=1\n",
        "        print(self.gear)\n",
        "\n",
        "my_car = Car(\"Kia\")\n",
        "my_car.motor_start()\n",
        "my_car.gear_change_down()\n",
        "my_car.gear\n"
      ],
      "metadata": {
        "colab": {
          "base_uri": "https://localhost:8080/",
          "height": 323
        },
        "id": "5og-NoB_mpGk",
        "outputId": "95100b90-a30b-43b4-ba70-7191752a9863"
      },
      "execution_count": 13,
      "outputs": [
        {
          "output_type": "error",
          "ename": "AttributeError",
          "evalue": "'Car' object has no attribute 'gear'",
          "traceback": [
            "\u001b[0;31m---------------------------------------------------------------------------\u001b[0m",
            "\u001b[0;31mAttributeError\u001b[0m                            Traceback (most recent call last)",
            "\u001b[0;32m<ipython-input-13-fd8a4aef935f>\u001b[0m in \u001b[0;36m<cell line: 26>\u001b[0;34m()\u001b[0m\n\u001b[1;32m     24\u001b[0m \u001b[0mmy_car\u001b[0m \u001b[0;34m=\u001b[0m \u001b[0mCar\u001b[0m\u001b[0;34m(\u001b[0m\u001b[0;34m\"Kia\"\u001b[0m\u001b[0;34m)\u001b[0m\u001b[0;34m\u001b[0m\u001b[0;34m\u001b[0m\u001b[0m\n\u001b[1;32m     25\u001b[0m \u001b[0mmy_car\u001b[0m\u001b[0;34m.\u001b[0m\u001b[0mmotor_start\u001b[0m\u001b[0;34m(\u001b[0m\u001b[0;34m)\u001b[0m\u001b[0;34m\u001b[0m\u001b[0;34m\u001b[0m\u001b[0m\n\u001b[0;32m---> 26\u001b[0;31m \u001b[0mmy_car\u001b[0m\u001b[0;34m.\u001b[0m\u001b[0mgear_change_down\u001b[0m\u001b[0;34m(\u001b[0m\u001b[0;34m)\u001b[0m\u001b[0;34m\u001b[0m\u001b[0;34m\u001b[0m\u001b[0m\n\u001b[0m\u001b[1;32m     27\u001b[0m \u001b[0mmy_car\u001b[0m\u001b[0;34m.\u001b[0m\u001b[0mgear\u001b[0m\u001b[0;34m\u001b[0m\u001b[0;34m\u001b[0m\u001b[0m\n",
            "\u001b[0;32m<ipython-input-13-fd8a4aef935f>\u001b[0m in \u001b[0;36mgear_change_down\u001b[0;34m(self)\u001b[0m\n\u001b[1;32m     20\u001b[0m         \u001b[0;32mif\u001b[0m \u001b[0mself\u001b[0m\u001b[0;34m.\u001b[0m\u001b[0m__gear\u001b[0m \u001b[0;34m>=\u001b[0m \u001b[0;36m0\u001b[0m\u001b[0;34m:\u001b[0m\u001b[0;34m\u001b[0m\u001b[0;34m\u001b[0m\u001b[0m\n\u001b[1;32m     21\u001b[0m             \u001b[0mself\u001b[0m\u001b[0;34m.\u001b[0m\u001b[0m__gear\u001b[0m\u001b[0;34m-=\u001b[0m\u001b[0;36m1\u001b[0m\u001b[0;34m\u001b[0m\u001b[0;34m\u001b[0m\u001b[0m\n\u001b[0;32m---> 22\u001b[0;31m         \u001b[0mprint\u001b[0m\u001b[0;34m(\u001b[0m\u001b[0mself\u001b[0m\u001b[0;34m.\u001b[0m\u001b[0mgear\u001b[0m\u001b[0;34m)\u001b[0m\u001b[0;34m\u001b[0m\u001b[0;34m\u001b[0m\u001b[0m\n\u001b[0m\u001b[1;32m     23\u001b[0m \u001b[0;34m\u001b[0m\u001b[0m\n\u001b[1;32m     24\u001b[0m \u001b[0mmy_car\u001b[0m \u001b[0;34m=\u001b[0m \u001b[0mCar\u001b[0m\u001b[0;34m(\u001b[0m\u001b[0;34m\"Kia\"\u001b[0m\u001b[0;34m)\u001b[0m\u001b[0;34m\u001b[0m\u001b[0;34m\u001b[0m\u001b[0m\n",
            "\u001b[0;31mAttributeError\u001b[0m: 'Car' object has no attribute 'gear'"
          ]
        }
      ]
    },
    {
      "cell_type": "markdown",
      "source": [
        "**Zad 3. Pola statyczne. Metody statyczne.**"
      ],
      "metadata": {
        "id": "Vn0BsOPInNDv"
      }
    },
    {
      "cell_type": "code",
      "source": [
        "class Car:\n",
        "    how_many = 0\n",
        "\n",
        "    def __init__(self):\n",
        "        Car.how_many += 1\n",
        "        self.car_number = Car.how_many\n",
        "        print(f\"Number of car is equal to {self.car_number}\")\n",
        "\n",
        "    def __del__(self):\n",
        "        Car.how_many -= 1\n",
        "\n",
        "    @staticmethod\n",
        "    def count_cars():\n",
        "        return Car.how_many\n",
        "\n",
        "car_1 = Car()\n",
        "car_2 = Car()\n",
        "car_3 = Car()\n",
        "print(f\"Total number of cars {Car.count_cars()}\")\n",
        "car_2 = None\n",
        "print(f\"Total number of cars {Car.count_cars()}\")\n"
      ],
      "metadata": {
        "colab": {
          "base_uri": "https://localhost:8080/"
        },
        "id": "GIgLPgUXnXDJ",
        "outputId": "105928f2-4d27-46d0-cd3c-9c30ccf17990"
      },
      "execution_count": 12,
      "outputs": [
        {
          "output_type": "stream",
          "name": "stdout",
          "text": [
            "Numer of cars is equal to 1\n",
            "Numer of cars is equal to 2\n",
            "Numer of cars is equal to 3\n",
            "Total number of cars 3\n",
            "Total number of cars 2\n"
          ]
        }
      ]
    },
    {
      "cell_type": "markdown",
      "source": [
        "**Zad 4. Dziedziczenie**"
      ],
      "metadata": {
        "id": "cdByvZ0QnaqG"
      }
    },
    {
      "cell_type": "code",
      "source": [
        "class Person:\n",
        "    def __init__(self,name,surname,age):\n",
        "        self.name = name\n",
        "        self.surname = surname\n",
        "        self.age = age\n",
        "\n",
        "    def hasName(self):\n",
        "        print(\"Has name\")\n",
        "\n",
        "class Student(Person):\n",
        "    def __init__(self,name,surname,age,field_of_study):\n",
        "        super().__init__(name,surname,age)\n",
        "        self.field_of_study = field_of_study\n",
        "\n",
        "    def isStudent(self):\n",
        "        print(\"Is student\")\n",
        "\n",
        "person_1 = Person(\"Tom\",\"Nowak\",25)\n",
        "student_1 = Student(\"Tom\",\"Nowak\",25,\"Informatics\")\n",
        "\n",
        "student_1.hasName()"
      ],
      "metadata": {
        "colab": {
          "base_uri": "https://localhost:8080/"
        },
        "id": "QraRm0dKnuBd",
        "outputId": "b5f4f01e-3b31-44ac-bec3-e5a02be4432e"
      },
      "execution_count": 8,
      "outputs": [
        {
          "output_type": "stream",
          "name": "stdout",
          "text": [
            "Has name\n"
          ]
        }
      ]
    }
  ]
}
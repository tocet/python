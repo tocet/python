{
  "nbformat": 4,
  "nbformat_minor": 0,
  "metadata": {
    "colab": {
      "provenance": []
    },
    "kernelspec": {
      "name": "python3",
      "display_name": "Python 3"
    },
    "language_info": {
      "name": "python"
    }
  },
  "cells": [
    {
      "cell_type": "markdown",
      "source": [
        "**Ex 1. Budowa klasy**"
      ],
      "metadata": {
        "id": "eiv-h4-olao_"
      }
    },
    {
      "cell_type": "code",
      "source": [
        "class Point:\n",
        "  def __init__(self,x_val,y_val):\n",
        "    self.x = x_val\n",
        "    self.y = y_val\n",
        "\n",
        "  def distance(self, other):\n",
        "    diff_x = (self.x - other.x) ** 2\n",
        "    diff_y = (self.y - other.y) ** 2\n",
        "    return (diff_x + diff_y) ** 0.5\n",
        "\n",
        "p_1 = Point(3,4)\n",
        "p_2 = Point(1,2)\n",
        "print(p_1.distance(p_2))\n",
        "print(Point.distance(p_1,p_2))"
      ],
      "metadata": {
        "id": "JcYb1yZAz8nA"
      },
      "execution_count": null,
      "outputs": []
    },
    {
      "cell_type": "code",
      "source": [
        "class Point:\n",
        "  def __init__(self,x_val,y_val):\n",
        "    self.x = x_val\n",
        "    self.y = y_val\n",
        "\n",
        "  def distance(self, other):\n",
        "    diff_x = (self.x - other.x) ** 2\n",
        "    diff_y = (self.y - other.y) ** 2\n",
        "    return (diff_x + diff_y) ** 0.5\n",
        "\n",
        "class Circle:\n",
        "  def __init__(self,radius,center):\n",
        "    if type(center) != Point:\n",
        "      raise ValueError()\n",
        "    if type(radius) != int:\n",
        "      raise ValueError()\n",
        "    self.radius = radius\n",
        "    self.center = center\n",
        "\n",
        "  def is_inside(self, other_p):\n",
        "    return other_p.distance(self.center) < self.radius\n",
        "\n",
        "  def is_inside_2(self, other_p):\n",
        "    return self.center.distance(other_p) < self.radius\n",
        "\n",
        "center = Point(1,1)\n",
        "c = Circle(5,center)\n",
        "p = Point(3,4)\n",
        "print(c.is_inside(p))\n",
        "print(c.is_inside_2(p))\n",
        "\n",
        "c = Circle(5,(0,0))"
      ],
      "metadata": {
        "id": "J7GyVaq00r0p"
      },
      "execution_count": null,
      "outputs": []
    },
    {
      "cell_type": "code",
      "execution_count": 6,
      "metadata": {
        "colab": {
          "base_uri": "https://localhost:8080/"
        },
        "id": "HV0Xtt16kedV",
        "outputId": "d664befe-b038-495c-df5f-2ffce669bde9"
      },
      "outputs": [
        {
          "output_type": "stream",
          "name": "stdout",
          "text": [
            "VW\n",
            "0\n",
            "1\n"
          ]
        }
      ],
      "source": [
        "class Car:\n",
        "    def __init__(self, make=\"VW\"):\n",
        "        self.make = make\n",
        "        self.gear = 0\n",
        "\n",
        "    def gear_change_up(self):\n",
        "        if self.gear <= 7:\n",
        "            self.gear+=1\n",
        "        print(self.gear)\n",
        "\n",
        "    def gear_change_down(self):\n",
        "        if self.gear >= 0:\n",
        "            self.gear-=1\n",
        "        print(self.gear)\n",
        "\n",
        "my_car = Car()\n",
        "print(my_car.make)\n",
        "print(my_car.gear)\n",
        "my_car.gear_change_up()"
      ]
    },
    {
      "cell_type": "markdown",
      "source": [
        "**Ex 2. Dunder methods**\n",
        "https://docs.python.org/3/reference/datamodel.html"
      ],
      "metadata": {
        "id": "HbDdO_iIxpTt"
      }
    },
    {
      "cell_type": "code",
      "source": [
        "class Fraction():\n",
        "  def __init__(self,n,d):\n",
        "    self.num = n\n",
        "    self.den = d\n",
        "\n",
        "  def __mul__(self, other):\n",
        "    m_num = self.num * other.num\n",
        "    m_den = self.den * other.den\n",
        "    return Fraction(m_num,m_den)\n",
        "\n",
        "a = Fraction(1,2)\n",
        "b = Fraction(5,7)\n",
        "print(a * b)"
      ],
      "metadata": {
        "colab": {
          "base_uri": "https://localhost:8080/"
        },
        "id": "d-QqGIMX5_YR",
        "outputId": "1113fa87-f57d-4fc4-f7d9-570f6818b57f"
      },
      "execution_count": 17,
      "outputs": [
        {
          "output_type": "stream",
          "name": "stdout",
          "text": [
            "<__main__.Fraction object at 0x7b6c7c9f1090>\n"
          ]
        }
      ]
    },
    {
      "cell_type": "code",
      "source": [
        "class Fraction():\n",
        "  def __init__(self,n,d):\n",
        "    self.num = n\n",
        "    self.den = d\n",
        "\n",
        "  def __mul__(self, other):\n",
        "    m_num = self.num * other.num\n",
        "    m_den = self.den * other.den\n",
        "    return Fraction(m_num,m_den)\n",
        "\n",
        "  def __str__(self):\n",
        "    return \"<\" + str(self.num) + \"/\" + str(self.den) + \">\"\n",
        "\n",
        "a = Fraction(1,2)\n",
        "b = Fraction(5,7)\n",
        "print(a * b)\n",
        "print(a.__mul__(b))\n",
        "print(Fraction.__mul__(a,b))"
      ],
      "metadata": {
        "colab": {
          "base_uri": "https://localhost:8080/"
        },
        "id": "Enqwu42XxqZk",
        "outputId": "34a16dcd-05f8-4eef-cbbe-034a1a9e9248"
      },
      "execution_count": 16,
      "outputs": [
        {
          "output_type": "stream",
          "name": "stdout",
          "text": [
            "<5/14>\n",
            "<5/14>\n",
            "<5/14>\n"
          ]
        }
      ]
    },
    {
      "cell_type": "code",
      "source": [
        "class Fraction():\n",
        "  def __init__(self,n,d):\n",
        "    self.num = n\n",
        "    self.den = d\n",
        "\n",
        "  def __mul__(self, other):\n",
        "    m_num = self.num * other.num\n",
        "    m_den = self.den * other.den\n",
        "    return Fraction(m_num,m_den)\n",
        "\n",
        "  def __str__(self):\n",
        "    return \"<\" + str(self.num) + \"/\" + str(self.den) + \">\"\n",
        "\n",
        "  def __float__(self):\n",
        "    return self.num/self.den\n",
        "\n",
        "a = Fraction(1,2)\n",
        "b = Fraction(5,7)\n",
        "c = a * b\n",
        "print(c)\n",
        "print(type(c))\n",
        "print(float(c))"
      ],
      "metadata": {
        "colab": {
          "base_uri": "https://localhost:8080/"
        },
        "id": "Dt4XAGOny7hv",
        "outputId": "be5d6121-251c-4a41-ee0a-b355b6835723"
      },
      "execution_count": 18,
      "outputs": [
        {
          "output_type": "stream",
          "name": "stdout",
          "text": [
            "<5/14>\n",
            "<class '__main__.Fraction'>\n",
            "0.35714285714285715\n"
          ]
        }
      ]
    },
    {
      "cell_type": "code",
      "source": [
        "class Text:\n",
        "  def __init__(self, text: str) -> None:\n",
        "    self.text = text\n",
        "\n",
        "  def __format__(self, format_spec: str) -> str:\n",
        "    match format_spec:\n",
        "      case 'upper':\n",
        "        return self.text.upper()\n",
        "\n",
        "      case 'lower':\n",
        "        return self.text.lower()\n",
        "\n",
        "      case 'count':\n",
        "        return str(len(self.text))\n",
        "\n",
        "      case _:\n",
        "        raise ValueError(f'Format specifier \"{format_spec}\" does not exist')\n",
        "\n",
        "txt: Text = Text('Python')\n",
        "print(f'{txt:upper}')\n",
        "print(f'{txt:lower}')\n",
        "print(f'{txt:count}')\n",
        "print(f'{txt:undescore}')"
      ],
      "metadata": {
        "id": "brIREIu1yBc-"
      },
      "execution_count": null,
      "outputs": []
    },
    {
      "cell_type": "markdown",
      "source": [
        "**Ex 3. Hermetyzacja**"
      ],
      "metadata": {
        "id": "ymqqqEyFromy"
      }
    },
    {
      "cell_type": "code",
      "source": [
        "class Encapsulation:\n",
        "    def __init__(self):\n",
        "        self.public, self._protected, self.__private = 1, 2, 3\n",
        "\n",
        "def main():\n",
        "    encapsulation = Encapsulation()\n",
        "    print(encapsulation.public)\n",
        "    print(encapsulation._protected)\n",
        "    print(encapsulation._Encapsulation__private)\n",
        "# a teraz będzie błąd\n",
        "    print(encapsulation.__private)\n",
        "\n",
        "main()\n"
      ],
      "metadata": {
        "id": "0bCSoo_7kkv0"
      },
      "execution_count": null,
      "outputs": []
    },
    {
      "cell_type": "code",
      "source": [
        "class Encapsulation:\n",
        "  def __init__(self):\n",
        "      self.public, self._protected, self.__private = 1, 2, 3\n",
        "\n",
        "  def get_private(self):\n",
        "    return self.__private\n",
        "\n",
        "  def set_private(self,prv):\n",
        "    self.__private = prv\n",
        "\n",
        "  def __str__(self):\n",
        "    return f'{self.__private}'\n",
        "\n",
        "e = Encapsulation()\n",
        "print(e)\n",
        "e.set_private(10)\n",
        "print(e)"
      ],
      "metadata": {
        "colab": {
          "base_uri": "https://localhost:8080/"
        },
        "id": "Es7tmOSrMjoz",
        "outputId": "94f86ced-169e-427a-f22f-c8ff52d314f3"
      },
      "execution_count": 8,
      "outputs": [
        {
          "output_type": "stream",
          "name": "stdout",
          "text": [
            "3\n",
            "10\n"
          ]
        }
      ]
    },
    {
      "cell_type": "markdown",
      "source": [
        "**Ex 4. Pola statyczne. Metody statyczne.**"
      ],
      "metadata": {
        "id": "Vn0BsOPInNDv"
      }
    },
    {
      "cell_type": "code",
      "source": [
        "class Car:\n",
        "    how_many = 0\n",
        "\n",
        "    def __init__(self):\n",
        "        Car.how_many += 1\n",
        "        self.car_number = Car.how_many\n",
        "        print(f\"Number of car is equal to {self.car_number}\")\n",
        "\n",
        "    def __del__(self):\n",
        "        Car.how_many -= 1\n",
        "\n",
        "    @staticmethod\n",
        "    def count_cars():\n",
        "        return Car.how_many\n",
        "\n",
        "car_1 = Car()\n",
        "car_2 = Car()\n",
        "car_3 = Car()\n",
        "print(f\"Total number of cars {Car.count_cars()}\")\n",
        "car_2 = None\n",
        "print(f\"Total number of cars {Car.count_cars()}\")\n"
      ],
      "metadata": {
        "colab": {
          "base_uri": "https://localhost:8080/"
        },
        "id": "GIgLPgUXnXDJ",
        "outputId": "cca304b0-1521-42e0-e98b-5cbc26744ba2"
      },
      "execution_count": null,
      "outputs": [
        {
          "output_type": "stream",
          "name": "stdout",
          "text": [
            "Number of car is equal to 1\n",
            "Number of car is equal to 2\n",
            "Number of car is equal to 3\n",
            "Total number of cars 3\n",
            "Total number of cars 2\n"
          ]
        }
      ]
    },
    {
      "cell_type": "markdown",
      "source": [
        "**Zad 5. Dziedziczenie**"
      ],
      "metadata": {
        "id": "cdByvZ0QnaqG"
      }
    },
    {
      "cell_type": "code",
      "source": [
        "class Person:\n",
        "    def __init__(self,name,surname,age):\n",
        "        self.name = name\n",
        "        self.surname = surname\n",
        "        self.age = age\n",
        "\n",
        "    def hasName(self):\n",
        "        print(\"Has name\")\n",
        "\n",
        "class Student(Person):\n",
        "    def __init__(self,name,surname,age,field_of_study):\n",
        "        super().__init__(name,surname,age)\n",
        "        self.field_of_study = field_of_study\n",
        "\n",
        "    def isStudent(self):\n",
        "        print(\"Is student\")\n",
        "\n",
        "person_1 = Person(\"Tom\",\"Nowak\",25)\n",
        "student_1 = Student(\"Tom\",\"Nowak\",25,\"Informatics\")\n",
        "\n",
        "student_1.hasName()"
      ],
      "metadata": {
        "colab": {
          "base_uri": "https://localhost:8080/"
        },
        "id": "QraRm0dKnuBd",
        "outputId": "4f59ba15-84c7-4485-ce2d-af13cf7a33be"
      },
      "execution_count": null,
      "outputs": [
        {
          "output_type": "stream",
          "name": "stdout",
          "text": [
            "Has name\n"
          ]
        }
      ]
    }
  ]
}